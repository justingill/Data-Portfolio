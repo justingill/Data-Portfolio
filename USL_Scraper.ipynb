{
 "cells": [
  {
   "cell_type": "markdown",
   "metadata": {},
   "source": [
    "# **United Soccer League Scraper** "
   ]
  },
  {
   "cell_type": "markdown",
   "metadata": {},
   "source": [
    "In this project, we will be interested in examining the performance of my local Reno soccer team, [Reno 1868 FC](https://www.reno1868fc.com/). We must first start this project by obtaining the data needed to produce interpretable results. Luckily, the [USL website](https://www.uslsoccer.com/usl-statistics) keeps a very good record of league, team, and player stats which we may scrape for our own analytical use. "
   ]
  },
  {
   "cell_type": "markdown",
   "metadata": {},
   "source": [
    "![](https://www.visitrenotahoe.com/wp-content/uploads/2017/06/Reno1868Blog-1.jpg)"
   ]
  },
  {
   "cell_type": "markdown",
   "metadata": {},
   "source": [
    "## **Import Libraries**"
   ]
  },
  {
   "cell_type": "markdown",
   "metadata": {},
   "source": [
    "Let's start by importing all the libraries we will use for this project."
   ]
  },
  {
   "cell_type": "code",
   "execution_count": 1,
   "metadata": {},
   "outputs": [
    {
     "data": {
      "text/html": [
       "<script>requirejs.config({paths: { 'plotly': ['https://cdn.plot.ly/plotly-latest.min']},});if(!window.Plotly) {{require(['plotly'],function(plotly) {window.Plotly=plotly;});}}</script>"
      ],
      "text/vnd.plotly.v1+html": [
       "<script>requirejs.config({paths: { 'plotly': ['https://cdn.plot.ly/plotly-latest.min']},});if(!window.Plotly) {{require(['plotly'],function(plotly) {window.Plotly=plotly;});}}</script>"
      ]
     },
     "metadata": {},
     "output_type": "display_data"
    }
   ],
   "source": [
    "import seaborn as sns\n",
    "import functools\n",
    "import matplotlib.pyplot as plt\n",
    "import numpy as np \n",
    "import pandas as pd\n",
    "import sqlite3\n",
    "from bs4 import BeautifulSoup\n",
    "from selenium import webdriver\n",
    "from selenium.webdriver.support.ui import WebDriverWait\n",
    "from selenium.webdriver.support import expected_conditions as EC\n",
    "from selenium.webdriver.common.by import By\n",
    "from selenium.common.exceptions import TimeoutException, NoSuchElementException\n",
    "import time\n",
    "import datetime\n",
    "import plotly.offline\n",
    "import plotly\n",
    "import plotly.plotly as py\n",
    "import plotly.graph_objs as go\n",
    "import plotly.dashboard_objs as dashboard\n",
    "import IPython.display\n",
    "from IPython.display import Image\n",
    "#plotly.tools.set_credentials_file(username='justingill', api_key='mS9eejXYe8Z0Jl7CcDo8')\n",
    "#plotly.tools.set_config_file(sharing='public')\n",
    "#py.sign_in('justingill', 'mS9eejXYe8Z0Jl7CcDo8')\n",
    "plotly.offline.init_notebook_mode(connected=True)\n",
    "\n",
    "%matplotlib inline"
   ]
  },
  {
   "cell_type": "markdown",
   "metadata": {},
   "source": [
    "## **Define Functions**"
   ]
  },
  {
   "cell_type": "markdown",
   "metadata": {},
   "source": [
    "We start this project by first defining the necessary functions for scraping and creating our dataframe we wish to work with.\n",
    "* ***get_latest_opponent*** - This will scrape the next opponent Reno 1868 plays and return a dataframe that is merged with both teams\n",
    "\n",
    "* ***check_first_last*** - This will check the player list and make sure that the player has both a first and last name.\n",
    "\n",
    "* ***make_team_df*** - This function will create the dataframe from the soup created by BeautifulSoup and return the dataframe.\n",
    "\n",
    "* ***save_to_SQL*** - This function will clean up the dataframe by creating a new column 'Player',dropping unnecessary columns, replacing placeholder values, correcting data types for columns, setting Player as the index, then saving it to a SQL database.\n",
    "                  \n",
    "* ***scrape_USL*** - This function acts as a 'main' function and encompasses the creating of the data by using a loop of all teams."
   ]
  },
  {
   "cell_type": "markdown",
   "metadata": {},
   "source": [
    "get_latest_opponent visits ESPN's [site](http://www.espn.com/soccer/team/fixtures/_/id/18453/reno-1868-fc) for Reno 1868 and scrapes the matches for Reno 1868's next opponent returning a dataframe with only players from Reno and their opponent."
   ]
  },
  {
   "cell_type": "code",
   "execution_count": 2,
   "metadata": {},
   "outputs": [],
   "source": [
    "def get_latest_opponent(usl):\n",
    "    driver = webdriver.Chrome(executable_path=\"/Users/Justin/Desktop/chromedriver\")\n",
    "    driver.get('http://www.espn.com/soccer/team/fixtures/_/id/18453/reno-1868-fc')\n",
    "    soup2 = BeautifulSoup(driver.page_source,'html.parser')\n",
    "    driver.quit()\n",
    "    opponent = soup2.find(class_='Table2__table-scroller Table2__table').find('tbody').find('tr').find_all('td')[1].get_text(' ').replace(' ','-')\n",
    "    renovs = usl[(usl['Team'] == 'Reno-1868-FC') | (usl['Team'] == str(opponent))]\n",
    "    return renovs"
   ]
  },
  {
   "cell_type": "markdown",
   "metadata": {},
   "source": [
    "check_first_last simply makes sure our dataframe stays the same size by adding a blank first or last name if either is missing."
   ]
  },
  {
   "cell_type": "code",
   "execution_count": 3,
   "metadata": {},
   "outputs": [],
   "source": [
    "def check_first_last(player_list,length):\n",
    "    if player_list == None:\n",
    "        return player_list\n",
    "    if len(player_list) == (length+1):\n",
    "        player_list[1] = ' '.join(player_list[1:3])\n",
    "        del player_list[2]\n",
    "        return player_list\n",
    "    elif len(player_list) == (length-1):\n",
    "        player_list.insert(1,'-')\n",
    "        return player_list\n",
    "    else:\n",
    "        return player_list"
   ]
  },
  {
   "cell_type": "markdown",
   "metadata": {},
   "source": [
    "make_team_df takes in a soup variable which corresponds to a team page, which looks like [this](https://www.uslsoccer.com/reno-1868-fc-player-stats). We scrape the page for the data contained in the 'Full Player Stats' section, merge and return the manipulated dataframe. "
   ]
  },
  {
   "cell_type": "code",
   "execution_count": 4,
   "metadata": {},
   "outputs": [],
   "source": [
    "def make_team_df(soup):\n",
    "    seperations = len(soup.find(class_='Opta-Table-Scroll Opta-Table-Scroll-One-Liner Opta-js-discipline').find_all(role='row'))-1\n",
    "    length_rows = len(soup.find_all(role='row'))\n",
    "\n",
    "    general_columns = ['First','Last','Games Played','Starts','Subbed off','Minutes Played']\n",
    "    distribution_columns = ['First','Last','Passes','Passing Acc','Long Passes','Long Pass Acc',\n",
    "                            'Pass per 90','Forward Passes','Backward Passes','Left Pass',\n",
    "                            'Right Pass','Passing Acc Opponents Half',\n",
    "                            'Passing Acc Own Half','Assists','Key Passes','Crosses','Crossing Acc']\n",
    "    attack_columns = ['First','Last','Shots','Shots on Target','Goals','Right Foot Goals',\n",
    "                      'Left Foot Goals','Heading Goals','Other','Goals In Box','Goals Out Box',\n",
    "                      'Free Kick Goals','Conversion Rate','Mins Per Goal']\n",
    "    defense_columns = ['First','Last','Clears','Blocks','Interceptions','Tackles',\n",
    "                       'Tackles Won','Duels','Duels Won','Air Duels','Air Duels Won']\n",
    "    discipline_columns = ['First','Last','Yellow Cards','Red Cards','Fouls Won','Fouls Conceded']\n",
    "\n",
    "    goalkeeping_columns = ['First','Last','Goals Conceded','Shot At','Saves','Save Rate',\n",
    "                           'Clean Sheets','Catches','Punches','Drops','Penalties Saved','Clearances']\n",
    "    \n",
    "    discipline_df = pd.DataFrame([check_first_last(player.get_text(' ').split(' '),\n",
    "                                len(discipline_columns)) for player in soup.find_all(role='row')[seperations*4+5:seperations*5+5]],\n",
    "                                 columns=discipline_columns)\n",
    "    defense_df = pd.DataFrame([check_first_last(player.get_text(' ').split(' '),\n",
    "                            len(defense_columns)) for player in soup.find_all(role='row')[seperations*3+4:seperations*4+4]],\n",
    "                              columns=defense_columns)\n",
    "    attack_df = pd.DataFrame([check_first_last(player.get_text(' ').split(' '),\n",
    "                            len(attack_columns)) for player in soup.find_all(role='row')[seperations*2+3:seperations*3+3]],\n",
    "                             columns=attack_columns)\n",
    "    distribution_df = pd.DataFrame([check_first_last(player.get_text(' ').split(' '),\n",
    "                                len(distribution_columns)) for player in soup.find_all(role='row')[seperations+2:seperations*2+2]],\n",
    "                                   columns=distribution_columns)\n",
    "    general_df = pd.DataFrame([check_first_last(player.get_text(' ').split(' '),\n",
    "                            len(general_columns)) for player in soup.find_all(role='row')[1:seperations+1]],\n",
    "                             columns=general_columns)\n",
    "    goalkeeping_df = pd.DataFrame([check_first_last(player.get_text(' ').split(' '),\n",
    "                                len(goalkeeping_columns))for player in soup.find_all(role='row')[seperations*5+6:length_rows]],\n",
    "                                 columns=goalkeeping_columns)\n",
    "\n",
    "    df = [general_df,distribution_df,attack_df,defense_df,discipline_df,goalkeeping_df]\n",
    "    df_merge = functools.reduce(lambda left,right: pd.merge(left,right,on=['First','Last'],\n",
    "                                                how='outer'), df).fillna(0)\n",
    "    return df_merge"
   ]
  },
  {
   "cell_type": "markdown",
   "metadata": {},
   "source": [
    "save_to_SQL cleans the passed dataframe and saves it as a new table named after the current date, then returns the cleaned dataframe."
   ]
  },
  {
   "cell_type": "code",
   "execution_count": 5,
   "metadata": {},
   "outputs": [],
   "source": [
    "def save_to_SQL(usl):\n",
    "    usl.replace('-',0,inplace=True)\n",
    "    usl = usl.applymap(lambda x: str(x).replace(',',''))\n",
    "    usl['Player'] = usl['First']+ ' ' + usl['Last']\n",
    "    usl.set_index('Player',drop=True,inplace=True)\n",
    "    usl.drop(['First','Last'],axis=1,inplace=True)\n",
    "\n",
    "    float_types = [e for e in list(usl.columns) if e not in ['Player','Team']]\n",
    "    usl[float_types] = usl[float_types].applymap(lambda x: round(float(x),3))\n",
    "    usl['Subbed on'] = usl['Games Played'] - usl['Starts']\n",
    "    con = sqlite3.connect('USL.sqlite')\n",
    "    usl.to_sql((str(datetime.date.today())),con,if_exists='replace')\n",
    "    return usl"
   ]
  },
  {
   "cell_type": "markdown",
   "metadata": {},
   "source": [
    "scrape_USL acts almost as a 'main' function for the program. It starts up a chrome webdriver using Selenium and proceeds to access the [league standings](https://www.uslsoccer.com/usl-standings). We scrape this page for all the current teams and then store this data away in a list. We can then use this list to visit all the team stats webpages and collect individual data for each player."
   ]
  },
  {
   "cell_type": "code",
   "execution_count": 6,
   "metadata": {},
   "outputs": [],
   "source": [
    "def scrape_USL():\n",
    "    driver = webdriver.Chrome(executable_path=\"/Users/Justin/Desktop/chromedriver\")\n",
    "    driver.get('https://www.uslsoccer.com/usl-standings')\n",
    "    time.sleep(1)\n",
    "    presoup = BeautifulSoup(driver.page_source,'html.parser')\n",
    "    teams = [team.get_text().replace(' ','-') if team.get_text() != 'Pittsburgh Riverhounds SC' else 'Pittsburgh-Riverhounds' for team in presoup.find_all(class_='Opta-TeamLink Opta-Ext')]\n",
    "    url = 'https://www.uslsoccer.com/{}-player-stats'\n",
    "\n",
    "    usl = pd.DataFrame()\n",
    "    \n",
    "    for team in teams:\n",
    "        release = False\n",
    "        while(release == False):\n",
    "            driver.get(url.format(team))\n",
    "            timeout = 10\n",
    "            try:\n",
    "                element_present = EC.visibility_of_element_located((By.CLASS_NAME,\n",
    "                                                                    'Opta-TabbedContent'))\n",
    "                WebDriverWait(driver, timeout).until(element_present)\n",
    "                #time.sleep(2)\n",
    "            except TimeoutException:\n",
    "                print(\"Timed out waiting for {}\".format(team))\n",
    "\n",
    "            try:\n",
    "                soup = BeautifulSoup(driver.page_source,'html5lib')\n",
    "                team_df = make_team_df(soup)\n",
    "                team_df['Team'] = team\n",
    "                usl = pd.concat([usl,team_df],axis=0)\n",
    "                release = True\n",
    "            except:\n",
    "                print(\"{} page did not load correctly, retrying...\".format(team.replace('-',' ')))\n",
    "                release = False\n",
    "\n",
    "    usl = save_to_SQL(usl)\n",
    "    driver.quit()\n",
    "    return usl"
   ]
  },
  {
   "cell_type": "markdown",
   "metadata": {},
   "source": [
    "Let's call our function!"
   ]
  },
  {
   "cell_type": "code",
   "execution_count": null,
   "metadata": {},
   "outputs": [
    {
     "name": "stdout",
     "output_type": "stream",
     "text": [
      "Charleston Battery page did not load correctly, retrying...\n",
      "New York Red Bulls II page did not load correctly, retrying...\n",
      "Indy Eleven page did not load correctly, retrying...\n",
      "Portland Timbers 2 page did not load correctly, retrying...\n",
      "Saint Louis FC page did not load correctly, retrying...\n"
     ]
    }
   ],
   "source": [
    "usl = scrape_USL()"
   ]
  },
  {
   "cell_type": "markdown",
   "metadata": {},
   "source": [
    "Let's check the league dataframe."
   ]
  },
  {
   "cell_type": "code",
   "execution_count": null,
   "metadata": {},
   "outputs": [],
   "source": [
    "usl.head()"
   ]
  },
  {
   "cell_type": "code",
   "execution_count": null,
   "metadata": {},
   "outputs": [],
   "source": [
    "copy_usl = usl"
   ]
  },
  {
   "cell_type": "markdown",
   "metadata": {},
   "source": [
    "Great! We can also check that our SQL database is working correctly."
   ]
  },
  {
   "cell_type": "code",
   "execution_count": null,
   "metadata": {},
   "outputs": [],
   "source": [
    "con = sqlite3.connect('USL.sqlite')\n",
    "usl_read = pd.read_sql_query('Select * from \"{}\"'.format(str(datetime.date.today())),\n",
    "                             con,\n",
    "                             coerce_float=True)\n",
    "con.close()"
   ]
  },
  {
   "cell_type": "code",
   "execution_count": null,
   "metadata": {
    "scrolled": true
   },
   "outputs": [],
   "source": [
    "usl_read.head(5)"
   ]
  },
  {
   "cell_type": "markdown",
   "metadata": {},
   "source": [
    "As we can see, our dataframe reads in correctly."
   ]
  },
  {
   "cell_type": "markdown",
   "metadata": {},
   "source": [
    "## **Reno 1868 EDA**"
   ]
  },
  {
   "cell_type": "markdown",
   "metadata": {},
   "source": [
    "We are interested in comparing Reno 1868 to their next opponent to help us understand statistically how they stack up against one another."
   ]
  },
  {
   "cell_type": "markdown",
   "metadata": {},
   "source": [
    "Let's view some quick statistics about our dataset first."
   ]
  },
  {
   "cell_type": "code",
   "execution_count": null,
   "metadata": {},
   "outputs": [],
   "source": [
    "usl.info()"
   ]
  },
  {
   "cell_type": "code",
   "execution_count": null,
   "metadata": {},
   "outputs": [],
   "source": [
    "usl.describe()"
   ]
  },
  {
   "cell_type": "markdown",
   "metadata": {},
   "source": [
    "We must now get our subset using our function get_latest_opponent. "
   ]
  },
  {
   "cell_type": "code",
   "execution_count": null,
   "metadata": {},
   "outputs": [],
   "source": [
    "renovs = get_latest_opponent(usl)"
   ]
  },
  {
   "cell_type": "markdown",
   "metadata": {},
   "source": [
    "Let's make sure this worked properly!"
   ]
  },
  {
   "cell_type": "code",
   "execution_count": null,
   "metadata": {},
   "outputs": [],
   "source": [
    "renovs['Team'].value_counts()"
   ]
  },
  {
   "cell_type": "markdown",
   "metadata": {},
   "source": [
    "Great! We now have our two teams."
   ]
  },
  {
   "cell_type": "markdown",
   "metadata": {},
   "source": [
    "We can now look at some of the more important statistics(displayed below) in soccer and see the differences between the two teams."
   ]
  },
  {
   "cell_type": "code",
   "execution_count": null,
   "metadata": {},
   "outputs": [],
   "source": [
    "compare = pd.concat([renovs[['Goals','Assists','Crosses','Key Passes','Interceptions',\n",
    "                             'Clearances','Team','Shots on Target','Shots','Tackles']].groupby('Team').sum().transpose(),\n",
    "           renovs[['Conversion Rate','Team','Passing Acc']].groupby('Team').mean().transpose()],axis=0)\n",
    "compare.applymap(lambda x: round(x,2))"
   ]
  },
  {
   "cell_type": "markdown",
   "metadata": {},
   "source": [
    "## **Visualizations using Plotly**"
   ]
  },
  {
   "cell_type": "markdown",
   "metadata": {},
   "source": [
    "We now want to visualize our data to help us get a better understanding of the individual team differences. We can use the plotly library to help us plot these.  "
   ]
  },
  {
   "cell_type": "code",
   "execution_count": null,
   "metadata": {},
   "outputs": [],
   "source": [
    "opponent = (compare.columns).drop('Reno-1868-FC')"
   ]
  },
  {
   "cell_type": "markdown",
   "metadata": {},
   "source": [
    "Let's first plot out our previous table and look at it."
   ]
  },
  {
   "cell_type": "code",
   "execution_count": null,
   "metadata": {
    "scrolled": true
   },
   "outputs": [],
   "source": [
    "data  = [\n",
    "        go.Bar(\n",
    "    y = compare.index,\n",
    "    x = compare['Reno-1868-FC'],\n",
    "    orientation='h',\n",
    "    marker=dict(color='#0c13a8'),\n",
    "    name='Reno 1868 FC'),\n",
    "    \n",
    "         go.Bar(\n",
    "    y = compare.index,\n",
    "    x = compare[opponent[0]],\n",
    "    orientation='h',\n",
    "    marker=dict(color='#FF0033'),\n",
    "    name=opponent[0].replace('-',' '))\n",
    "]\n",
    "\n",
    "layout = go.Layout(\n",
    "        title = 'Reno 1868 vs. '+ opponent[0].replace('-',' '),\n",
    "        margin = go.layout.Margin(l=110)\n",
    ")\n",
    "\n",
    "fig  = go.Figure(data=data,layout=layout)\n",
    "# url_1 = py.plot(fig,auto_open=False)\n",
    "# py.iplot(fig)\n",
    "plotly.offline.iplot(fig)"
   ]
  },
  {
   "cell_type": "markdown",
   "metadata": {},
   "source": [
    "Next, let's now look at the individual scorers and assisters on Reno 1868."
   ]
  },
  {
   "cell_type": "code",
   "execution_count": null,
   "metadata": {},
   "outputs": [],
   "source": [
    "data  = [\n",
    "        go.Bar(\n",
    "    y = renovs[(renovs['Team'] == 'Reno-1868-FC') & (renovs['Goals'] > 0)]['Goals'].sort_values(ascending=True).index,\n",
    "    x = renovs[(renovs['Team'] == 'Reno-1868-FC') & (renovs['Goals'] > 0)]['Goals'].sort_values(ascending=True),\n",
    "    orientation='h',\n",
    "    marker=dict(color='#0c13a8'),\n",
    "    name='Goals'),\n",
    "    \n",
    "        go.Bar(\n",
    "    y = renovs[(renovs['Team'] == 'Reno-1868-FC') & (renovs['Assists'] > 0)]['Assists'].sort_values(ascending=True).index,\n",
    "    x = renovs[(renovs['Team'] == 'Reno-1868-FC') & (renovs['Assists'] > 0)]['Assists'].sort_values(ascending=True),\n",
    "    orientation='h',\n",
    "    marker=dict(color='#fe6604'),\n",
    "    name='Assists')\n",
    "]\n",
    "\n",
    "layout = go.Layout(\n",
    "        title = 'Reno 1868 Scorers & Assisters',\n",
    "        xaxis = dict(title='Total Goals & Assists'),\n",
    "        barmode='stack',\n",
    "        margin = go.layout.Margin(l=140),\n",
    "        autosize=True\n",
    "\n",
    ")\n",
    "\n",
    "fig  = go.Figure(data=data, layout=layout)\n",
    "# url_2 = py.plot(fig,auto_open=False)\n",
    "# py.iplot(fig)\n",
    "plotly.offline.iplot(fig)"
   ]
  },
  {
   "cell_type": "markdown",
   "metadata": {},
   "source": [
    "Let's do the same for the opponent's team."
   ]
  },
  {
   "cell_type": "code",
   "execution_count": null,
   "metadata": {},
   "outputs": [],
   "source": [
    "data  = [\n",
    "        go.Bar(\n",
    "    y = renovs[(renovs['Team'] == opponent[0]) & (renovs['Goals'] > 0)]['Goals'].sort_values(ascending=True).index,\n",
    "    x = renovs[(renovs['Team'] == opponent[0]) & (renovs['Goals'] > 0)]['Goals'].sort_values(ascending=True),\n",
    "    orientation='h',\n",
    "    marker=dict(color='#FF0033'),\n",
    "    name='Goals'),\n",
    "    \n",
    "        go.Bar(\n",
    "    y = renovs[(renovs['Team'] == opponent[0]) & (renovs['Assists'] > 0)]['Assists'].sort_values(ascending=True).index,\n",
    "    x = renovs[(renovs['Team'] == opponent[0]) & (renovs['Assists'] > 0)]['Assists'].sort_values(ascending=True),\n",
    "    orientation='h',\n",
    "    marker=dict(color='#9A03FE'),\n",
    "    name='Assists')\n",
    "]\n",
    "\n",
    "layout = go.Layout(\n",
    "        title = opponent[0].replace('-',' ') + ' Scorers & Assisters',\n",
    "        xaxis = dict(title='Total Goals & Assists'),\n",
    "        barmode='stack',\n",
    "        margin = go.layout.Margin(l=140),\n",
    "        autosize=True\n",
    ")\n",
    "\n",
    "fig  = go.Figure(data=data, layout=layout)\n",
    "# url_3 = py.plot(fig,auto_open=False)\n",
    "# py.iplot(fig)\n",
    "plotly.offline.iplot(fig)"
   ]
  },
  {
   "cell_type": "markdown",
   "metadata": {},
   "source": [
    "## **Plotly Dashboard**"
   ]
  },
  {
   "cell_type": "markdown",
   "metadata": {},
   "source": [
    "We can also make this into an updated dashboard every time we run our notebook. Unfortunately, I was not able to get this working, particularly due to incompatible versions of libraries. Though it does not work currently, this code would produce a dashboard on my personal Plotly account. I will leave this here just to show my thought process on other things I can do with this project!"
   ]
  },
  {
   "cell_type": "code",
   "execution_count": null,
   "metadata": {},
   "outputs": [],
   "source": [
    "# my_dboard = dashboard.Dashboard()"
   ]
  },
  {
   "cell_type": "code",
   "execution_count": null,
   "metadata": {},
   "outputs": [],
   "source": [
    "# my_dboard.get_preview()"
   ]
  },
  {
   "cell_type": "code",
   "execution_count": null,
   "metadata": {},
   "outputs": [],
   "source": [
    "'''\n",
    "import re\n",
    "\n",
    "def fileId_from_url(url):\n",
    "    raw_fileId = re.findall(\"~[A-z]+/[0-9]+\", url)[0][1:]\n",
    "    return str(raw_fileId).replace('/', ':')\n",
    "\n",
    "def sharekey_from_url(url):\n",
    "    if 'share_key=' not in url:\n",
    "        return \"This url is not 'sercret'. It does not have a secret key.\"\n",
    "    return url[url.find('share_key=') + len('share_key='):]\n",
    "\n",
    "fileId_1 = fileId_from_url(url_1)\n",
    "fileId_2 = fileId_from_url(url_2)\n",
    "fileId_3 = fileId_from_url(url_3)\n",
    "print(fileId_1)\n",
    "print(fileId_2)\n",
    "print(fileId_3)\n",
    "\n",
    "box_a = {\n",
    "    'type': 'box',\n",
    "    'boxType': 'plot',\n",
    "    'fileId': fileId_1,\n",
    "    'title': 'Reno 1868 vs. ' + str(opponent).replace('-',' ')\n",
    "}\n",
    "box_b = {\n",
    "    'type': 'box',\n",
    "    'boxType': 'plot',\n",
    "    'fileID': fileId_2,\n",
    "    'title':  'Reno 1868 Top Scorers & Assisters'\n",
    "}\n",
    "box_c = {\n",
    "    'type': 'box',\n",
    "    'boxType': 'plot',\n",
    "    'fileID': fileId_3,\n",
    "    'title':  str(opponent).replace('-',' ') + ' Top Scorers & Assisters'\n",
    "}\n",
    "'''"
   ]
  },
  {
   "cell_type": "code",
   "execution_count": null,
   "metadata": {},
   "outputs": [],
   "source": [
    "# my_dboard['settings']['title'] = 'Reno 1868'"
   ]
  },
  {
   "cell_type": "code",
   "execution_count": null,
   "metadata": {},
   "outputs": [],
   "source": [
    "# my_dboard['settings']['logoUrl'] = 'https://media.graytvinc.com/images/810*954/1868-SOCCER-KIT.jpg'"
   ]
  },
  {
   "cell_type": "code",
   "execution_count": null,
   "metadata": {},
   "outputs": [],
   "source": [
    "# my_dboard.insert(box_a)"
   ]
  },
  {
   "cell_type": "code",
   "execution_count": null,
   "metadata": {},
   "outputs": [],
   "source": [
    "# my_dboard.insert(box_b,'above',1)"
   ]
  },
  {
   "cell_type": "code",
   "execution_count": null,
   "metadata": {},
   "outputs": [],
   "source": [
    "# my_dboard.insert(box_c,'right',1)"
   ]
  },
  {
   "cell_type": "code",
   "execution_count": null,
   "metadata": {},
   "outputs": [],
   "source": [
    "# py.dashboard_ops.upload(my_dboard, 'Reno 1868 Dashboard',sharing='public',auto_open=True)"
   ]
  }
 ],
 "metadata": {
  "kernelspec": {
   "display_name": "Python 3",
   "language": "python",
   "name": "python3"
  },
  "language_info": {
   "codemirror_mode": {
    "name": "ipython",
    "version": 3
   },
   "file_extension": ".py",
   "mimetype": "text/x-python",
   "name": "python",
   "nbconvert_exporter": "python",
   "pygments_lexer": "ipython3",
   "version": "3.6.6"
  }
 },
 "nbformat": 4,
 "nbformat_minor": 2
}
