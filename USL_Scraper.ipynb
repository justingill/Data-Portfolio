{
 "cells": [
  {
   "cell_type": "markdown",
   "metadata": {},
   "source": [
    "# **United Soccer League Scraper** "
   ]
  },
  {
   "cell_type": "markdown",
   "metadata": {},
   "source": [
    "In this project, we will be interested in examining the performance of my local Reno soccer team, [Reno 1868 FC](https://www.reno1868fc.com/). We must first start this project by obtaining the data needed to produce interpretable results. Luckily, the [USL website](https://www.uslsoccer.com/usl-statistics) keeps a very good record of league, team, and player stats which we may scrape for our own analytical use. "
   ]
  },
  {
   "cell_type": "markdown",
   "metadata": {},
   "source": [
    "![](https://www.visitrenotahoe.com/wp-content/uploads/2017/06/Reno1868Blog-1.jpg)"
   ]
  },
  {
   "cell_type": "markdown",
   "metadata": {},
   "source": [
    "## **Import Libraries**"
   ]
  },
  {
   "cell_type": "markdown",
   "metadata": {},
   "source": [
    "Let's start by importing all the libraries we will use for this project."
   ]
  },
  {
   "cell_type": "code",
   "execution_count": 1,
   "metadata": {},
   "outputs": [
    {
     "data": {
      "text/html": [
       "<script>requirejs.config({paths: { 'plotly': ['https://cdn.plot.ly/plotly-latest.min']},});if(!window.Plotly) {{require(['plotly'],function(plotly) {window.Plotly=plotly;});}}</script>"
      ],
      "text/vnd.plotly.v1+html": [
       "<script>requirejs.config({paths: { 'plotly': ['https://cdn.plot.ly/plotly-latest.min']},});if(!window.Plotly) {{require(['plotly'],function(plotly) {window.Plotly=plotly;});}}</script>"
      ]
     },
     "metadata": {},
     "output_type": "display_data"
    }
   ],
   "source": [
    "import seaborn as sns\n",
    "import functools\n",
    "import matplotlib.pyplot as plt\n",
    "import numpy as np \n",
    "import pandas as pd\n",
    "import sqlite3\n",
    "from bs4 import BeautifulSoup\n",
    "from selenium import webdriver\n",
    "from selenium.webdriver.support.ui import WebDriverWait\n",
    "from selenium.webdriver.support import expected_conditions as EC\n",
    "from selenium.webdriver.common.by import By\n",
    "from selenium.common.exceptions import TimeoutException, NoSuchElementException\n",
    "import time\n",
    "import datetime\n",
    "import plotly.offline\n",
    "import plotly\n",
    "import plotly.plotly as py\n",
    "import plotly.graph_objs as go\n",
    "import plotly.dashboard_objs as dashboard\n",
    "import IPython.display\n",
    "from IPython.display import Image\n",
    "#plotly.tools.set_credentials_file(username='justingill', api_key='mS9eejXYe8Z0Jl7CcDo8')\n",
    "#plotly.tools.set_config_file(sharing='public')\n",
    "#py.sign_in('justingill', 'mS9eejXYe8Z0Jl7CcDo8')\n",
    "plotly.offline.init_notebook_mode(connected=True)\n",
    "\n",
    "%matplotlib inline"
   ]
  },
  {
   "cell_type": "markdown",
   "metadata": {},
   "source": [
    "## **Define Functions**"
   ]
  },
  {
   "cell_type": "markdown",
   "metadata": {},
   "source": [
    "We start this project by first defining the necessary functions for scraping and creating our dataframe we wish to work with.\n",
    "* ***get_latest_opponent*** - This will scrape the next opponent Reno 1868 plays and return a dataframe that is merged with both teams\n",
    "\n",
    "* ***check_first_last*** - This will check the player list and make sure that the player has both a first and last name.\n",
    "\n",
    "* ***make_team_df*** - This function will create the dataframe from the soup created by BeautifulSoup and return the dataframe.\n",
    "\n",
    "* ***save_to_SQL*** - This function will clean up the dataframe by creating a new column 'Player',dropping unnecessary columns, replacing placeholder values, correcting data types for columns, setting Player as the index, then saving it to a SQL database.\n",
    "                  \n",
    "* ***scrape_USL*** - This function acts as a 'main' function and encompasses the creating of the data by using a loop of all teams."
   ]
  },
  {
   "cell_type": "markdown",
   "metadata": {},
   "source": [
    "get_latest_opponent visits ESPN's [site](http://www.espn.com/soccer/team/fixtures/_/id/18453/reno-1868-fc) for Reno 1868 and scrapes the matches for Reno 1868's next opponent returning a dataframe with only players from Reno and their opponent."
   ]
  },
  {
   "cell_type": "code",
   "execution_count": 2,
   "metadata": {},
   "outputs": [],
   "source": [
    "def get_latest_opponent(usl):\n",
    "    driver = webdriver.Chrome(executable_path=\"/Users/Justin/Desktop/chromedriver\")\n",
    "    driver.get('http://www.espn.com/soccer/team/fixtures/_/id/18453/reno-1868-fc')\n",
    "    soup2 = BeautifulSoup(driver.page_source,'html.parser')\n",
    "    driver.quit()\n",
    "    opponent = soup2.find(class_='Table2__table-scroller Table2__table').find('tbody').find('tr').find_all('td')[1].get_text(' ').replace(' ','-')\n",
    "    renovs = usl[(usl['Team'] == 'Reno-1868-FC') | (usl['Team'] == str(opponent))]\n",
    "    return renovs"
   ]
  },
  {
   "cell_type": "markdown",
   "metadata": {},
   "source": [
    "check_first_last simply makes sure our dataframe stays the same size by adding a blank first or last name if either is missing."
   ]
  },
  {
   "cell_type": "code",
   "execution_count": 3,
   "metadata": {},
   "outputs": [],
   "source": [
    "def check_first_last(player_list,length):\n",
    "    if player_list == None:\n",
    "        return player_list\n",
    "    if len(player_list) == (length+1):\n",
    "        player_list[1] = ' '.join(player_list[1:3])\n",
    "        del player_list[2]\n",
    "        return player_list\n",
    "    elif len(player_list) == (length-1):\n",
    "        player_list.insert(1,'-')\n",
    "        return player_list\n",
    "    else:\n",
    "        return player_list"
   ]
  },
  {
   "cell_type": "markdown",
   "metadata": {},
   "source": [
    "make_team_df takes in a soup variable which corresponds to a team page, which looks like [this](https://www.uslsoccer.com/reno-1868-fc-player-stats). We scrape the page for the data contained in the 'Full Player Stats' section, merge and return the manipulated dataframe. "
   ]
  },
  {
   "cell_type": "code",
   "execution_count": 4,
   "metadata": {},
   "outputs": [],
   "source": [
    "def make_team_df(soup):\n",
    "    seperations = len(soup.find(class_='Opta-Table-Scroll Opta-Table-Scroll-One-Liner Opta-js-discipline').find_all(role='row'))-1\n",
    "    length_rows = len(soup.find_all(role='row'))\n",
    "\n",
    "    general_columns = ['First','Last','Games Played','Starts','Subbed off','Minutes Played']\n",
    "    distribution_columns = ['First','Last','Passes','Passing Acc','Long Passes','Long Pass Acc',\n",
    "                            'Pass per 90','Forward Passes','Backward Passes','Left Pass',\n",
    "                            'Right Pass','Passing Acc Opponents Half',\n",
    "                            'Passing Acc Own Half','Assists','Key Passes','Crosses','Crossing Acc']\n",
    "    attack_columns = ['First','Last','Shots','Shots on Target','Goals','Right Foot Goals',\n",
    "                      'Left Foot Goals','Heading Goals','Other','Goals In Box','Goals Out Box',\n",
    "                      'Free Kick Goals','Conversion Rate','Mins Per Goal']\n",
    "    defense_columns = ['First','Last','Clears','Blocks','Interceptions','Tackles',\n",
    "                       'Tackles Won','Duels','Duels Won','Air Duels','Air Duels Won']\n",
    "    discipline_columns = ['First','Last','Yellow Cards','Red Cards','Fouls Won','Fouls Conceded']\n",
    "\n",
    "    goalkeeping_columns = ['First','Last','Goals Conceded','Shot At','Saves','Save Rate',\n",
    "                           'Clean Sheets','Catches','Punches','Drops','Penalties Saved','Clearances']\n",
    "    \n",
    "    discipline_df = pd.DataFrame([check_first_last(player.get_text(' ').split(' '),len(discipline_columns)) for player in soup.find_all(role='row')[seperations*4+5:seperations*5+5]],\n",
    "                                 columns=discipline_columns)\n",
    "    defense_df = pd.DataFrame([check_first_last(player.get_text(' ').split(' '),len(defense_columns)) for player in soup.find_all(role='row')[seperations*3+4:seperations*4+4]],\n",
    "                              columns=defense_columns)\n",
    "    attack_df = pd.DataFrame([check_first_last(player.get_text(' ').split(' '),len(attack_columns)) for player in soup.find_all(role='row')[seperations*2+3:seperations*3+3]],\n",
    "                             columns=attack_columns)\n",
    "    distribution_df = pd.DataFrame([check_first_last(player.get_text(' ').split(' '),len(distribution_columns)) for player in soup.find_all(role='row')[seperations+2:seperations*2+2]],\n",
    "                                   columns=distribution_columns)\n",
    "    general_df = pd.DataFrame([check_first_last(player.get_text(' ').split(' '),len(general_columns)) for player in soup.find_all(role='row')[1:seperations+1]],\n",
    "                             columns=general_columns)\n",
    "    goalkeeping_df = pd.DataFrame([check_first_last(player.get_text(' ').split(' '),len(goalkeeping_columns))for player in soup.find_all(role='row')[seperations*5+6:length_rows]],\n",
    "                                 columns=goalkeeping_columns)\n",
    "\n",
    "    df = [general_df,distribution_df,attack_df,defense_df,discipline_df,goalkeeping_df]\n",
    "    df_merge = functools.reduce(lambda left,right: pd.merge(left,right,on=['First','Last'],\n",
    "                                                how='outer'), df).fillna(0)\n",
    "    return df_merge"
   ]
  },
  {
   "cell_type": "markdown",
   "metadata": {},
   "source": [
    "save_to_SQL cleans the passed dataframe and saves it as a new table named after the current date, then returns the cleaned dataframe."
   ]
  },
  {
   "cell_type": "code",
   "execution_count": 5,
   "metadata": {},
   "outputs": [],
   "source": [
    "def save_to_SQL(usl):\n",
    "    usl.replace('-',0,inplace=True)\n",
    "    usl = usl.applymap(lambda x: str(x).replace(',',''))\n",
    "    usl['Player'] = usl['First']+ ' ' + usl['Last']\n",
    "    usl.set_index('Player',drop=True,inplace=True)\n",
    "    usl.drop(['First','Last'],axis=1,inplace=True)\n",
    "\n",
    "    float_types = [e for e in list(usl.columns) if e not in ['Player','Team']]\n",
    "    usl[float_types] = usl[float_types].applymap(lambda x: round(float(x),3))\n",
    "    usl['Subbed on'] = usl['Games Played'] - usl['Starts']\n",
    "    con = sqlite3.connect('USL.sqlite')\n",
    "    usl.to_sql((str(datetime.date.today())),con,if_exists='replace')\n",
    "    return usl"
   ]
  },
  {
   "cell_type": "markdown",
   "metadata": {},
   "source": [
    "scrape_USL acts almost as a 'main' function for the program. It starts up a chrome webdriver using Selenium and proceeds to access the [league standings](https://www.uslsoccer.com/usl-standings). We scrape this page for all the current teams and then store this data away in a list. We can then use this list to visit all the team stats webpages and collect individual data for each player."
   ]
  },
  {
   "cell_type": "code",
   "execution_count": 6,
   "metadata": {},
   "outputs": [],
   "source": [
    "def scrape_USL():\n",
    "    driver = webdriver.Chrome(executable_path=\"/Users/Justin/Desktop/chromedriver\")\n",
    "    driver.get('https://www.uslsoccer.com/usl-standings')\n",
    "    time.sleep(1)\n",
    "    presoup = BeautifulSoup(driver.page_source,'html.parser')\n",
    "    teams = [team.get_text().replace(' ','-') if team.get_text() != 'Pittsburgh Riverhounds SC' else 'Pittsburgh-Riverhounds' for team in presoup.find_all(class_='Opta-TeamLink Opta-Ext')]\n",
    "    url = 'https://www.uslsoccer.com/{}-player-stats'\n",
    "\n",
    "    usl = pd.DataFrame()\n",
    "    \n",
    "    for team in teams:\n",
    "        soup = None\n",
    "        while(soup == None):\n",
    "            driver.get(url.format(team))\n",
    "            timeout = 10\n",
    "            try:\n",
    "                element_present = EC.visibility_of_element_located((By.CLASS_NAME, 'Opta-TabbedContent'))\n",
    "                WebDriverWait(driver, timeout).until(element_present)\n",
    "                time.sleep(2)\n",
    "            except TimeoutException:\n",
    "                print(\"Timed out waiting for {}\".format(team))\n",
    "\n",
    "            soup = BeautifulSoup(driver.page_source,'html5lib')\n",
    "\n",
    "        team_df = make_team_df(soup)\n",
    "        team_df['Team'] = team\n",
    "        usl = pd.concat([usl,team_df],axis=0)\n",
    "\n",
    "    usl = save_to_SQL(usl)\n",
    "    driver.quit()\n",
    "    return usl"
   ]
  },
  {
   "cell_type": "markdown",
   "metadata": {},
   "source": [
    "Let's call our function!"
   ]
  },
  {
   "cell_type": "code",
   "execution_count": 7,
   "metadata": {},
   "outputs": [
    {
     "name": "stderr",
     "output_type": "stream",
     "text": [
      "C:\\Users\\Justin\\Anaconda3\\lib\\site-packages\\pandas\\core\\generic.py:1534: UserWarning:\n",
      "\n",
      "The spaces in these column names will not be changed. In pandas versions < 0.14, spaces were converted to underscores.\n",
      "\n"
     ]
    }
   ],
   "source": [
    "usl = scrape_USL()"
   ]
  },
  {
   "cell_type": "markdown",
   "metadata": {},
   "source": [
    "Let's check the league dataframe."
   ]
  },
  {
   "cell_type": "code",
   "execution_count": 8,
   "metadata": {},
   "outputs": [
    {
     "data": {
      "text/html": [
       "<div>\n",
       "<style scoped>\n",
       "    .dataframe tbody tr th:only-of-type {\n",
       "        vertical-align: middle;\n",
       "    }\n",
       "\n",
       "    .dataframe tbody tr th {\n",
       "        vertical-align: top;\n",
       "    }\n",
       "\n",
       "    .dataframe thead th {\n",
       "        text-align: right;\n",
       "    }\n",
       "</style>\n",
       "<table border=\"1\" class=\"dataframe\">\n",
       "  <thead>\n",
       "    <tr style=\"text-align: right;\">\n",
       "      <th></th>\n",
       "      <th>Games Played</th>\n",
       "      <th>Starts</th>\n",
       "      <th>Subbed off</th>\n",
       "      <th>Minutes Played</th>\n",
       "      <th>Passes</th>\n",
       "      <th>Passing Acc</th>\n",
       "      <th>Long Passes</th>\n",
       "      <th>Long Pass Acc</th>\n",
       "      <th>Pass per 90</th>\n",
       "      <th>Forward Passes</th>\n",
       "      <th>...</th>\n",
       "      <th>Saves</th>\n",
       "      <th>Save Rate</th>\n",
       "      <th>Clean Sheets</th>\n",
       "      <th>Catches</th>\n",
       "      <th>Punches</th>\n",
       "      <th>Drops</th>\n",
       "      <th>Penalties Saved</th>\n",
       "      <th>Clearances</th>\n",
       "      <th>Team</th>\n",
       "      <th>Subbed on</th>\n",
       "    </tr>\n",
       "    <tr>\n",
       "      <th>Player</th>\n",
       "      <th></th>\n",
       "      <th></th>\n",
       "      <th></th>\n",
       "      <th></th>\n",
       "      <th></th>\n",
       "      <th></th>\n",
       "      <th></th>\n",
       "      <th></th>\n",
       "      <th></th>\n",
       "      <th></th>\n",
       "      <th></th>\n",
       "      <th></th>\n",
       "      <th></th>\n",
       "      <th></th>\n",
       "      <th></th>\n",
       "      <th></th>\n",
       "      <th></th>\n",
       "      <th></th>\n",
       "      <th></th>\n",
       "      <th></th>\n",
       "      <th></th>\n",
       "    </tr>\n",
       "  </thead>\n",
       "  <tbody>\n",
       "    <tr>\n",
       "      <th>Blake Smith</th>\n",
       "      <td>30.0</td>\n",
       "      <td>28.0</td>\n",
       "      <td>3.0</td>\n",
       "      <td>2492.0</td>\n",
       "      <td>1270.0</td>\n",
       "      <td>80.3</td>\n",
       "      <td>178.0</td>\n",
       "      <td>51.1</td>\n",
       "      <td>45.9</td>\n",
       "      <td>544.0</td>\n",
       "      <td>...</td>\n",
       "      <td>0.0</td>\n",
       "      <td>0.0</td>\n",
       "      <td>0.0</td>\n",
       "      <td>0.0</td>\n",
       "      <td>0.0</td>\n",
       "      <td>0.0</td>\n",
       "      <td>0.0</td>\n",
       "      <td>0.0</td>\n",
       "      <td>FC-Cincinnati</td>\n",
       "      <td>2.0</td>\n",
       "    </tr>\n",
       "    <tr>\n",
       "      <th>Corben Bone</th>\n",
       "      <td>32.0</td>\n",
       "      <td>30.0</td>\n",
       "      <td>10.0</td>\n",
       "      <td>2600.0</td>\n",
       "      <td>1406.0</td>\n",
       "      <td>83.8</td>\n",
       "      <td>94.0</td>\n",
       "      <td>66.0</td>\n",
       "      <td>48.7</td>\n",
       "      <td>345.0</td>\n",
       "      <td>...</td>\n",
       "      <td>0.0</td>\n",
       "      <td>0.0</td>\n",
       "      <td>0.0</td>\n",
       "      <td>0.0</td>\n",
       "      <td>0.0</td>\n",
       "      <td>0.0</td>\n",
       "      <td>0.0</td>\n",
       "      <td>0.0</td>\n",
       "      <td>FC-Cincinnati</td>\n",
       "      <td>2.0</td>\n",
       "    </tr>\n",
       "    <tr>\n",
       "      <th>Daniel Haber</th>\n",
       "      <td>17.0</td>\n",
       "      <td>5.0</td>\n",
       "      <td>5.0</td>\n",
       "      <td>490.0</td>\n",
       "      <td>158.0</td>\n",
       "      <td>72.2</td>\n",
       "      <td>12.0</td>\n",
       "      <td>16.7</td>\n",
       "      <td>29.0</td>\n",
       "      <td>46.0</td>\n",
       "      <td>...</td>\n",
       "      <td>0.0</td>\n",
       "      <td>0.0</td>\n",
       "      <td>0.0</td>\n",
       "      <td>0.0</td>\n",
       "      <td>0.0</td>\n",
       "      <td>0.0</td>\n",
       "      <td>0.0</td>\n",
       "      <td>0.0</td>\n",
       "      <td>FC-Cincinnati</td>\n",
       "      <td>12.0</td>\n",
       "    </tr>\n",
       "    <tr>\n",
       "      <th>Danni Konig</th>\n",
       "      <td>28.0</td>\n",
       "      <td>17.0</td>\n",
       "      <td>14.0</td>\n",
       "      <td>1558.0</td>\n",
       "      <td>331.0</td>\n",
       "      <td>63.7</td>\n",
       "      <td>5.0</td>\n",
       "      <td>20.0</td>\n",
       "      <td>19.1</td>\n",
       "      <td>60.0</td>\n",
       "      <td>...</td>\n",
       "      <td>0.0</td>\n",
       "      <td>0.0</td>\n",
       "      <td>0.0</td>\n",
       "      <td>0.0</td>\n",
       "      <td>0.0</td>\n",
       "      <td>0.0</td>\n",
       "      <td>0.0</td>\n",
       "      <td>0.0</td>\n",
       "      <td>FC-Cincinnati</td>\n",
       "      <td>11.0</td>\n",
       "    </tr>\n",
       "    <tr>\n",
       "      <th>Dekel Keinan</th>\n",
       "      <td>22.0</td>\n",
       "      <td>22.0</td>\n",
       "      <td>1.0</td>\n",
       "      <td>1926.0</td>\n",
       "      <td>863.0</td>\n",
       "      <td>80.6</td>\n",
       "      <td>154.0</td>\n",
       "      <td>44.2</td>\n",
       "      <td>40.3</td>\n",
       "      <td>380.0</td>\n",
       "      <td>...</td>\n",
       "      <td>0.0</td>\n",
       "      <td>0.0</td>\n",
       "      <td>0.0</td>\n",
       "      <td>0.0</td>\n",
       "      <td>0.0</td>\n",
       "      <td>0.0</td>\n",
       "      <td>0.0</td>\n",
       "      <td>0.0</td>\n",
       "      <td>FC-Cincinnati</td>\n",
       "      <td>0.0</td>\n",
       "    </tr>\n",
       "  </tbody>\n",
       "</table>\n",
       "<p>5 rows × 56 columns</p>\n",
       "</div>"
      ],
      "text/plain": [
       "              Games Played  Starts  Subbed off  Minutes Played  Passes  \\\n",
       "Player                                                                   \n",
       "Blake Smith           30.0    28.0         3.0          2492.0  1270.0   \n",
       "Corben Bone           32.0    30.0        10.0          2600.0  1406.0   \n",
       "Daniel Haber          17.0     5.0         5.0           490.0   158.0   \n",
       "Danni Konig           28.0    17.0        14.0          1558.0   331.0   \n",
       "Dekel Keinan          22.0    22.0         1.0          1926.0   863.0   \n",
       "\n",
       "              Passing Acc  Long Passes  Long Pass Acc  Pass per 90  \\\n",
       "Player                                                               \n",
       "Blake Smith          80.3        178.0           51.1         45.9   \n",
       "Corben Bone          83.8         94.0           66.0         48.7   \n",
       "Daniel Haber         72.2         12.0           16.7         29.0   \n",
       "Danni Konig          63.7          5.0           20.0         19.1   \n",
       "Dekel Keinan         80.6        154.0           44.2         40.3   \n",
       "\n",
       "              Forward Passes    ...      Saves  Save Rate  Clean Sheets  \\\n",
       "Player                          ...                                       \n",
       "Blake Smith            544.0    ...        0.0        0.0           0.0   \n",
       "Corben Bone            345.0    ...        0.0        0.0           0.0   \n",
       "Daniel Haber            46.0    ...        0.0        0.0           0.0   \n",
       "Danni Konig             60.0    ...        0.0        0.0           0.0   \n",
       "Dekel Keinan           380.0    ...        0.0        0.0           0.0   \n",
       "\n",
       "              Catches  Punches  Drops  Penalties Saved  Clearances  \\\n",
       "Player                                                               \n",
       "Blake Smith       0.0      0.0    0.0              0.0         0.0   \n",
       "Corben Bone       0.0      0.0    0.0              0.0         0.0   \n",
       "Daniel Haber      0.0      0.0    0.0              0.0         0.0   \n",
       "Danni Konig       0.0      0.0    0.0              0.0         0.0   \n",
       "Dekel Keinan      0.0      0.0    0.0              0.0         0.0   \n",
       "\n",
       "                       Team  Subbed on  \n",
       "Player                                  \n",
       "Blake Smith   FC-Cincinnati        2.0  \n",
       "Corben Bone   FC-Cincinnati        2.0  \n",
       "Daniel Haber  FC-Cincinnati       12.0  \n",
       "Danni Konig   FC-Cincinnati       11.0  \n",
       "Dekel Keinan  FC-Cincinnati        0.0  \n",
       "\n",
       "[5 rows x 56 columns]"
      ]
     },
     "execution_count": 8,
     "metadata": {},
     "output_type": "execute_result"
    }
   ],
   "source": [
    "usl.head(5)"
   ]
  },
  {
   "cell_type": "code",
   "execution_count": 9,
   "metadata": {},
   "outputs": [],
   "source": [
    "copy_usl = usl"
   ]
  },
  {
   "cell_type": "markdown",
   "metadata": {},
   "source": [
    "Great! We can also check that our SQL database is working correctly."
   ]
  },
  {
   "cell_type": "code",
   "execution_count": 10,
   "metadata": {},
   "outputs": [],
   "source": [
    "con = sqlite3.connect('USL.sqlite')\n",
    "usl_read = pd.read_sql_query('Select * from \"{}\"'.format(str(datetime.date.today())),con,coerce_float=True)\n",
    "con.close()"
   ]
  },
  {
   "cell_type": "code",
   "execution_count": 11,
   "metadata": {},
   "outputs": [
    {
     "data": {
      "text/html": [
       "<div>\n",
       "<style scoped>\n",
       "    .dataframe tbody tr th:only-of-type {\n",
       "        vertical-align: middle;\n",
       "    }\n",
       "\n",
       "    .dataframe tbody tr th {\n",
       "        vertical-align: top;\n",
       "    }\n",
       "\n",
       "    .dataframe thead th {\n",
       "        text-align: right;\n",
       "    }\n",
       "</style>\n",
       "<table border=\"1\" class=\"dataframe\">\n",
       "  <thead>\n",
       "    <tr style=\"text-align: right;\">\n",
       "      <th></th>\n",
       "      <th>Player</th>\n",
       "      <th>Games Played</th>\n",
       "      <th>Starts</th>\n",
       "      <th>Subbed off</th>\n",
       "      <th>Minutes Played</th>\n",
       "      <th>Passes</th>\n",
       "      <th>Passing Acc</th>\n",
       "      <th>Long Passes</th>\n",
       "      <th>Long Pass Acc</th>\n",
       "      <th>Pass per 90</th>\n",
       "      <th>...</th>\n",
       "      <th>Saves</th>\n",
       "      <th>Save Rate</th>\n",
       "      <th>Clean Sheets</th>\n",
       "      <th>Catches</th>\n",
       "      <th>Punches</th>\n",
       "      <th>Drops</th>\n",
       "      <th>Penalties Saved</th>\n",
       "      <th>Clearances</th>\n",
       "      <th>Team</th>\n",
       "      <th>Subbed on</th>\n",
       "    </tr>\n",
       "  </thead>\n",
       "  <tbody>\n",
       "    <tr>\n",
       "      <th>0</th>\n",
       "      <td>Blake Smith</td>\n",
       "      <td>30.0</td>\n",
       "      <td>28.0</td>\n",
       "      <td>3.0</td>\n",
       "      <td>2492.0</td>\n",
       "      <td>1270.0</td>\n",
       "      <td>80.3</td>\n",
       "      <td>178.0</td>\n",
       "      <td>51.1</td>\n",
       "      <td>45.9</td>\n",
       "      <td>...</td>\n",
       "      <td>0.0</td>\n",
       "      <td>0.0</td>\n",
       "      <td>0.0</td>\n",
       "      <td>0.0</td>\n",
       "      <td>0.0</td>\n",
       "      <td>0.0</td>\n",
       "      <td>0.0</td>\n",
       "      <td>0.0</td>\n",
       "      <td>FC-Cincinnati</td>\n",
       "      <td>2.0</td>\n",
       "    </tr>\n",
       "    <tr>\n",
       "      <th>1</th>\n",
       "      <td>Corben Bone</td>\n",
       "      <td>32.0</td>\n",
       "      <td>30.0</td>\n",
       "      <td>10.0</td>\n",
       "      <td>2600.0</td>\n",
       "      <td>1406.0</td>\n",
       "      <td>83.8</td>\n",
       "      <td>94.0</td>\n",
       "      <td>66.0</td>\n",
       "      <td>48.7</td>\n",
       "      <td>...</td>\n",
       "      <td>0.0</td>\n",
       "      <td>0.0</td>\n",
       "      <td>0.0</td>\n",
       "      <td>0.0</td>\n",
       "      <td>0.0</td>\n",
       "      <td>0.0</td>\n",
       "      <td>0.0</td>\n",
       "      <td>0.0</td>\n",
       "      <td>FC-Cincinnati</td>\n",
       "      <td>2.0</td>\n",
       "    </tr>\n",
       "    <tr>\n",
       "      <th>2</th>\n",
       "      <td>Daniel Haber</td>\n",
       "      <td>17.0</td>\n",
       "      <td>5.0</td>\n",
       "      <td>5.0</td>\n",
       "      <td>490.0</td>\n",
       "      <td>158.0</td>\n",
       "      <td>72.2</td>\n",
       "      <td>12.0</td>\n",
       "      <td>16.7</td>\n",
       "      <td>29.0</td>\n",
       "      <td>...</td>\n",
       "      <td>0.0</td>\n",
       "      <td>0.0</td>\n",
       "      <td>0.0</td>\n",
       "      <td>0.0</td>\n",
       "      <td>0.0</td>\n",
       "      <td>0.0</td>\n",
       "      <td>0.0</td>\n",
       "      <td>0.0</td>\n",
       "      <td>FC-Cincinnati</td>\n",
       "      <td>12.0</td>\n",
       "    </tr>\n",
       "    <tr>\n",
       "      <th>3</th>\n",
       "      <td>Danni Konig</td>\n",
       "      <td>28.0</td>\n",
       "      <td>17.0</td>\n",
       "      <td>14.0</td>\n",
       "      <td>1558.0</td>\n",
       "      <td>331.0</td>\n",
       "      <td>63.7</td>\n",
       "      <td>5.0</td>\n",
       "      <td>20.0</td>\n",
       "      <td>19.1</td>\n",
       "      <td>...</td>\n",
       "      <td>0.0</td>\n",
       "      <td>0.0</td>\n",
       "      <td>0.0</td>\n",
       "      <td>0.0</td>\n",
       "      <td>0.0</td>\n",
       "      <td>0.0</td>\n",
       "      <td>0.0</td>\n",
       "      <td>0.0</td>\n",
       "      <td>FC-Cincinnati</td>\n",
       "      <td>11.0</td>\n",
       "    </tr>\n",
       "    <tr>\n",
       "      <th>4</th>\n",
       "      <td>Dekel Keinan</td>\n",
       "      <td>22.0</td>\n",
       "      <td>22.0</td>\n",
       "      <td>1.0</td>\n",
       "      <td>1926.0</td>\n",
       "      <td>863.0</td>\n",
       "      <td>80.6</td>\n",
       "      <td>154.0</td>\n",
       "      <td>44.2</td>\n",
       "      <td>40.3</td>\n",
       "      <td>...</td>\n",
       "      <td>0.0</td>\n",
       "      <td>0.0</td>\n",
       "      <td>0.0</td>\n",
       "      <td>0.0</td>\n",
       "      <td>0.0</td>\n",
       "      <td>0.0</td>\n",
       "      <td>0.0</td>\n",
       "      <td>0.0</td>\n",
       "      <td>FC-Cincinnati</td>\n",
       "      <td>0.0</td>\n",
       "    </tr>\n",
       "  </tbody>\n",
       "</table>\n",
       "<p>5 rows × 57 columns</p>\n",
       "</div>"
      ],
      "text/plain": [
       "         Player  Games Played  Starts  Subbed off  Minutes Played  Passes  \\\n",
       "0   Blake Smith          30.0    28.0         3.0          2492.0  1270.0   \n",
       "1   Corben Bone          32.0    30.0        10.0          2600.0  1406.0   \n",
       "2  Daniel Haber          17.0     5.0         5.0           490.0   158.0   \n",
       "3   Danni Konig          28.0    17.0        14.0          1558.0   331.0   \n",
       "4  Dekel Keinan          22.0    22.0         1.0          1926.0   863.0   \n",
       "\n",
       "   Passing Acc  Long Passes  Long Pass Acc  Pass per 90    ...      Saves  \\\n",
       "0         80.3        178.0           51.1         45.9    ...        0.0   \n",
       "1         83.8         94.0           66.0         48.7    ...        0.0   \n",
       "2         72.2         12.0           16.7         29.0    ...        0.0   \n",
       "3         63.7          5.0           20.0         19.1    ...        0.0   \n",
       "4         80.6        154.0           44.2         40.3    ...        0.0   \n",
       "\n",
       "   Save Rate  Clean Sheets  Catches  Punches  Drops  Penalties Saved  \\\n",
       "0        0.0           0.0      0.0      0.0    0.0              0.0   \n",
       "1        0.0           0.0      0.0      0.0    0.0              0.0   \n",
       "2        0.0           0.0      0.0      0.0    0.0              0.0   \n",
       "3        0.0           0.0      0.0      0.0    0.0              0.0   \n",
       "4        0.0           0.0      0.0      0.0    0.0              0.0   \n",
       "\n",
       "   Clearances           Team  Subbed on  \n",
       "0         0.0  FC-Cincinnati        2.0  \n",
       "1         0.0  FC-Cincinnati        2.0  \n",
       "2         0.0  FC-Cincinnati       12.0  \n",
       "3         0.0  FC-Cincinnati       11.0  \n",
       "4         0.0  FC-Cincinnati        0.0  \n",
       "\n",
       "[5 rows x 57 columns]"
      ]
     },
     "execution_count": 11,
     "metadata": {},
     "output_type": "execute_result"
    }
   ],
   "source": [
    "usl_read.head(5)"
   ]
  },
  {
   "cell_type": "markdown",
   "metadata": {},
   "source": [
    "As we can see, our dataframe reads in correctly."
   ]
  },
  {
   "cell_type": "markdown",
   "metadata": {},
   "source": [
    "## **Reno 1868 EDA**"
   ]
  },
  {
   "cell_type": "markdown",
   "metadata": {},
   "source": [
    "We are interested in comparing Reno 1868 to their next opponent to help us understand statistically how they stack up against one another."
   ]
  },
  {
   "cell_type": "markdown",
   "metadata": {},
   "source": [
    "Let's view some quick statistics about our dataset first."
   ]
  },
  {
   "cell_type": "code",
   "execution_count": 12,
   "metadata": {},
   "outputs": [
    {
     "name": "stdout",
     "output_type": "stream",
     "text": [
      "<class 'pandas.core.frame.DataFrame'>\n",
      "Index: 1016 entries, Blake Smith to Wyatt Omsberg\n",
      "Data columns (total 56 columns):\n",
      "Games Played                  1016 non-null float64\n",
      "Starts                        1016 non-null float64\n",
      "Subbed off                    1016 non-null float64\n",
      "Minutes Played                1016 non-null float64\n",
      "Passes                        1016 non-null float64\n",
      "Passing Acc                   1016 non-null float64\n",
      "Long Passes                   1016 non-null float64\n",
      "Long Pass Acc                 1016 non-null float64\n",
      "Pass per 90                   1016 non-null float64\n",
      "Forward Passes                1016 non-null float64\n",
      "Backward Passes               1016 non-null float64\n",
      "Left Pass                     1016 non-null float64\n",
      "Right Pass                    1016 non-null float64\n",
      "Passing Acc Opponents Half    1016 non-null float64\n",
      "Passing Acc Own Half          1016 non-null float64\n",
      "Assists                       1016 non-null float64\n",
      "Key Passes                    1016 non-null float64\n",
      "Crosses                       1016 non-null float64\n",
      "Crossing Acc                  1016 non-null float64\n",
      "Shots                         1016 non-null float64\n",
      "Shots on Target               1016 non-null float64\n",
      "Goals                         1016 non-null float64\n",
      "Right Foot Goals              1016 non-null float64\n",
      "Left Foot Goals               1016 non-null float64\n",
      "Heading Goals                 1016 non-null float64\n",
      "Other                         1016 non-null float64\n",
      "Goals In Box                  1016 non-null float64\n",
      "Goals Out Box                 1016 non-null float64\n",
      "Free Kick Goals               1016 non-null float64\n",
      "Conversion Rate               1016 non-null float64\n",
      "Mins Per Goal                 1016 non-null float64\n",
      "Clears                        1016 non-null float64\n",
      "Blocks                        1016 non-null float64\n",
      "Interceptions                 1016 non-null float64\n",
      "Tackles                       1016 non-null float64\n",
      "Tackles Won                   1016 non-null float64\n",
      "Duels                         1016 non-null float64\n",
      "Duels Won                     1016 non-null float64\n",
      "Air Duels                     1016 non-null float64\n",
      "Air Duels Won                 1016 non-null float64\n",
      "Yellow Cards                  1016 non-null float64\n",
      "Red Cards                     1016 non-null float64\n",
      "Fouls Won                     1016 non-null float64\n",
      "Fouls Conceded                1016 non-null float64\n",
      "Goals Conceded                1016 non-null float64\n",
      "Shot At                       1016 non-null float64\n",
      "Saves                         1016 non-null float64\n",
      "Save Rate                     1016 non-null float64\n",
      "Clean Sheets                  1016 non-null float64\n",
      "Catches                       1016 non-null float64\n",
      "Punches                       1016 non-null float64\n",
      "Drops                         1016 non-null float64\n",
      "Penalties Saved               1016 non-null float64\n",
      "Clearances                    1016 non-null float64\n",
      "Team                          1016 non-null object\n",
      "Subbed on                     1016 non-null float64\n",
      "dtypes: float64(55), object(1)\n",
      "memory usage: 492.4+ KB\n"
     ]
    }
   ],
   "source": [
    "usl.info()"
   ]
  },
  {
   "cell_type": "code",
   "execution_count": 13,
   "metadata": {},
   "outputs": [
    {
     "data": {
      "text/html": [
       "<div>\n",
       "<style scoped>\n",
       "    .dataframe tbody tr th:only-of-type {\n",
       "        vertical-align: middle;\n",
       "    }\n",
       "\n",
       "    .dataframe tbody tr th {\n",
       "        vertical-align: top;\n",
       "    }\n",
       "\n",
       "    .dataframe thead th {\n",
       "        text-align: right;\n",
       "    }\n",
       "</style>\n",
       "<table border=\"1\" class=\"dataframe\">\n",
       "  <thead>\n",
       "    <tr style=\"text-align: right;\">\n",
       "      <th></th>\n",
       "      <th>Games Played</th>\n",
       "      <th>Starts</th>\n",
       "      <th>Subbed off</th>\n",
       "      <th>Minutes Played</th>\n",
       "      <th>Passes</th>\n",
       "      <th>Passing Acc</th>\n",
       "      <th>Long Passes</th>\n",
       "      <th>Long Pass Acc</th>\n",
       "      <th>Pass per 90</th>\n",
       "      <th>Forward Passes</th>\n",
       "      <th>...</th>\n",
       "      <th>Shot At</th>\n",
       "      <th>Saves</th>\n",
       "      <th>Save Rate</th>\n",
       "      <th>Clean Sheets</th>\n",
       "      <th>Catches</th>\n",
       "      <th>Punches</th>\n",
       "      <th>Drops</th>\n",
       "      <th>Penalties Saved</th>\n",
       "      <th>Clearances</th>\n",
       "      <th>Subbed on</th>\n",
       "    </tr>\n",
       "  </thead>\n",
       "  <tbody>\n",
       "    <tr>\n",
       "      <th>count</th>\n",
       "      <td>1016.000000</td>\n",
       "      <td>1016.000000</td>\n",
       "      <td>1016.000000</td>\n",
       "      <td>1016.000000</td>\n",
       "      <td>1016.000000</td>\n",
       "      <td>1016.000000</td>\n",
       "      <td>1016.000000</td>\n",
       "      <td>1016.000000</td>\n",
       "      <td>1016.000000</td>\n",
       "      <td>1016.000000</td>\n",
       "      <td>...</td>\n",
       "      <td>1016.000000</td>\n",
       "      <td>1016.000000</td>\n",
       "      <td>1016.000000</td>\n",
       "      <td>1016.000000</td>\n",
       "      <td>1016.000000</td>\n",
       "      <td>1016.000000</td>\n",
       "      <td>1016.000000</td>\n",
       "      <td>1016.000000</td>\n",
       "      <td>1016.000000</td>\n",
       "      <td>1016.000000</td>\n",
       "    </tr>\n",
       "    <tr>\n",
       "      <th>mean</th>\n",
       "      <td>15.628937</td>\n",
       "      <td>12.359252</td>\n",
       "      <td>3.246063</td>\n",
       "      <td>1110.267717</td>\n",
       "      <td>463.469488</td>\n",
       "      <td>74.714961</td>\n",
       "      <td>79.203740</td>\n",
       "      <td>47.106594</td>\n",
       "      <td>37.184941</td>\n",
       "      <td>175.894685</td>\n",
       "      <td>...</td>\n",
       "      <td>4.558071</td>\n",
       "      <td>3.039370</td>\n",
       "      <td>6.035433</td>\n",
       "      <td>0.270669</td>\n",
       "      <td>0.481299</td>\n",
       "      <td>0.374016</td>\n",
       "      <td>0.060039</td>\n",
       "      <td>0.034449</td>\n",
       "      <td>1.003937</td>\n",
       "      <td>3.269685</td>\n",
       "    </tr>\n",
       "    <tr>\n",
       "      <th>std</th>\n",
       "      <td>10.221445</td>\n",
       "      <td>9.500525</td>\n",
       "      <td>3.625645</td>\n",
       "      <td>841.463519</td>\n",
       "      <td>413.585239</td>\n",
       "      <td>11.363773</td>\n",
       "      <td>103.970235</td>\n",
       "      <td>20.129501</td>\n",
       "      <td>15.895511</td>\n",
       "      <td>174.174443</td>\n",
       "      <td>...</td>\n",
       "      <td>18.622952</td>\n",
       "      <td>12.522548</td>\n",
       "      <td>19.496029</td>\n",
       "      <td>1.338540</td>\n",
       "      <td>2.284591</td>\n",
       "      <td>1.769995</td>\n",
       "      <td>0.365154</td>\n",
       "      <td>0.238621</td>\n",
       "      <td>4.501339</td>\n",
       "      <td>3.758485</td>\n",
       "    </tr>\n",
       "    <tr>\n",
       "      <th>min</th>\n",
       "      <td>1.000000</td>\n",
       "      <td>0.000000</td>\n",
       "      <td>0.000000</td>\n",
       "      <td>1.000000</td>\n",
       "      <td>0.000000</td>\n",
       "      <td>0.000000</td>\n",
       "      <td>0.000000</td>\n",
       "      <td>0.000000</td>\n",
       "      <td>0.000000</td>\n",
       "      <td>0.000000</td>\n",
       "      <td>...</td>\n",
       "      <td>0.000000</td>\n",
       "      <td>0.000000</td>\n",
       "      <td>0.000000</td>\n",
       "      <td>0.000000</td>\n",
       "      <td>0.000000</td>\n",
       "      <td>0.000000</td>\n",
       "      <td>0.000000</td>\n",
       "      <td>0.000000</td>\n",
       "      <td>0.000000</td>\n",
       "      <td>0.000000</td>\n",
       "    </tr>\n",
       "    <tr>\n",
       "      <th>25%</th>\n",
       "      <td>6.000000</td>\n",
       "      <td>4.000000</td>\n",
       "      <td>0.000000</td>\n",
       "      <td>360.000000</td>\n",
       "      <td>126.750000</td>\n",
       "      <td>70.175000</td>\n",
       "      <td>11.000000</td>\n",
       "      <td>37.075000</td>\n",
       "      <td>27.775000</td>\n",
       "      <td>41.000000</td>\n",
       "      <td>...</td>\n",
       "      <td>0.000000</td>\n",
       "      <td>0.000000</td>\n",
       "      <td>0.000000</td>\n",
       "      <td>0.000000</td>\n",
       "      <td>0.000000</td>\n",
       "      <td>0.000000</td>\n",
       "      <td>0.000000</td>\n",
       "      <td>0.000000</td>\n",
       "      <td>0.000000</td>\n",
       "      <td>0.000000</td>\n",
       "    </tr>\n",
       "    <tr>\n",
       "      <th>50%</th>\n",
       "      <td>15.000000</td>\n",
       "      <td>11.000000</td>\n",
       "      <td>2.000000</td>\n",
       "      <td>963.500000</td>\n",
       "      <td>355.000000</td>\n",
       "      <td>76.900000</td>\n",
       "      <td>39.000000</td>\n",
       "      <td>48.100000</td>\n",
       "      <td>35.500000</td>\n",
       "      <td>118.000000</td>\n",
       "      <td>...</td>\n",
       "      <td>0.000000</td>\n",
       "      <td>0.000000</td>\n",
       "      <td>0.000000</td>\n",
       "      <td>0.000000</td>\n",
       "      <td>0.000000</td>\n",
       "      <td>0.000000</td>\n",
       "      <td>0.000000</td>\n",
       "      <td>0.000000</td>\n",
       "      <td>0.000000</td>\n",
       "      <td>2.000000</td>\n",
       "    </tr>\n",
       "    <tr>\n",
       "      <th>75%</th>\n",
       "      <td>25.000000</td>\n",
       "      <td>20.000000</td>\n",
       "      <td>5.000000</td>\n",
       "      <td>1762.500000</td>\n",
       "      <td>697.000000</td>\n",
       "      <td>81.700000</td>\n",
       "      <td>108.000000</td>\n",
       "      <td>58.725000</td>\n",
       "      <td>44.500000</td>\n",
       "      <td>258.000000</td>\n",
       "      <td>...</td>\n",
       "      <td>0.000000</td>\n",
       "      <td>0.000000</td>\n",
       "      <td>0.000000</td>\n",
       "      <td>0.000000</td>\n",
       "      <td>0.000000</td>\n",
       "      <td>0.000000</td>\n",
       "      <td>0.000000</td>\n",
       "      <td>0.000000</td>\n",
       "      <td>0.000000</td>\n",
       "      <td>5.000000</td>\n",
       "    </tr>\n",
       "    <tr>\n",
       "      <th>max</th>\n",
       "      <td>34.000000</td>\n",
       "      <td>34.000000</td>\n",
       "      <td>18.000000</td>\n",
       "      <td>3060.000000</td>\n",
       "      <td>2227.000000</td>\n",
       "      <td>100.000000</td>\n",
       "      <td>846.000000</td>\n",
       "      <td>100.000000</td>\n",
       "      <td>270.000000</td>\n",
       "      <td>909.000000</td>\n",
       "      <td>...</td>\n",
       "      <td>189.000000</td>\n",
       "      <td>125.000000</td>\n",
       "      <td>100.000000</td>\n",
       "      <td>15.000000</td>\n",
       "      <td>34.000000</td>\n",
       "      <td>20.000000</td>\n",
       "      <td>4.000000</td>\n",
       "      <td>4.000000</td>\n",
       "      <td>52.000000</td>\n",
       "      <td>24.000000</td>\n",
       "    </tr>\n",
       "  </tbody>\n",
       "</table>\n",
       "<p>8 rows × 55 columns</p>\n",
       "</div>"
      ],
      "text/plain": [
       "       Games Played       Starts   Subbed off  Minutes Played       Passes  \\\n",
       "count   1016.000000  1016.000000  1016.000000     1016.000000  1016.000000   \n",
       "mean      15.628937    12.359252     3.246063     1110.267717   463.469488   \n",
       "std       10.221445     9.500525     3.625645      841.463519   413.585239   \n",
       "min        1.000000     0.000000     0.000000        1.000000     0.000000   \n",
       "25%        6.000000     4.000000     0.000000      360.000000   126.750000   \n",
       "50%       15.000000    11.000000     2.000000      963.500000   355.000000   \n",
       "75%       25.000000    20.000000     5.000000     1762.500000   697.000000   \n",
       "max       34.000000    34.000000    18.000000     3060.000000  2227.000000   \n",
       "\n",
       "       Passing Acc  Long Passes  Long Pass Acc  Pass per 90  Forward Passes  \\\n",
       "count  1016.000000  1016.000000    1016.000000  1016.000000     1016.000000   \n",
       "mean     74.714961    79.203740      47.106594    37.184941      175.894685   \n",
       "std      11.363773   103.970235      20.129501    15.895511      174.174443   \n",
       "min       0.000000     0.000000       0.000000     0.000000        0.000000   \n",
       "25%      70.175000    11.000000      37.075000    27.775000       41.000000   \n",
       "50%      76.900000    39.000000      48.100000    35.500000      118.000000   \n",
       "75%      81.700000   108.000000      58.725000    44.500000      258.000000   \n",
       "max     100.000000   846.000000     100.000000   270.000000      909.000000   \n",
       "\n",
       "          ...           Shot At        Saves    Save Rate  Clean Sheets  \\\n",
       "count     ...       1016.000000  1016.000000  1016.000000   1016.000000   \n",
       "mean      ...          4.558071     3.039370     6.035433      0.270669   \n",
       "std       ...         18.622952    12.522548    19.496029      1.338540   \n",
       "min       ...          0.000000     0.000000     0.000000      0.000000   \n",
       "25%       ...          0.000000     0.000000     0.000000      0.000000   \n",
       "50%       ...          0.000000     0.000000     0.000000      0.000000   \n",
       "75%       ...          0.000000     0.000000     0.000000      0.000000   \n",
       "max       ...        189.000000   125.000000   100.000000     15.000000   \n",
       "\n",
       "           Catches      Punches        Drops  Penalties Saved   Clearances  \\\n",
       "count  1016.000000  1016.000000  1016.000000      1016.000000  1016.000000   \n",
       "mean      0.481299     0.374016     0.060039         0.034449     1.003937   \n",
       "std       2.284591     1.769995     0.365154         0.238621     4.501339   \n",
       "min       0.000000     0.000000     0.000000         0.000000     0.000000   \n",
       "25%       0.000000     0.000000     0.000000         0.000000     0.000000   \n",
       "50%       0.000000     0.000000     0.000000         0.000000     0.000000   \n",
       "75%       0.000000     0.000000     0.000000         0.000000     0.000000   \n",
       "max      34.000000    20.000000     4.000000         4.000000    52.000000   \n",
       "\n",
       "         Subbed on  \n",
       "count  1016.000000  \n",
       "mean      3.269685  \n",
       "std       3.758485  \n",
       "min       0.000000  \n",
       "25%       0.000000  \n",
       "50%       2.000000  \n",
       "75%       5.000000  \n",
       "max      24.000000  \n",
       "\n",
       "[8 rows x 55 columns]"
      ]
     },
     "execution_count": 13,
     "metadata": {},
     "output_type": "execute_result"
    }
   ],
   "source": [
    "usl.describe()"
   ]
  },
  {
   "cell_type": "markdown",
   "metadata": {},
   "source": [
    "We must now get our subset using our function get_latest_opponent. "
   ]
  },
  {
   "cell_type": "code",
   "execution_count": 14,
   "metadata": {},
   "outputs": [],
   "source": [
    "renovs = get_latest_opponent(usl)"
   ]
  },
  {
   "cell_type": "markdown",
   "metadata": {},
   "source": [
    "Let's make sure this worked properly!"
   ]
  },
  {
   "cell_type": "code",
   "execution_count": 15,
   "metadata": {},
   "outputs": [
    {
     "data": {
      "text/plain": [
       "Real-Monarchs-SLC    40\n",
       "Reno-1868-FC         33\n",
       "Name: Team, dtype: int64"
      ]
     },
     "execution_count": 15,
     "metadata": {},
     "output_type": "execute_result"
    }
   ],
   "source": [
    "renovs['Team'].value_counts()"
   ]
  },
  {
   "cell_type": "markdown",
   "metadata": {},
   "source": [
    "Great! We now have our two teams."
   ]
  },
  {
   "cell_type": "markdown",
   "metadata": {},
   "source": [
    "We can now look at some of the more important statistics(displayed below) in soccer and see the differences between the two teams."
   ]
  },
  {
   "cell_type": "code",
   "execution_count": 16,
   "metadata": {},
   "outputs": [
    {
     "data": {
      "text/html": [
       "<div>\n",
       "<style scoped>\n",
       "    .dataframe tbody tr th:only-of-type {\n",
       "        vertical-align: middle;\n",
       "    }\n",
       "\n",
       "    .dataframe tbody tr th {\n",
       "        vertical-align: top;\n",
       "    }\n",
       "\n",
       "    .dataframe thead th {\n",
       "        text-align: right;\n",
       "    }\n",
       "</style>\n",
       "<table border=\"1\" class=\"dataframe\">\n",
       "  <thead>\n",
       "    <tr style=\"text-align: right;\">\n",
       "      <th>Team</th>\n",
       "      <th>Real-Monarchs-SLC</th>\n",
       "      <th>Reno-1868-FC</th>\n",
       "    </tr>\n",
       "  </thead>\n",
       "  <tbody>\n",
       "    <tr>\n",
       "      <th>Goals</th>\n",
       "      <td>54.00</td>\n",
       "      <td>55.00</td>\n",
       "    </tr>\n",
       "    <tr>\n",
       "      <th>Assists</th>\n",
       "      <td>48.00</td>\n",
       "      <td>44.00</td>\n",
       "    </tr>\n",
       "    <tr>\n",
       "      <th>Crosses</th>\n",
       "      <td>452.00</td>\n",
       "      <td>342.00</td>\n",
       "    </tr>\n",
       "    <tr>\n",
       "      <th>Key Passes</th>\n",
       "      <td>379.00</td>\n",
       "      <td>361.00</td>\n",
       "    </tr>\n",
       "    <tr>\n",
       "      <th>Interceptions</th>\n",
       "      <td>466.00</td>\n",
       "      <td>518.00</td>\n",
       "    </tr>\n",
       "    <tr>\n",
       "      <th>Clearances</th>\n",
       "      <td>38.00</td>\n",
       "      <td>23.00</td>\n",
       "    </tr>\n",
       "    <tr>\n",
       "      <th>Shots on Target</th>\n",
       "      <td>167.00</td>\n",
       "      <td>185.00</td>\n",
       "    </tr>\n",
       "    <tr>\n",
       "      <th>Shots</th>\n",
       "      <td>355.00</td>\n",
       "      <td>377.00</td>\n",
       "    </tr>\n",
       "    <tr>\n",
       "      <th>Tackles</th>\n",
       "      <td>480.00</td>\n",
       "      <td>529.00</td>\n",
       "    </tr>\n",
       "    <tr>\n",
       "      <th>Conversion Rate</th>\n",
       "      <td>9.58</td>\n",
       "      <td>8.43</td>\n",
       "    </tr>\n",
       "    <tr>\n",
       "      <th>Passing Acc</th>\n",
       "      <td>80.00</td>\n",
       "      <td>77.04</td>\n",
       "    </tr>\n",
       "  </tbody>\n",
       "</table>\n",
       "</div>"
      ],
      "text/plain": [
       "Team             Real-Monarchs-SLC  Reno-1868-FC\n",
       "Goals                        54.00         55.00\n",
       "Assists                      48.00         44.00\n",
       "Crosses                     452.00        342.00\n",
       "Key Passes                  379.00        361.00\n",
       "Interceptions               466.00        518.00\n",
       "Clearances                   38.00         23.00\n",
       "Shots on Target             167.00        185.00\n",
       "Shots                       355.00        377.00\n",
       "Tackles                     480.00        529.00\n",
       "Conversion Rate               9.58          8.43\n",
       "Passing Acc                  80.00         77.04"
      ]
     },
     "execution_count": 16,
     "metadata": {},
     "output_type": "execute_result"
    }
   ],
   "source": [
    "compare = pd.concat([renovs[['Goals','Assists','Crosses','Key Passes','Interceptions','Clearances','Team','Shots on Target','Shots','Tackles']].groupby('Team').sum().transpose(),\n",
    "           renovs[['Conversion Rate','Team','Passing Acc']].groupby('Team').mean().transpose()],axis=0)\n",
    "compare.applymap(lambda x: round(x,2))"
   ]
  },
  {
   "cell_type": "markdown",
   "metadata": {},
   "source": [
    "## **Visualizations using Plotly**"
   ]
  },
  {
   "cell_type": "markdown",
   "metadata": {},
   "source": [
    "We now want to visualize our data to help us get a better understanding of the individual team differences. We can use the plotly library to help us plot these.  "
   ]
  },
  {
   "cell_type": "code",
   "execution_count": 17,
   "metadata": {},
   "outputs": [],
   "source": [
    "opponent = (compare.columns).drop('Reno-1868-FC')"
   ]
  },
  {
   "cell_type": "markdown",
   "metadata": {},
   "source": [
    "Let's first plot out our previous table and look at it."
   ]
  },
  {
   "cell_type": "code",
   "execution_count": 18,
   "metadata": {
    "scrolled": true
   },
   "outputs": [
    {
     "data": {
      "application/vnd.plotly.v1+json": {
       "data": [
        {
         "marker": {
          "color": "#0c13a8"
         },
         "name": "Reno 1868 FC",
         "orientation": "h",
         "type": "bar",
         "uid": "a51cf6f6-d278-11e8-91c6-54ab3aaa7998",
         "x": [
          55,
          44,
          342,
          361,
          518,
          23,
          185,
          377,
          529,
          8.433333333333332,
          77.03636363636366
         ],
         "y": [
          "Goals",
          "Assists",
          "Crosses",
          "Key Passes",
          "Interceptions",
          "Clearances",
          "Shots on Target",
          "Shots",
          "Tackles",
          "Conversion Rate",
          "Passing Acc"
         ]
        },
        {
         "marker": {
          "color": "#FF0033"
         },
         "name": "Real Monarchs SLC",
         "orientation": "h",
         "type": "bar",
         "uid": "a51cf6f7-d278-11e8-8bd8-54ab3aaa7998",
         "x": [
          54,
          48,
          452,
          379,
          466,
          38,
          167,
          355,
          480,
          9.577499999999997,
          80.00250000000001
         ],
         "y": [
          "Goals",
          "Assists",
          "Crosses",
          "Key Passes",
          "Interceptions",
          "Clearances",
          "Shots on Target",
          "Shots",
          "Tackles",
          "Conversion Rate",
          "Passing Acc"
         ]
        }
       ],
       "layout": {
        "title": "Reno 1868 vs. Real Monarchs SLC"
       }
      },
      "text/html": [
       "<div id=\"ee30e0ba-74a6-4b0a-b5ff-48d7d2ae4464\" style=\"height: 525px; width: 100%;\" class=\"plotly-graph-div\"></div><script type=\"text/javascript\">require([\"plotly\"], function(Plotly) { window.PLOTLYENV=window.PLOTLYENV || {};window.PLOTLYENV.BASE_URL=\"https://plot.ly\";Plotly.newPlot(\"ee30e0ba-74a6-4b0a-b5ff-48d7d2ae4464\", [{\"marker\": {\"color\": \"#0c13a8\"}, \"name\": \"Reno 1868 FC\", \"orientation\": \"h\", \"x\": [55.0, 44.0, 342.0, 361.0, 518.0, 23.0, 185.0, 377.0, 529.0, 8.433333333333332, 77.03636363636366], \"y\": [\"Goals\", \"Assists\", \"Crosses\", \"Key Passes\", \"Interceptions\", \"Clearances\", \"Shots on Target\", \"Shots\", \"Tackles\", \"Conversion Rate\", \"Passing Acc\"], \"type\": \"bar\", \"uid\": \"a51cf6f6-d278-11e8-91c6-54ab3aaa7998\"}, {\"marker\": {\"color\": \"#FF0033\"}, \"name\": \"Real Monarchs SLC\", \"orientation\": \"h\", \"x\": [54.0, 48.0, 452.0, 379.0, 466.0, 38.0, 167.0, 355.0, 480.0, 9.577499999999997, 80.00250000000001], \"y\": [\"Goals\", \"Assists\", \"Crosses\", \"Key Passes\", \"Interceptions\", \"Clearances\", \"Shots on Target\", \"Shots\", \"Tackles\", \"Conversion Rate\", \"Passing Acc\"], \"type\": \"bar\", \"uid\": \"a51cf6f7-d278-11e8-8bd8-54ab3aaa7998\"}], {\"title\": \"Reno 1868 vs. Real Monarchs SLC\"}, {\"showLink\": true, \"linkText\": \"Export to plot.ly\"})});</script>"
      ],
      "text/vnd.plotly.v1+html": [
       "<div id=\"ee30e0ba-74a6-4b0a-b5ff-48d7d2ae4464\" style=\"height: 525px; width: 100%;\" class=\"plotly-graph-div\"></div><script type=\"text/javascript\">require([\"plotly\"], function(Plotly) { window.PLOTLYENV=window.PLOTLYENV || {};window.PLOTLYENV.BASE_URL=\"https://plot.ly\";Plotly.newPlot(\"ee30e0ba-74a6-4b0a-b5ff-48d7d2ae4464\", [{\"marker\": {\"color\": \"#0c13a8\"}, \"name\": \"Reno 1868 FC\", \"orientation\": \"h\", \"x\": [55.0, 44.0, 342.0, 361.0, 518.0, 23.0, 185.0, 377.0, 529.0, 8.433333333333332, 77.03636363636366], \"y\": [\"Goals\", \"Assists\", \"Crosses\", \"Key Passes\", \"Interceptions\", \"Clearances\", \"Shots on Target\", \"Shots\", \"Tackles\", \"Conversion Rate\", \"Passing Acc\"], \"type\": \"bar\", \"uid\": \"a51cf6f6-d278-11e8-91c6-54ab3aaa7998\"}, {\"marker\": {\"color\": \"#FF0033\"}, \"name\": \"Real Monarchs SLC\", \"orientation\": \"h\", \"x\": [54.0, 48.0, 452.0, 379.0, 466.0, 38.0, 167.0, 355.0, 480.0, 9.577499999999997, 80.00250000000001], \"y\": [\"Goals\", \"Assists\", \"Crosses\", \"Key Passes\", \"Interceptions\", \"Clearances\", \"Shots on Target\", \"Shots\", \"Tackles\", \"Conversion Rate\", \"Passing Acc\"], \"type\": \"bar\", \"uid\": \"a51cf6f7-d278-11e8-8bd8-54ab3aaa7998\"}], {\"title\": \"Reno 1868 vs. Real Monarchs SLC\"}, {\"showLink\": true, \"linkText\": \"Export to plot.ly\"})});</script>"
      ]
     },
     "metadata": {},
     "output_type": "display_data"
    }
   ],
   "source": [
    "data  = [\n",
    "        go.Bar(\n",
    "    y = compare.index,\n",
    "    x = compare['Reno-1868-FC'],\n",
    "    orientation='h',\n",
    "    marker=dict(color='#0c13a8'),\n",
    "    name='Reno 1868 FC'),\n",
    "    \n",
    "         go.Bar(\n",
    "    y = compare.index,\n",
    "    x = compare[opponent[0]],\n",
    "    orientation='h',\n",
    "    marker=dict(color='#FF0033'),\n",
    "    name=opponent[0].replace('-',' '))\n",
    "]\n",
    "\n",
    "layout = go.Layout(\n",
    "        title = 'Reno 1868 vs. '+ opponent[0].replace('-',' '),\n",
    ")\n",
    "\n",
    "fig  = go.Figure(data=data,layout=layout)\n",
    "# url_1 = py.plot(fig,auto_open=False)\n",
    "# py.iplot(fig)\n",
    "plotly.offline.iplot(fig)"
   ]
  },
  {
   "cell_type": "markdown",
   "metadata": {},
   "source": [
    "Next, let's now look at the individual scorers and assisters on Reno 1868."
   ]
  },
  {
   "cell_type": "code",
   "execution_count": 20,
   "metadata": {},
   "outputs": [
    {
     "data": {
      "application/vnd.plotly.v1+json": {
       "data": [
        {
         "marker": {
          "color": "#0c13a8"
         },
         "name": "Goals",
         "orientation": "h",
         "type": "bar",
         "uid": "c0070dc6-d278-11e8-ba69-54ab3aaa7998",
         "x": [
          1,
          1,
          1,
          1,
          1,
          1,
          1,
          2,
          3,
          3,
          4,
          4,
          5,
          5,
          6,
          16
         ],
         "y": [
          "Brenton Griffiths",
          "Duke Lacroix",
          "Eric Calvillo",
          "Jochen Graf",
          "Kevin Partida",
          "Luis Felipe Fernandes",
          "Paul Marie",
          "Zach Carroll",
          "Mohamed Thiaw",
          "Seth Casiple",
          "Christopher Wehan",
          "Lindo Mfeka",
          "Antoine Hoppenot",
          "Daniel Musovski",
          "Jerry van Ewijk",
          "Brian Brown"
         ]
        },
        {
         "marker": {
          "color": "#fe6604"
         },
         "name": "Assists",
         "orientation": "h",
         "type": "bar",
         "uid": "c0070dc7-d278-11e8-9a98-54ab3aaa7998",
         "x": [
          1,
          1,
          1,
          1,
          2,
          2,
          2,
          3,
          3,
          3,
          4,
          4,
          4,
          13
         ],
         "y": [
          "Guy Abend",
          "Jordan Murrell",
          "Kevin Partida",
          "Lindo Mfeka",
          "Jerry van Ewijk",
          "Mohamed Thiaw",
          "Zach Carroll",
          "Christopher Wehan",
          "Paul Marie",
          "Seth Casiple",
          "Brent Richards",
          "Brian Brown",
          "Duke Lacroix",
          "Antoine Hoppenot"
         ]
        }
       ],
       "layout": {
        "autosize": true,
        "barmode": "stack",
        "title": "Reno 1868 Top Scorers & Assisters",
        "xaxis": {
         "title": "Total Goals & Assists"
        }
       }
      },
      "text/html": [
       "<div id=\"030e2a2d-06a2-4a6c-af70-f2a79681e199\" style=\"height: 525px; width: 100%;\" class=\"plotly-graph-div\"></div><script type=\"text/javascript\">require([\"plotly\"], function(Plotly) { window.PLOTLYENV=window.PLOTLYENV || {};window.PLOTLYENV.BASE_URL=\"https://plot.ly\";Plotly.newPlot(\"030e2a2d-06a2-4a6c-af70-f2a79681e199\", [{\"marker\": {\"color\": \"#0c13a8\"}, \"name\": \"Goals\", \"orientation\": \"h\", \"x\": [1.0, 1.0, 1.0, 1.0, 1.0, 1.0, 1.0, 2.0, 3.0, 3.0, 4.0, 4.0, 5.0, 5.0, 6.0, 16.0], \"y\": [\"Brenton Griffiths\", \"Duke Lacroix\", \"Eric Calvillo\", \"Jochen Graf\", \"Kevin Partida\", \"Luis Felipe Fernandes\", \"Paul Marie\", \"Zach Carroll\", \"Mohamed Thiaw\", \"Seth Casiple\", \"Christopher Wehan\", \"Lindo Mfeka\", \"Antoine Hoppenot\", \"Daniel Musovski\", \"Jerry van Ewijk\", \"Brian Brown\"], \"type\": \"bar\", \"uid\": \"c0070dc6-d278-11e8-ba69-54ab3aaa7998\"}, {\"marker\": {\"color\": \"#fe6604\"}, \"name\": \"Assists\", \"orientation\": \"h\", \"x\": [1.0, 1.0, 1.0, 1.0, 2.0, 2.0, 2.0, 3.0, 3.0, 3.0, 4.0, 4.0, 4.0, 13.0], \"y\": [\"Guy Abend\", \"Jordan Murrell\", \"Kevin Partida\", \"Lindo Mfeka\", \"Jerry van Ewijk\", \"Mohamed Thiaw\", \"Zach Carroll\", \"Christopher Wehan\", \"Paul Marie\", \"Seth Casiple\", \"Brent Richards\", \"Brian Brown\", \"Duke Lacroix\", \"Antoine Hoppenot\"], \"type\": \"bar\", \"uid\": \"c0070dc7-d278-11e8-9a98-54ab3aaa7998\"}], {\"autosize\": true, \"barmode\": \"stack\", \"title\": \"Reno 1868 Top Scorers & Assisters\", \"xaxis\": {\"title\": \"Total Goals & Assists\"}}, {\"showLink\": true, \"linkText\": \"Export to plot.ly\"})});</script>"
      ],
      "text/vnd.plotly.v1+html": [
       "<div id=\"030e2a2d-06a2-4a6c-af70-f2a79681e199\" style=\"height: 525px; width: 100%;\" class=\"plotly-graph-div\"></div><script type=\"text/javascript\">require([\"plotly\"], function(Plotly) { window.PLOTLYENV=window.PLOTLYENV || {};window.PLOTLYENV.BASE_URL=\"https://plot.ly\";Plotly.newPlot(\"030e2a2d-06a2-4a6c-af70-f2a79681e199\", [{\"marker\": {\"color\": \"#0c13a8\"}, \"name\": \"Goals\", \"orientation\": \"h\", \"x\": [1.0, 1.0, 1.0, 1.0, 1.0, 1.0, 1.0, 2.0, 3.0, 3.0, 4.0, 4.0, 5.0, 5.0, 6.0, 16.0], \"y\": [\"Brenton Griffiths\", \"Duke Lacroix\", \"Eric Calvillo\", \"Jochen Graf\", \"Kevin Partida\", \"Luis Felipe Fernandes\", \"Paul Marie\", \"Zach Carroll\", \"Mohamed Thiaw\", \"Seth Casiple\", \"Christopher Wehan\", \"Lindo Mfeka\", \"Antoine Hoppenot\", \"Daniel Musovski\", \"Jerry van Ewijk\", \"Brian Brown\"], \"type\": \"bar\", \"uid\": \"c0070dc6-d278-11e8-ba69-54ab3aaa7998\"}, {\"marker\": {\"color\": \"#fe6604\"}, \"name\": \"Assists\", \"orientation\": \"h\", \"x\": [1.0, 1.0, 1.0, 1.0, 2.0, 2.0, 2.0, 3.0, 3.0, 3.0, 4.0, 4.0, 4.0, 13.0], \"y\": [\"Guy Abend\", \"Jordan Murrell\", \"Kevin Partida\", \"Lindo Mfeka\", \"Jerry van Ewijk\", \"Mohamed Thiaw\", \"Zach Carroll\", \"Christopher Wehan\", \"Paul Marie\", \"Seth Casiple\", \"Brent Richards\", \"Brian Brown\", \"Duke Lacroix\", \"Antoine Hoppenot\"], \"type\": \"bar\", \"uid\": \"c0070dc7-d278-11e8-9a98-54ab3aaa7998\"}], {\"autosize\": true, \"barmode\": \"stack\", \"title\": \"Reno 1868 Top Scorers & Assisters\", \"xaxis\": {\"title\": \"Total Goals & Assists\"}}, {\"showLink\": true, \"linkText\": \"Export to plot.ly\"})});</script>"
      ]
     },
     "metadata": {},
     "output_type": "display_data"
    }
   ],
   "source": [
    "data  = [\n",
    "        go.Bar(\n",
    "    y = renovs[(renovs['Team'] == 'Reno-1868-FC') & (renovs['Goals'] > 0)]['Goals'].sort_values(ascending=True).index,\n",
    "    x = renovs[(renovs['Team'] == 'Reno-1868-FC') & (renovs['Goals'] > 0)]['Goals'].sort_values(ascending=True),\n",
    "    orientation='h',\n",
    "    marker=dict(color='#0c13a8'),\n",
    "    name='Goals'),\n",
    "    \n",
    "        go.Bar(\n",
    "    y = renovs[(renovs['Team'] == 'Reno-1868-FC') & (renovs['Assists'] > 0)]['Assists'].sort_values(ascending=True).index,\n",
    "    x = renovs[(renovs['Team'] == 'Reno-1868-FC') & (renovs['Assists'] > 0)]['Assists'].sort_values(ascending=True),\n",
    "    orientation='h',\n",
    "    marker=dict(color='#fe6604'),\n",
    "    name='Assists')\n",
    "]\n",
    "\n",
    "layout = go.Layout(\n",
    "        title = 'Reno 1868 Top Scorers & Assisters',\n",
    "        xaxis = dict(title='Total Goals & Assists'),\n",
    "        barmode='stack',\n",
    "        autosize=True\n",
    "\n",
    ")\n",
    "\n",
    "fig  = go.Figure(data=data, layout=layout)\n",
    "# url_2 = py.plot(fig,auto_open=False)\n",
    "# py.iplot(fig)\n",
    "plotly.offline.iplot(fig)"
   ]
  },
  {
   "cell_type": "markdown",
   "metadata": {},
   "source": [
    "Let's do the same for the opponent's team."
   ]
  },
  {
   "cell_type": "code",
   "execution_count": 21,
   "metadata": {},
   "outputs": [
    {
     "data": {
      "application/vnd.plotly.v1+json": {
       "data": [
        {
         "marker": {
          "color": "#FF0033"
         },
         "name": "Goals",
         "orientation": "h",
         "type": "bar",
         "uid": "c1f5751e-d278-11e8-a0bd-54ab3aaa7998",
         "x": [
          1,
          1,
          1,
          1,
          1,
          2,
          2,
          2,
          2,
          2,
          2,
          3,
          4,
          5,
          6,
          7,
          12
         ],
         "y": [
          "Richard Ledezma",
          "Nick Besler",
          "Corey Baird",
          "Josh Heard",
          "José Hernández",
          "Andrew Brody",
          "Konrad Plewa",
          "Justin Portillo",
          "Jack Blake",
          "Juan Ignacio Mare",
          "Sebastián Saucedo",
          "Mastanabal Kacher",
          "Maikel Chang",
          "Kalen Ryden",
          "Charlie Adams",
          "Sebastian Velasquez",
          "Chandler Hoffman"
         ]
        },
        {
         "marker": {
          "color": "#9A03FE"
         },
         "name": "Assists",
         "orientation": "h",
         "type": "bar",
         "uid": "c1f5751f-d278-11e8-bd2f-54ab3aaa7998",
         "x": [
          1,
          1,
          1,
          1,
          1,
          1,
          1,
          1,
          2,
          2,
          3,
          4,
          4,
          4,
          5,
          7,
          9
         ],
         "y": [
          "Aaron Herrera",
          "Pablo Ruiz",
          "Mastanabal Kacher",
          "Kalen Ryden",
          "José Hernández",
          "Sebastián Saucedo",
          "Adam Henley",
          "James Moberg",
          "Charlie Adams",
          "Ricky Lopez-Espin",
          "Karsten Hanlin",
          "Josh Heard",
          "Jack Blake",
          "Sebastian Velasquez",
          "Chandler Hoffman",
          "Justin Portillo",
          "Maikel Chang"
         ]
        }
       ],
       "layout": {
        "autosize": true,
        "barmode": "stack",
        "title": "Real Monarchs SLC Top Scorers & Assisters",
        "xaxis": {
         "title": "Total Goals & Assists"
        }
       }
      },
      "text/html": [
       "<div id=\"172a1ee5-6ab3-4e12-b550-5264c0069ae5\" style=\"height: 525px; width: 100%;\" class=\"plotly-graph-div\"></div><script type=\"text/javascript\">require([\"plotly\"], function(Plotly) { window.PLOTLYENV=window.PLOTLYENV || {};window.PLOTLYENV.BASE_URL=\"https://plot.ly\";Plotly.newPlot(\"172a1ee5-6ab3-4e12-b550-5264c0069ae5\", [{\"marker\": {\"color\": \"#FF0033\"}, \"name\": \"Goals\", \"orientation\": \"h\", \"x\": [1.0, 1.0, 1.0, 1.0, 1.0, 2.0, 2.0, 2.0, 2.0, 2.0, 2.0, 3.0, 4.0, 5.0, 6.0, 7.0, 12.0], \"y\": [\"Richard Ledezma\", \"Nick Besler\", \"Corey Baird\", \"Josh Heard\", \"Jos\\u00e9 Hern\\u00e1ndez\", \"Andrew Brody\", \"Konrad Plewa\", \"Justin Portillo\", \"Jack Blake\", \"Juan Ignacio Mare\", \"Sebasti\\u00e1n Saucedo\", \"Mastanabal Kacher\", \"Maikel Chang\", \"Kalen Ryden\", \"Charlie Adams\", \"Sebastian Velasquez\", \"Chandler Hoffman\"], \"type\": \"bar\", \"uid\": \"c1f5751e-d278-11e8-a0bd-54ab3aaa7998\"}, {\"marker\": {\"color\": \"#9A03FE\"}, \"name\": \"Assists\", \"orientation\": \"h\", \"x\": [1.0, 1.0, 1.0, 1.0, 1.0, 1.0, 1.0, 1.0, 2.0, 2.0, 3.0, 4.0, 4.0, 4.0, 5.0, 7.0, 9.0], \"y\": [\"Aaron Herrera\", \"Pablo Ruiz\", \"Mastanabal Kacher\", \"Kalen Ryden\", \"Jos\\u00e9 Hern\\u00e1ndez\", \"Sebasti\\u00e1n Saucedo\", \"Adam Henley\", \"James Moberg\", \"Charlie Adams\", \"Ricky Lopez-Espin\", \"Karsten Hanlin\", \"Josh Heard\", \"Jack Blake\", \"Sebastian Velasquez\", \"Chandler Hoffman\", \"Justin Portillo\", \"Maikel Chang\"], \"type\": \"bar\", \"uid\": \"c1f5751f-d278-11e8-bd2f-54ab3aaa7998\"}], {\"autosize\": true, \"barmode\": \"stack\", \"title\": \"Real Monarchs SLC Top Scorers & Assisters\", \"xaxis\": {\"title\": \"Total Goals & Assists\"}}, {\"showLink\": true, \"linkText\": \"Export to plot.ly\"})});</script>"
      ],
      "text/vnd.plotly.v1+html": [
       "<div id=\"172a1ee5-6ab3-4e12-b550-5264c0069ae5\" style=\"height: 525px; width: 100%;\" class=\"plotly-graph-div\"></div><script type=\"text/javascript\">require([\"plotly\"], function(Plotly) { window.PLOTLYENV=window.PLOTLYENV || {};window.PLOTLYENV.BASE_URL=\"https://plot.ly\";Plotly.newPlot(\"172a1ee5-6ab3-4e12-b550-5264c0069ae5\", [{\"marker\": {\"color\": \"#FF0033\"}, \"name\": \"Goals\", \"orientation\": \"h\", \"x\": [1.0, 1.0, 1.0, 1.0, 1.0, 2.0, 2.0, 2.0, 2.0, 2.0, 2.0, 3.0, 4.0, 5.0, 6.0, 7.0, 12.0], \"y\": [\"Richard Ledezma\", \"Nick Besler\", \"Corey Baird\", \"Josh Heard\", \"Jos\\u00e9 Hern\\u00e1ndez\", \"Andrew Brody\", \"Konrad Plewa\", \"Justin Portillo\", \"Jack Blake\", \"Juan Ignacio Mare\", \"Sebasti\\u00e1n Saucedo\", \"Mastanabal Kacher\", \"Maikel Chang\", \"Kalen Ryden\", \"Charlie Adams\", \"Sebastian Velasquez\", \"Chandler Hoffman\"], \"type\": \"bar\", \"uid\": \"c1f5751e-d278-11e8-a0bd-54ab3aaa7998\"}, {\"marker\": {\"color\": \"#9A03FE\"}, \"name\": \"Assists\", \"orientation\": \"h\", \"x\": [1.0, 1.0, 1.0, 1.0, 1.0, 1.0, 1.0, 1.0, 2.0, 2.0, 3.0, 4.0, 4.0, 4.0, 5.0, 7.0, 9.0], \"y\": [\"Aaron Herrera\", \"Pablo Ruiz\", \"Mastanabal Kacher\", \"Kalen Ryden\", \"Jos\\u00e9 Hern\\u00e1ndez\", \"Sebasti\\u00e1n Saucedo\", \"Adam Henley\", \"James Moberg\", \"Charlie Adams\", \"Ricky Lopez-Espin\", \"Karsten Hanlin\", \"Josh Heard\", \"Jack Blake\", \"Sebastian Velasquez\", \"Chandler Hoffman\", \"Justin Portillo\", \"Maikel Chang\"], \"type\": \"bar\", \"uid\": \"c1f5751f-d278-11e8-bd2f-54ab3aaa7998\"}], {\"autosize\": true, \"barmode\": \"stack\", \"title\": \"Real Monarchs SLC Top Scorers & Assisters\", \"xaxis\": {\"title\": \"Total Goals & Assists\"}}, {\"showLink\": true, \"linkText\": \"Export to plot.ly\"})});</script>"
      ]
     },
     "metadata": {},
     "output_type": "display_data"
    }
   ],
   "source": [
    "data  = [\n",
    "        go.Bar(\n",
    "    y = renovs[(renovs['Team'] == opponent[0]) & (renovs['Goals'] > 0)]['Goals'].sort_values(ascending=True).index,\n",
    "    x = renovs[(renovs['Team'] == opponent[0]) & (renovs['Goals'] > 0)]['Goals'].sort_values(ascending=True),\n",
    "    orientation='h',\n",
    "    marker=dict(color='#FF0033'),\n",
    "    name='Goals'),\n",
    "    \n",
    "        go.Bar(\n",
    "    y = renovs[(renovs['Team'] == opponent[0]) & (renovs['Assists'] > 0)]['Assists'].sort_values(ascending=True).index,\n",
    "    x = renovs[(renovs['Team'] == opponent[0]) & (renovs['Assists'] > 0)]['Assists'].sort_values(ascending=True),\n",
    "    orientation='h',\n",
    "    marker=dict(color='#9A03FE'),\n",
    "    name='Assists')\n",
    "]\n",
    "\n",
    "layout = go.Layout(\n",
    "        title = opponent[0].replace('-',' ') + ' Top Scorers & Assisters',\n",
    "        xaxis = dict(title='Total Goals & Assists'),\n",
    "        barmode='stack',\n",
    "        autosize=True\n",
    ")\n",
    "\n",
    "fig  = go.Figure(data=data, layout=layout)\n",
    "# url_3 = py.plot(fig,auto_open=False)\n",
    "# py.iplot(fig)\n",
    "plotly.offline.iplot(fig)"
   ]
  },
  {
   "cell_type": "markdown",
   "metadata": {},
   "source": [
    "## **Plotly Dashboard**"
   ]
  },
  {
   "cell_type": "markdown",
   "metadata": {},
   "source": [
    "We can also make this into an updated dashboard every time we run our notebook. Unfortunately, I was not able to get this working, particularly due to incompatible versions of libraries. Though it does not work currently, this code would produce a dashboard on my personal Plotly account. I will leave this here just to show my thought process on other things I can do with this project!"
   ]
  },
  {
   "cell_type": "code",
   "execution_count": null,
   "metadata": {},
   "outputs": [],
   "source": [
    "# my_dboard = dashboard.Dashboard()"
   ]
  },
  {
   "cell_type": "code",
   "execution_count": null,
   "metadata": {},
   "outputs": [],
   "source": [
    "# my_dboard.get_preview()"
   ]
  },
  {
   "cell_type": "code",
   "execution_count": null,
   "metadata": {},
   "outputs": [],
   "source": [
    "'''\n",
    "import re\n",
    "\n",
    "def fileId_from_url(url):\n",
    "    raw_fileId = re.findall(\"~[A-z]+/[0-9]+\", url)[0][1:]\n",
    "    return str(raw_fileId).replace('/', ':')\n",
    "\n",
    "def sharekey_from_url(url):\n",
    "    if 'share_key=' not in url:\n",
    "        return \"This url is not 'sercret'. It does not have a secret key.\"\n",
    "    return url[url.find('share_key=') + len('share_key='):]\n",
    "\n",
    "fileId_1 = fileId_from_url(url_1)\n",
    "fileId_2 = fileId_from_url(url_2)\n",
    "fileId_3 = fileId_from_url(url_3)\n",
    "print(fileId_1)\n",
    "print(fileId_2)\n",
    "print(fileId_3)\n",
    "\n",
    "box_a = {\n",
    "    'type': 'box',\n",
    "    'boxType': 'plot',\n",
    "    'fileId': fileId_1,\n",
    "    'title': 'Reno 1868 vs. ' + str(opponent).replace('-',' ')\n",
    "}\n",
    "box_b = {\n",
    "    'type': 'box',\n",
    "    'boxType': 'plot',\n",
    "    'fileID': fileId_2,\n",
    "    'title':  'Reno 1868 Top Scorers & Assisters'\n",
    "}\n",
    "box_c = {\n",
    "    'type': 'box',\n",
    "    'boxType': 'plot',\n",
    "    'fileID': fileId_3,\n",
    "    'title':  str(opponent).replace('-',' ') + ' Top Scorers & Assisters'\n",
    "}\n",
    "'''"
   ]
  },
  {
   "cell_type": "code",
   "execution_count": null,
   "metadata": {},
   "outputs": [],
   "source": [
    "# my_dboard['settings']['title'] = 'Reno 1868'"
   ]
  },
  {
   "cell_type": "code",
   "execution_count": null,
   "metadata": {},
   "outputs": [],
   "source": [
    "# my_dboard['settings']['logoUrl'] = 'https://media.graytvinc.com/images/810*954/1868-SOCCER-KIT.jpg'"
   ]
  },
  {
   "cell_type": "code",
   "execution_count": null,
   "metadata": {},
   "outputs": [],
   "source": [
    "# my_dboard.insert(box_a)"
   ]
  },
  {
   "cell_type": "code",
   "execution_count": null,
   "metadata": {},
   "outputs": [],
   "source": [
    "# my_dboard.insert(box_b,'above',1)"
   ]
  },
  {
   "cell_type": "code",
   "execution_count": null,
   "metadata": {},
   "outputs": [],
   "source": [
    "# my_dboard.insert(box_c,'right',1)"
   ]
  },
  {
   "cell_type": "code",
   "execution_count": null,
   "metadata": {},
   "outputs": [],
   "source": [
    "# py.dashboard_ops.upload(my_dboard, 'Reno 1868 Dashboard',sharing='public',auto_open=True)"
   ]
  }
 ],
 "metadata": {
  "kernelspec": {
   "display_name": "Python 3",
   "language": "python",
   "name": "python3"
  },
  "language_info": {
   "codemirror_mode": {
    "name": "ipython",
    "version": 3
   },
   "file_extension": ".py",
   "mimetype": "text/x-python",
   "name": "python",
   "nbconvert_exporter": "python",
   "pygments_lexer": "ipython3",
   "version": "3.6.6"
  }
 },
 "nbformat": 4,
 "nbformat_minor": 2
}
