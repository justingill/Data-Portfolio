{
 "cells": [
  {
   "cell_type": "markdown",
   "metadata": {},
   "source": [
    "# **United Soccer League Web Scraper** "
   ]
  },
  {
   "cell_type": "markdown",
   "metadata": {},
   "source": [
    "### Before viewing, I advise you to view it [here](https://nbviewer.jupyter.org/github/justingill/Data-Portfolio/blob/master/USL_Scraper.ipynb) instead because Github doesn't support Plotly charts."
   ]
  },
  {
   "cell_type": "markdown",
   "metadata": {},
   "source": [
    "In this project, we will be interested in examining the performance of my local Reno soccer team, [Reno 1868 FC](https://www.reno1868fc.com/). We must first start this project by obtaining the data needed to produce interpretable results. Luckily, the [USL website](https://www.uslsoccer.com/usl-statistics) keeps a very good record of league, team, and player stats which we may scrape for our own analytical use. "
   ]
  },
  {
   "cell_type": "markdown",
   "metadata": {},
   "source": [
    "![](https://www.visitrenotahoe.com/wp-content/uploads/2017/06/Reno1868Blog-1.jpg)"
   ]
  },
  {
   "cell_type": "markdown",
   "metadata": {},
   "source": [
    "## **Import Libraries**"
   ]
  },
  {
   "cell_type": "markdown",
   "metadata": {},
   "source": [
    "Let's start by importing all the libraries we will use for this project."
   ]
  },
  {
   "cell_type": "code",
   "execution_count": 1,
   "metadata": {},
   "outputs": [
    {
     "data": {
      "text/html": [
       "<script>requirejs.config({paths: { 'plotly': ['https://cdn.plot.ly/plotly-latest.min']},});if(!window.Plotly) {{require(['plotly'],function(plotly) {window.Plotly=plotly;});}}</script>"
      ],
      "text/vnd.plotly.v1+html": [
       "<script>requirejs.config({paths: { 'plotly': ['https://cdn.plot.ly/plotly-latest.min']},});if(!window.Plotly) {{require(['plotly'],function(plotly) {window.Plotly=plotly;});}}</script>"
      ]
     },
     "metadata": {},
     "output_type": "display_data"
    }
   ],
   "source": [
    "import seaborn as sns\n",
    "import functools\n",
    "import matplotlib.pyplot as plt\n",
    "import numpy as np \n",
    "import pandas as pd\n",
    "import sqlite3\n",
    "from bs4 import BeautifulSoup\n",
    "from selenium import webdriver\n",
    "from selenium.webdriver.support.ui import WebDriverWait\n",
    "from selenium.webdriver.support import expected_conditions as EC\n",
    "from selenium.webdriver.common.by import By\n",
    "from selenium.common.exceptions import TimeoutException, NoSuchElementException\n",
    "import time\n",
    "import datetime\n",
    "import plotly.offline\n",
    "import plotly\n",
    "import plotly.plotly as py\n",
    "import plotly.graph_objs as go\n",
    "import plotly.dashboard_objs as dashboard\n",
    "\n",
    "plotly.offline.init_notebook_mode(connected=True)\n",
    "\n",
    "%matplotlib inline"
   ]
  },
  {
   "cell_type": "markdown",
   "metadata": {},
   "source": [
    "## **Define Functions**"
   ]
  },
  {
   "cell_type": "markdown",
   "metadata": {},
   "source": [
    "We start this project by first defining the necessary functions for scraping and creating our dataframe we wish to work with.\n",
    "\n",
    "* ***get_latest_opponent*** - This function visits ESPN's [website](http://www.espn.com/soccer/team/fixtures/_/id/18453/reno-1868-fc) for Reno 1868 and scrapes the displayed matches for Reno 1868's next opponent; returning a dataframe with only players from Reno 1868 and their opponent.\n",
    "\n",
    "* ***check_first_last*** - This will check the player list and make sure that the player has both a first and last name.\n",
    "\n",
    "* ***make_team_df*** - This function will create a dataframe for the team using the html scraped by BeautifulSoup and return a dataframe to be merged into a dataframe of all the teams.\n",
    "\n",
    "* ***save_to_SQL*** - This function will clean up the dataframe by creating a new column 'Player',dropping unnecessary columns, replacing placeholder values, correcting data types for columns, setting Player as the index, then saving it to a SQL database.\n",
    "                  \n",
    "* ***scrape_USL*** - This function acts as a 'main' function and encompasses the scraping of the data, cleaning and writing to SQL database. This function scrapes USL's [Standings](https://www.uslsoccer.com/usl-standings) to obtain all current teams playing in the USL. The soup objects of each team webpage are then passed into make_team_df and merged together. Lastly, this dataframe is cleaned by save_to_sql and saved to a SQL database.\n"
   ]
  },
  {
   "cell_type": "code",
   "execution_count": 2,
   "metadata": {},
   "outputs": [],
   "source": [
    "def get_latest_opponent(usl):\n",
    "    release = False\n",
    "    while(release == False):\n",
    "        options = webdriver.ChromeOptions()\n",
    "        options.add_argument('headless')\n",
    "        driver = webdriver.Chrome(executable_path=\"/Users/Justin/Desktop/chromedriver\",options=options)\n",
    "        driver.get('https://www.reno1868fc.com/2018-schedule')\n",
    "        soup2 = BeautifulSoup(driver.page_source,'html.parser')\n",
    "        driver.quit()\n",
    "        try:\n",
    "            opponent = soup2.find(class_='tableWrapper'\n",
    "                             ).find('tbody'\n",
    "                                   ).find_all('tr'\n",
    "                                             )[-4].get_text(' '\n",
    "                                                           ).split('\\n'\n",
    "                                                                  )[3].strip().replace(' ','-')\n",
    "            release = True\n",
    "        except:\n",
    "            print('Latest Opponent Page Error.. Retrying')\n",
    "            \n",
    "    \n",
    "    renovs = usl[(usl['Team'] == 'Reno-1868-FC') \n",
    "                 | (usl['Team'] == str(opponent))]\n",
    "    return renovs"
   ]
  },
  {
   "cell_type": "markdown",
   "metadata": {},
   "source": [
    "check_first_last simply makes sure our dataframe stays the same size by adding a blank first or last name if either is missing."
   ]
  },
  {
   "cell_type": "code",
   "execution_count": 3,
   "metadata": {},
   "outputs": [],
   "source": [
    "def check_first_last(player_list,length):\n",
    "    if player_list == None:\n",
    "        return player_list\n",
    "    if len(player_list) == (length+1):\n",
    "        player_list[1] = ' '.join(player_list[1:3])\n",
    "        del player_list[2]\n",
    "        return player_list\n",
    "    elif len(player_list) == (length-1):\n",
    "        player_list.insert(1,'-')\n",
    "        return player_list\n",
    "    else:\n",
    "        return player_list"
   ]
  },
  {
   "cell_type": "markdown",
   "metadata": {},
   "source": [
    "make_team_df takes in a soup variable which corresponds to a team page, which looks like [this](https://www.uslsoccer.com/reno-1868-fc-player-stats). We scrape the page for the data contained in the 'Full Player Stats' section, merge and return the manipulated dataframe. "
   ]
  },
  {
   "cell_type": "code",
   "execution_count": 4,
   "metadata": {},
   "outputs": [],
   "source": [
    "def make_team_df(soup):\n",
    "    seperations = len(soup.find(class_='Opta-Table-Scroll Opta-Table-Scroll-One-Liner Opta-js-discipline'\n",
    "                               ).find_all(role='row'))-1\n",
    "    \n",
    "    length_rows = len(soup.find_all(role='row'))\n",
    "\n",
    "    general_columns = ['First','Last','Games Played','Starts','Subbed off','Minutes Played']\n",
    "    \n",
    "    distribution_columns = ['First','Last','Passes','Passing Acc','Long Passes','Long Pass Acc',\n",
    "                            'Pass per 90','Forward Passes','Backward Passes','Left Pass',\n",
    "                            'Right Pass','Passing Acc Opponents Half',\n",
    "                            'Passing Acc Own Half','Assists','Key Passes','Crosses','Crossing Acc']\n",
    "    \n",
    "    attack_columns = ['First','Last','Shots','Shots on Target','Goals','Right Foot Goals',\n",
    "                      'Left Foot Goals','Heading Goals','Other','Goals In Box','Goals Out Box',\n",
    "                      'Free Kick Goals','Conversion Rate','Mins Per Goal']\n",
    "    \n",
    "    defense_columns = ['First','Last','Clears','Blocks','Interceptions','Tackles',\n",
    "                       'Tackles Won','Duels','Duels Won','Air Duels','Air Duels Won']\n",
    "    discipline_columns = ['First','Last','Yellow Cards','Red Cards','Fouls Won','Fouls Conceded']\n",
    "\n",
    "    goalkeeping_columns = ['First','Last','Goals Conceded','Shot At','Saves','Save Rate',\n",
    "                           'Clean Sheets','Catches','Punches','Drops','Penalties Saved',\n",
    "                           'Clearances']\n",
    "    \n",
    "    discipline_df = pd.DataFrame([check_first_last(player.get_text(' ').split(' '),\n",
    "                                                   len(discipline_columns)) \n",
    "                                  for player in soup.find_all(role='row')[seperations*4+5:seperations*5+5]],\n",
    "                                 columns=discipline_columns)\n",
    "    \n",
    "    defense_df = pd.DataFrame([check_first_last(player.get_text(' ').split(' '),\n",
    "                                                len(defense_columns)) \n",
    "                               for player in soup.find_all(role='row')[seperations*3+4:seperations*4+4]],\n",
    "                              columns=defense_columns)\n",
    "    \n",
    "    attack_df = pd.DataFrame([check_first_last(player.get_text(' ').split(' '),\n",
    "                                               len(attack_columns)) \n",
    "                              for player in soup.find_all(role='row')[seperations*2+3:seperations*3+3]],\n",
    "                             columns=attack_columns)\n",
    "    \n",
    "    distribution_df = pd.DataFrame([check_first_last(player.get_text(' ').split(' '),\n",
    "                                                     len(distribution_columns)) \n",
    "                                    for player in soup.find_all(role='row')[seperations+2:seperations*2+2]],\n",
    "                                   columns=distribution_columns)\n",
    "    \n",
    "    general_df = pd.DataFrame([check_first_last(player.get_text(' ').split(' '),\n",
    "                                                len(general_columns)) \n",
    "                               for player in soup.find_all(role='row')[1:seperations+1]],\n",
    "                             columns=general_columns)\n",
    "    \n",
    "    goalkeeping_df = pd.DataFrame([check_first_last(player.get_text(' ').split(' '),\n",
    "                                len(goalkeeping_columns))for player in soup.find_all(role='row')[seperations*5+6:length_rows]],\n",
    "                                 columns=goalkeeping_columns)\n",
    "\n",
    "    df = [general_df,distribution_df,attack_df,defense_df,discipline_df,goalkeeping_df]\n",
    "    df_merge = functools.reduce(lambda left,right: pd.merge(left,right,on=['First','Last'],\n",
    "                                                how='outer'), df).fillna(0)\n",
    "    return df_merge"
   ]
  },
  {
   "cell_type": "markdown",
   "metadata": {},
   "source": [
    "save_to_SQL cleans the passed dataframe and saves it as a new table named after the current date, then returns the cleaned dataframe."
   ]
  },
  {
   "cell_type": "code",
   "execution_count": 5,
   "metadata": {},
   "outputs": [],
   "source": [
    "def save_to_SQL(usl):\n",
    "    usl.replace('-',0,inplace=True)\n",
    "    usl = usl.applymap(lambda x: str(x).replace(',',''))\n",
    "    usl['Player'] = usl['First']+ ' ' + usl['Last']\n",
    "    usl.set_index('Player',drop=True,inplace=True)\n",
    "    usl.drop(['First','Last'],axis=1,inplace=True)\n",
    "\n",
    "    float_types = [e for e in list(usl.columns) if e not in ['Player','Team']]\n",
    "    usl[float_types] = usl[float_types].applymap(lambda x: round(float(x),3))\n",
    "    usl['Subbed on'] = usl['Games Played'] - usl['Starts']\n",
    "    con = sqlite3.connect('USL.sqlite')\n",
    "    usl.to_sql((str(datetime.date.today())),con,if_exists='replace')\n",
    "    return usl"
   ]
  },
  {
   "cell_type": "markdown",
   "metadata": {},
   "source": [
    "scrape_USL acts almost as a 'main' function for the program. It starts up a chrome webdriver using Selenium and proceeds to access the [league standings](https://www.uslsoccer.com/usl-standings). We scrape this page for all the current teams and then store this data away in a list. We can then use this list to visit all the team stats webpages and collect individual data for each player."
   ]
  },
  {
   "cell_type": "code",
   "execution_count": 6,
   "metadata": {},
   "outputs": [],
   "source": [
    "def scrape_USL():\n",
    "    start = time.time()\n",
    "    standing_release = False\n",
    "    while(standing_release == False):\n",
    "        options = webdriver.ChromeOptions()\n",
    "        options.add_argument('headless')\n",
    "        driver = webdriver.Chrome(executable_path=\"/Users/Justin/Desktop/chromedriver\",options=options)\n",
    "        driver.get('https://www.uslsoccer.com/usl-standings')\n",
    "        time.sleep(1)\n",
    "        presoup = BeautifulSoup(driver.page_source,'html.parser')\n",
    "        try:\n",
    "            teams = [team.get_text().replace(' ','-') \n",
    "                     if team.get_text() != 'Pittsburgh Riverhounds SC' \n",
    "                     else 'Pittsburgh-Riverhounds' \n",
    "                     for team in presoup.find_all(class_='Opta-TeamLink Opta-Ext')]\n",
    "            standing_release = True\n",
    "        except:\n",
    "            print('Error Loading Standings. Retrying...')\n",
    "\n",
    "    url = 'https://www.uslsoccer.com/{}-player-stats'\n",
    "\n",
    "    usl = pd.DataFrame()\n",
    "    \n",
    "    for team in teams:\n",
    "        release = False\n",
    "        while(release == False):\n",
    "            driver.get(url.format(team))\n",
    "            timeout = 10\n",
    "            try:\n",
    "                element_present = EC.visibility_of_element_located((By.CLASS_NAME,\n",
    "                                                                    'Opta-TabbedContent'))\n",
    "                WebDriverWait(driver, timeout).until(element_present)\n",
    "            except TimeoutException:\n",
    "                print(\"Timed out waiting for {}\".format(team))\n",
    "\n",
    "            try:\n",
    "                soup = BeautifulSoup(driver.page_source,'html5lib')\n",
    "                team_df = make_team_df(soup)\n",
    "                team_df['Team'] = team\n",
    "                usl = pd.concat([usl,team_df],axis=0)\n",
    "                release = True\n",
    "            except:\n",
    "                release=False\n",
    "\n",
    "    usl = save_to_SQL(usl)\n",
    "    driver.quit()\n",
    "    stop = time.time()\n",
    "    return usl,stop-start"
   ]
  },
  {
   "cell_type": "markdown",
   "metadata": {},
   "source": [
    "Let's call our function!"
   ]
  },
  {
   "cell_type": "code",
   "execution_count": 7,
   "metadata": {},
   "outputs": [
    {
     "name": "stdout",
     "output_type": "stream",
     "text": [
      "Timed out waiting for Louisville-City-FC\n"
     ]
    },
    {
     "name": "stderr",
     "output_type": "stream",
     "text": [
      "C:\\Users\\Justin\\Anaconda3\\lib\\site-packages\\pandas\\core\\generic.py:1534: UserWarning:\n",
      "\n",
      "The spaces in these column names will not be changed. In pandas versions < 0.14, spaces were converted to underscores.\n",
      "\n"
     ]
    },
    {
     "name": "stdout",
     "output_type": "stream",
     "text": [
      "Program ran in : 394.8856313228607 seconds.\n"
     ]
    }
   ],
   "source": [
    "usl,runtime = scrape_USL()\n",
    "print(\"Program ran in : {} seconds.\".format(runtime))"
   ]
  },
  {
   "cell_type": "markdown",
   "metadata": {},
   "source": [
    "Let's check the league dataframe."
   ]
  },
  {
   "cell_type": "code",
   "execution_count": 8,
   "metadata": {},
   "outputs": [
    {
     "data": {
      "text/html": [
       "<div>\n",
       "<style scoped>\n",
       "    .dataframe tbody tr th:only-of-type {\n",
       "        vertical-align: middle;\n",
       "    }\n",
       "\n",
       "    .dataframe tbody tr th {\n",
       "        vertical-align: top;\n",
       "    }\n",
       "\n",
       "    .dataframe thead th {\n",
       "        text-align: right;\n",
       "    }\n",
       "</style>\n",
       "<table border=\"1\" class=\"dataframe\">\n",
       "  <thead>\n",
       "    <tr style=\"text-align: right;\">\n",
       "      <th></th>\n",
       "      <th>Games Played</th>\n",
       "      <th>Starts</th>\n",
       "      <th>Subbed off</th>\n",
       "      <th>Minutes Played</th>\n",
       "      <th>Passes</th>\n",
       "      <th>Passing Acc</th>\n",
       "      <th>Long Passes</th>\n",
       "      <th>Long Pass Acc</th>\n",
       "      <th>Pass per 90</th>\n",
       "      <th>Forward Passes</th>\n",
       "      <th>...</th>\n",
       "      <th>Saves</th>\n",
       "      <th>Save Rate</th>\n",
       "      <th>Clean Sheets</th>\n",
       "      <th>Catches</th>\n",
       "      <th>Punches</th>\n",
       "      <th>Drops</th>\n",
       "      <th>Penalties Saved</th>\n",
       "      <th>Clearances</th>\n",
       "      <th>Team</th>\n",
       "      <th>Subbed on</th>\n",
       "    </tr>\n",
       "    <tr>\n",
       "      <th>Player</th>\n",
       "      <th></th>\n",
       "      <th></th>\n",
       "      <th></th>\n",
       "      <th></th>\n",
       "      <th></th>\n",
       "      <th></th>\n",
       "      <th></th>\n",
       "      <th></th>\n",
       "      <th></th>\n",
       "      <th></th>\n",
       "      <th></th>\n",
       "      <th></th>\n",
       "      <th></th>\n",
       "      <th></th>\n",
       "      <th></th>\n",
       "      <th></th>\n",
       "      <th></th>\n",
       "      <th></th>\n",
       "      <th></th>\n",
       "      <th></th>\n",
       "      <th></th>\n",
       "    </tr>\n",
       "  </thead>\n",
       "  <tbody>\n",
       "    <tr>\n",
       "      <th>Blake Smith</th>\n",
       "      <td>32.0</td>\n",
       "      <td>30.0</td>\n",
       "      <td>4.0</td>\n",
       "      <td>2698.0</td>\n",
       "      <td>1388.0</td>\n",
       "      <td>79.7</td>\n",
       "      <td>193.0</td>\n",
       "      <td>48.7</td>\n",
       "      <td>46.3</td>\n",
       "      <td>601.0</td>\n",
       "      <td>...</td>\n",
       "      <td>0.0</td>\n",
       "      <td>0.0</td>\n",
       "      <td>0.0</td>\n",
       "      <td>0.0</td>\n",
       "      <td>0.0</td>\n",
       "      <td>0.0</td>\n",
       "      <td>0.0</td>\n",
       "      <td>0.0</td>\n",
       "      <td>FC-Cincinnati</td>\n",
       "      <td>2.0</td>\n",
       "    </tr>\n",
       "    <tr>\n",
       "      <th>Corben Bone</th>\n",
       "      <td>34.0</td>\n",
       "      <td>32.0</td>\n",
       "      <td>10.0</td>\n",
       "      <td>2810.0</td>\n",
       "      <td>1491.0</td>\n",
       "      <td>83.6</td>\n",
       "      <td>96.0</td>\n",
       "      <td>65.6</td>\n",
       "      <td>47.8</td>\n",
       "      <td>366.0</td>\n",
       "      <td>...</td>\n",
       "      <td>0.0</td>\n",
       "      <td>0.0</td>\n",
       "      <td>0.0</td>\n",
       "      <td>0.0</td>\n",
       "      <td>0.0</td>\n",
       "      <td>0.0</td>\n",
       "      <td>0.0</td>\n",
       "      <td>0.0</td>\n",
       "      <td>FC-Cincinnati</td>\n",
       "      <td>2.0</td>\n",
       "    </tr>\n",
       "    <tr>\n",
       "      <th>Daniel Haber</th>\n",
       "      <td>17.0</td>\n",
       "      <td>5.0</td>\n",
       "      <td>5.0</td>\n",
       "      <td>490.0</td>\n",
       "      <td>158.0</td>\n",
       "      <td>72.2</td>\n",
       "      <td>12.0</td>\n",
       "      <td>16.7</td>\n",
       "      <td>29.0</td>\n",
       "      <td>46.0</td>\n",
       "      <td>...</td>\n",
       "      <td>0.0</td>\n",
       "      <td>0.0</td>\n",
       "      <td>0.0</td>\n",
       "      <td>0.0</td>\n",
       "      <td>0.0</td>\n",
       "      <td>0.0</td>\n",
       "      <td>0.0</td>\n",
       "      <td>0.0</td>\n",
       "      <td>FC-Cincinnati</td>\n",
       "      <td>12.0</td>\n",
       "    </tr>\n",
       "    <tr>\n",
       "      <th>Danni Konig</th>\n",
       "      <td>28.0</td>\n",
       "      <td>17.0</td>\n",
       "      <td>14.0</td>\n",
       "      <td>1558.0</td>\n",
       "      <td>331.0</td>\n",
       "      <td>63.7</td>\n",
       "      <td>5.0</td>\n",
       "      <td>20.0</td>\n",
       "      <td>19.1</td>\n",
       "      <td>60.0</td>\n",
       "      <td>...</td>\n",
       "      <td>0.0</td>\n",
       "      <td>0.0</td>\n",
       "      <td>0.0</td>\n",
       "      <td>0.0</td>\n",
       "      <td>0.0</td>\n",
       "      <td>0.0</td>\n",
       "      <td>0.0</td>\n",
       "      <td>0.0</td>\n",
       "      <td>FC-Cincinnati</td>\n",
       "      <td>11.0</td>\n",
       "    </tr>\n",
       "    <tr>\n",
       "      <th>Dekel Keinan</th>\n",
       "      <td>22.0</td>\n",
       "      <td>22.0</td>\n",
       "      <td>1.0</td>\n",
       "      <td>1926.0</td>\n",
       "      <td>863.0</td>\n",
       "      <td>80.6</td>\n",
       "      <td>154.0</td>\n",
       "      <td>44.2</td>\n",
       "      <td>40.3</td>\n",
       "      <td>380.0</td>\n",
       "      <td>...</td>\n",
       "      <td>0.0</td>\n",
       "      <td>0.0</td>\n",
       "      <td>0.0</td>\n",
       "      <td>0.0</td>\n",
       "      <td>0.0</td>\n",
       "      <td>0.0</td>\n",
       "      <td>0.0</td>\n",
       "      <td>0.0</td>\n",
       "      <td>FC-Cincinnati</td>\n",
       "      <td>0.0</td>\n",
       "    </tr>\n",
       "  </tbody>\n",
       "</table>\n",
       "<p>5 rows × 56 columns</p>\n",
       "</div>"
      ],
      "text/plain": [
       "              Games Played  Starts  Subbed off  Minutes Played  Passes  \\\n",
       "Player                                                                   \n",
       "Blake Smith           32.0    30.0         4.0          2698.0  1388.0   \n",
       "Corben Bone           34.0    32.0        10.0          2810.0  1491.0   \n",
       "Daniel Haber          17.0     5.0         5.0           490.0   158.0   \n",
       "Danni Konig           28.0    17.0        14.0          1558.0   331.0   \n",
       "Dekel Keinan          22.0    22.0         1.0          1926.0   863.0   \n",
       "\n",
       "              Passing Acc  Long Passes  Long Pass Acc  Pass per 90  \\\n",
       "Player                                                               \n",
       "Blake Smith          79.7        193.0           48.7         46.3   \n",
       "Corben Bone          83.6         96.0           65.6         47.8   \n",
       "Daniel Haber         72.2         12.0           16.7         29.0   \n",
       "Danni Konig          63.7          5.0           20.0         19.1   \n",
       "Dekel Keinan         80.6        154.0           44.2         40.3   \n",
       "\n",
       "              Forward Passes    ...      Saves  Save Rate  Clean Sheets  \\\n",
       "Player                          ...                                       \n",
       "Blake Smith            601.0    ...        0.0        0.0           0.0   \n",
       "Corben Bone            366.0    ...        0.0        0.0           0.0   \n",
       "Daniel Haber            46.0    ...        0.0        0.0           0.0   \n",
       "Danni Konig             60.0    ...        0.0        0.0           0.0   \n",
       "Dekel Keinan           380.0    ...        0.0        0.0           0.0   \n",
       "\n",
       "              Catches  Punches  Drops  Penalties Saved  Clearances  \\\n",
       "Player                                                               \n",
       "Blake Smith       0.0      0.0    0.0              0.0         0.0   \n",
       "Corben Bone       0.0      0.0    0.0              0.0         0.0   \n",
       "Daniel Haber      0.0      0.0    0.0              0.0         0.0   \n",
       "Danni Konig       0.0      0.0    0.0              0.0         0.0   \n",
       "Dekel Keinan      0.0      0.0    0.0              0.0         0.0   \n",
       "\n",
       "                       Team  Subbed on  \n",
       "Player                                  \n",
       "Blake Smith   FC-Cincinnati        2.0  \n",
       "Corben Bone   FC-Cincinnati        2.0  \n",
       "Daniel Haber  FC-Cincinnati       12.0  \n",
       "Danni Konig   FC-Cincinnati       11.0  \n",
       "Dekel Keinan  FC-Cincinnati        0.0  \n",
       "\n",
       "[5 rows x 56 columns]"
      ]
     },
     "execution_count": 8,
     "metadata": {},
     "output_type": "execute_result"
    }
   ],
   "source": [
    "usl.head()"
   ]
  },
  {
   "cell_type": "markdown",
   "metadata": {},
   "source": [
    "Great! We can also check that our SQL database is working correctly."
   ]
  },
  {
   "cell_type": "code",
   "execution_count": 9,
   "metadata": {},
   "outputs": [],
   "source": [
    "con = sqlite3.connect('USL.sqlite')\n",
    "usl_read = pd.read_sql_query('Select * from \"{}\"'.format(str(datetime.date.today())),\n",
    "                             con,\n",
    "                             coerce_float=True)\n",
    "con.close()"
   ]
  },
  {
   "cell_type": "code",
   "execution_count": 10,
   "metadata": {
    "scrolled": true
   },
   "outputs": [
    {
     "data": {
      "text/html": [
       "<div>\n",
       "<style scoped>\n",
       "    .dataframe tbody tr th:only-of-type {\n",
       "        vertical-align: middle;\n",
       "    }\n",
       "\n",
       "    .dataframe tbody tr th {\n",
       "        vertical-align: top;\n",
       "    }\n",
       "\n",
       "    .dataframe thead th {\n",
       "        text-align: right;\n",
       "    }\n",
       "</style>\n",
       "<table border=\"1\" class=\"dataframe\">\n",
       "  <thead>\n",
       "    <tr style=\"text-align: right;\">\n",
       "      <th></th>\n",
       "      <th>Player</th>\n",
       "      <th>Games Played</th>\n",
       "      <th>Starts</th>\n",
       "      <th>Subbed off</th>\n",
       "      <th>Minutes Played</th>\n",
       "      <th>Passes</th>\n",
       "      <th>Passing Acc</th>\n",
       "      <th>Long Passes</th>\n",
       "      <th>Long Pass Acc</th>\n",
       "      <th>Pass per 90</th>\n",
       "      <th>...</th>\n",
       "      <th>Saves</th>\n",
       "      <th>Save Rate</th>\n",
       "      <th>Clean Sheets</th>\n",
       "      <th>Catches</th>\n",
       "      <th>Punches</th>\n",
       "      <th>Drops</th>\n",
       "      <th>Penalties Saved</th>\n",
       "      <th>Clearances</th>\n",
       "      <th>Team</th>\n",
       "      <th>Subbed on</th>\n",
       "    </tr>\n",
       "  </thead>\n",
       "  <tbody>\n",
       "    <tr>\n",
       "      <th>0</th>\n",
       "      <td>Blake Smith</td>\n",
       "      <td>32.0</td>\n",
       "      <td>30.0</td>\n",
       "      <td>4.0</td>\n",
       "      <td>2698.0</td>\n",
       "      <td>1388.0</td>\n",
       "      <td>79.7</td>\n",
       "      <td>193.0</td>\n",
       "      <td>48.7</td>\n",
       "      <td>46.3</td>\n",
       "      <td>...</td>\n",
       "      <td>0.0</td>\n",
       "      <td>0.0</td>\n",
       "      <td>0.0</td>\n",
       "      <td>0.0</td>\n",
       "      <td>0.0</td>\n",
       "      <td>0.0</td>\n",
       "      <td>0.0</td>\n",
       "      <td>0.0</td>\n",
       "      <td>FC-Cincinnati</td>\n",
       "      <td>2.0</td>\n",
       "    </tr>\n",
       "    <tr>\n",
       "      <th>1</th>\n",
       "      <td>Corben Bone</td>\n",
       "      <td>34.0</td>\n",
       "      <td>32.0</td>\n",
       "      <td>10.0</td>\n",
       "      <td>2810.0</td>\n",
       "      <td>1491.0</td>\n",
       "      <td>83.6</td>\n",
       "      <td>96.0</td>\n",
       "      <td>65.6</td>\n",
       "      <td>47.8</td>\n",
       "      <td>...</td>\n",
       "      <td>0.0</td>\n",
       "      <td>0.0</td>\n",
       "      <td>0.0</td>\n",
       "      <td>0.0</td>\n",
       "      <td>0.0</td>\n",
       "      <td>0.0</td>\n",
       "      <td>0.0</td>\n",
       "      <td>0.0</td>\n",
       "      <td>FC-Cincinnati</td>\n",
       "      <td>2.0</td>\n",
       "    </tr>\n",
       "    <tr>\n",
       "      <th>2</th>\n",
       "      <td>Daniel Haber</td>\n",
       "      <td>17.0</td>\n",
       "      <td>5.0</td>\n",
       "      <td>5.0</td>\n",
       "      <td>490.0</td>\n",
       "      <td>158.0</td>\n",
       "      <td>72.2</td>\n",
       "      <td>12.0</td>\n",
       "      <td>16.7</td>\n",
       "      <td>29.0</td>\n",
       "      <td>...</td>\n",
       "      <td>0.0</td>\n",
       "      <td>0.0</td>\n",
       "      <td>0.0</td>\n",
       "      <td>0.0</td>\n",
       "      <td>0.0</td>\n",
       "      <td>0.0</td>\n",
       "      <td>0.0</td>\n",
       "      <td>0.0</td>\n",
       "      <td>FC-Cincinnati</td>\n",
       "      <td>12.0</td>\n",
       "    </tr>\n",
       "    <tr>\n",
       "      <th>3</th>\n",
       "      <td>Danni Konig</td>\n",
       "      <td>28.0</td>\n",
       "      <td>17.0</td>\n",
       "      <td>14.0</td>\n",
       "      <td>1558.0</td>\n",
       "      <td>331.0</td>\n",
       "      <td>63.7</td>\n",
       "      <td>5.0</td>\n",
       "      <td>20.0</td>\n",
       "      <td>19.1</td>\n",
       "      <td>...</td>\n",
       "      <td>0.0</td>\n",
       "      <td>0.0</td>\n",
       "      <td>0.0</td>\n",
       "      <td>0.0</td>\n",
       "      <td>0.0</td>\n",
       "      <td>0.0</td>\n",
       "      <td>0.0</td>\n",
       "      <td>0.0</td>\n",
       "      <td>FC-Cincinnati</td>\n",
       "      <td>11.0</td>\n",
       "    </tr>\n",
       "    <tr>\n",
       "      <th>4</th>\n",
       "      <td>Dekel Keinan</td>\n",
       "      <td>22.0</td>\n",
       "      <td>22.0</td>\n",
       "      <td>1.0</td>\n",
       "      <td>1926.0</td>\n",
       "      <td>863.0</td>\n",
       "      <td>80.6</td>\n",
       "      <td>154.0</td>\n",
       "      <td>44.2</td>\n",
       "      <td>40.3</td>\n",
       "      <td>...</td>\n",
       "      <td>0.0</td>\n",
       "      <td>0.0</td>\n",
       "      <td>0.0</td>\n",
       "      <td>0.0</td>\n",
       "      <td>0.0</td>\n",
       "      <td>0.0</td>\n",
       "      <td>0.0</td>\n",
       "      <td>0.0</td>\n",
       "      <td>FC-Cincinnati</td>\n",
       "      <td>0.0</td>\n",
       "    </tr>\n",
       "  </tbody>\n",
       "</table>\n",
       "<p>5 rows × 57 columns</p>\n",
       "</div>"
      ],
      "text/plain": [
       "         Player  Games Played  Starts  Subbed off  Minutes Played  Passes  \\\n",
       "0   Blake Smith          32.0    30.0         4.0          2698.0  1388.0   \n",
       "1   Corben Bone          34.0    32.0        10.0          2810.0  1491.0   \n",
       "2  Daniel Haber          17.0     5.0         5.0           490.0   158.0   \n",
       "3   Danni Konig          28.0    17.0        14.0          1558.0   331.0   \n",
       "4  Dekel Keinan          22.0    22.0         1.0          1926.0   863.0   \n",
       "\n",
       "   Passing Acc  Long Passes  Long Pass Acc  Pass per 90    ...      Saves  \\\n",
       "0         79.7        193.0           48.7         46.3    ...        0.0   \n",
       "1         83.6         96.0           65.6         47.8    ...        0.0   \n",
       "2         72.2         12.0           16.7         29.0    ...        0.0   \n",
       "3         63.7          5.0           20.0         19.1    ...        0.0   \n",
       "4         80.6        154.0           44.2         40.3    ...        0.0   \n",
       "\n",
       "   Save Rate  Clean Sheets  Catches  Punches  Drops  Penalties Saved  \\\n",
       "0        0.0           0.0      0.0      0.0    0.0              0.0   \n",
       "1        0.0           0.0      0.0      0.0    0.0              0.0   \n",
       "2        0.0           0.0      0.0      0.0    0.0              0.0   \n",
       "3        0.0           0.0      0.0      0.0    0.0              0.0   \n",
       "4        0.0           0.0      0.0      0.0    0.0              0.0   \n",
       "\n",
       "   Clearances           Team  Subbed on  \n",
       "0         0.0  FC-Cincinnati        2.0  \n",
       "1         0.0  FC-Cincinnati        2.0  \n",
       "2         0.0  FC-Cincinnati       12.0  \n",
       "3         0.0  FC-Cincinnati       11.0  \n",
       "4         0.0  FC-Cincinnati        0.0  \n",
       "\n",
       "[5 rows x 57 columns]"
      ]
     },
     "execution_count": 10,
     "metadata": {},
     "output_type": "execute_result"
    }
   ],
   "source": [
    "usl_read.head(5)"
   ]
  },
  {
   "cell_type": "markdown",
   "metadata": {},
   "source": [
    "As we can see, our dataframe reads in correctly."
   ]
  },
  {
   "cell_type": "markdown",
   "metadata": {},
   "source": [
    "## **Reno 1868 EDA**"
   ]
  },
  {
   "cell_type": "markdown",
   "metadata": {},
   "source": [
    "We are interested in comparing Reno 1868 to their next opponent to help us understand statistically how they stack up against one another."
   ]
  },
  {
   "cell_type": "markdown",
   "metadata": {},
   "source": [
    "Let's view some quick statistics about our dataset first."
   ]
  },
  {
   "cell_type": "code",
   "execution_count": 11,
   "metadata": {},
   "outputs": [
    {
     "name": "stdout",
     "output_type": "stream",
     "text": [
      "<class 'pandas.core.frame.DataFrame'>\n",
      "Index: 1016 entries, Blake Smith to Wyatt Omsberg\n",
      "Data columns (total 56 columns):\n",
      "Games Played                  1016 non-null float64\n",
      "Starts                        1016 non-null float64\n",
      "Subbed off                    1016 non-null float64\n",
      "Minutes Played                1016 non-null float64\n",
      "Passes                        1016 non-null float64\n",
      "Passing Acc                   1016 non-null float64\n",
      "Long Passes                   1016 non-null float64\n",
      "Long Pass Acc                 1016 non-null float64\n",
      "Pass per 90                   1016 non-null float64\n",
      "Forward Passes                1016 non-null float64\n",
      "Backward Passes               1016 non-null float64\n",
      "Left Pass                     1016 non-null float64\n",
      "Right Pass                    1016 non-null float64\n",
      "Passing Acc Opponents Half    1016 non-null float64\n",
      "Passing Acc Own Half          1016 non-null float64\n",
      "Assists                       1016 non-null float64\n",
      "Key Passes                    1016 non-null float64\n",
      "Crosses                       1016 non-null float64\n",
      "Crossing Acc                  1016 non-null float64\n",
      "Shots                         1016 non-null float64\n",
      "Shots on Target               1016 non-null float64\n",
      "Goals                         1016 non-null float64\n",
      "Right Foot Goals              1016 non-null float64\n",
      "Left Foot Goals               1016 non-null float64\n",
      "Heading Goals                 1016 non-null float64\n",
      "Other                         1016 non-null float64\n",
      "Goals In Box                  1016 non-null float64\n",
      "Goals Out Box                 1016 non-null float64\n",
      "Free Kick Goals               1016 non-null float64\n",
      "Conversion Rate               1016 non-null float64\n",
      "Mins Per Goal                 1016 non-null float64\n",
      "Clears                        1016 non-null float64\n",
      "Blocks                        1016 non-null float64\n",
      "Interceptions                 1016 non-null float64\n",
      "Tackles                       1016 non-null float64\n",
      "Tackles Won                   1016 non-null float64\n",
      "Duels                         1016 non-null float64\n",
      "Duels Won                     1016 non-null float64\n",
      "Air Duels                     1016 non-null float64\n",
      "Air Duels Won                 1016 non-null float64\n",
      "Yellow Cards                  1016 non-null float64\n",
      "Red Cards                     1016 non-null float64\n",
      "Fouls Won                     1016 non-null float64\n",
      "Fouls Conceded                1016 non-null float64\n",
      "Goals Conceded                1016 non-null float64\n",
      "Shot At                       1016 non-null float64\n",
      "Saves                         1016 non-null float64\n",
      "Save Rate                     1016 non-null float64\n",
      "Clean Sheets                  1016 non-null float64\n",
      "Catches                       1016 non-null float64\n",
      "Punches                       1016 non-null float64\n",
      "Drops                         1016 non-null float64\n",
      "Penalties Saved               1016 non-null float64\n",
      "Clearances                    1016 non-null float64\n",
      "Team                          1016 non-null object\n",
      "Subbed on                     1016 non-null float64\n",
      "dtypes: float64(55), object(1)\n",
      "memory usage: 492.4+ KB\n"
     ]
    }
   ],
   "source": [
    "usl.info()"
   ]
  },
  {
   "cell_type": "code",
   "execution_count": 12,
   "metadata": {},
   "outputs": [
    {
     "data": {
      "text/html": [
       "<div>\n",
       "<style scoped>\n",
       "    .dataframe tbody tr th:only-of-type {\n",
       "        vertical-align: middle;\n",
       "    }\n",
       "\n",
       "    .dataframe tbody tr th {\n",
       "        vertical-align: top;\n",
       "    }\n",
       "\n",
       "    .dataframe thead th {\n",
       "        text-align: right;\n",
       "    }\n",
       "</style>\n",
       "<table border=\"1\" class=\"dataframe\">\n",
       "  <thead>\n",
       "    <tr style=\"text-align: right;\">\n",
       "      <th></th>\n",
       "      <th>Games Played</th>\n",
       "      <th>Starts</th>\n",
       "      <th>Subbed off</th>\n",
       "      <th>Minutes Played</th>\n",
       "      <th>Passes</th>\n",
       "      <th>Passing Acc</th>\n",
       "      <th>Long Passes</th>\n",
       "      <th>Long Pass Acc</th>\n",
       "      <th>Pass per 90</th>\n",
       "      <th>Forward Passes</th>\n",
       "      <th>...</th>\n",
       "      <th>Shot At</th>\n",
       "      <th>Saves</th>\n",
       "      <th>Save Rate</th>\n",
       "      <th>Clean Sheets</th>\n",
       "      <th>Catches</th>\n",
       "      <th>Punches</th>\n",
       "      <th>Drops</th>\n",
       "      <th>Penalties Saved</th>\n",
       "      <th>Clearances</th>\n",
       "      <th>Subbed on</th>\n",
       "    </tr>\n",
       "  </thead>\n",
       "  <tbody>\n",
       "    <tr>\n",
       "      <th>count</th>\n",
       "      <td>1016.000000</td>\n",
       "      <td>1016.000000</td>\n",
       "      <td>1016.000000</td>\n",
       "      <td>1016.000000</td>\n",
       "      <td>1016.000000</td>\n",
       "      <td>1016.000000</td>\n",
       "      <td>1016.000000</td>\n",
       "      <td>1016.000000</td>\n",
       "      <td>1016.000000</td>\n",
       "      <td>1016.000000</td>\n",
       "      <td>...</td>\n",
       "      <td>1016.000000</td>\n",
       "      <td>1016.000000</td>\n",
       "      <td>1016.000000</td>\n",
       "      <td>1016.000000</td>\n",
       "      <td>1016.000000</td>\n",
       "      <td>1016.000000</td>\n",
       "      <td>1016.000000</td>\n",
       "      <td>1016.000000</td>\n",
       "      <td>1016.000000</td>\n",
       "      <td>1016.000000</td>\n",
       "    </tr>\n",
       "    <tr>\n",
       "      <th>mean</th>\n",
       "      <td>15.959646</td>\n",
       "      <td>12.621063</td>\n",
       "      <td>3.313976</td>\n",
       "      <td>1135.198819</td>\n",
       "      <td>473.723425</td>\n",
       "      <td>74.680217</td>\n",
       "      <td>81.123031</td>\n",
       "      <td>47.027067</td>\n",
       "      <td>37.142815</td>\n",
       "      <td>180.135827</td>\n",
       "      <td>...</td>\n",
       "      <td>4.656496</td>\n",
       "      <td>3.111220</td>\n",
       "      <td>6.068110</td>\n",
       "      <td>0.277559</td>\n",
       "      <td>0.491142</td>\n",
       "      <td>0.383858</td>\n",
       "      <td>0.062992</td>\n",
       "      <td>0.034449</td>\n",
       "      <td>1.027559</td>\n",
       "      <td>3.338583</td>\n",
       "    </tr>\n",
       "    <tr>\n",
       "      <th>std</th>\n",
       "      <td>10.484581</td>\n",
       "      <td>9.749226</td>\n",
       "      <td>3.709506</td>\n",
       "      <td>865.012272</td>\n",
       "      <td>425.636216</td>\n",
       "      <td>11.374076</td>\n",
       "      <td>106.879157</td>\n",
       "      <td>20.114808</td>\n",
       "      <td>15.879434</td>\n",
       "      <td>179.672075</td>\n",
       "      <td>...</td>\n",
       "      <td>18.998655</td>\n",
       "      <td>12.820951</td>\n",
       "      <td>19.521965</td>\n",
       "      <td>1.378129</td>\n",
       "      <td>2.353892</td>\n",
       "      <td>1.820057</td>\n",
       "      <td>0.376618</td>\n",
       "      <td>0.238621</td>\n",
       "      <td>4.620924</td>\n",
       "      <td>3.856225</td>\n",
       "    </tr>\n",
       "    <tr>\n",
       "      <th>min</th>\n",
       "      <td>1.000000</td>\n",
       "      <td>0.000000</td>\n",
       "      <td>0.000000</td>\n",
       "      <td>1.000000</td>\n",
       "      <td>0.000000</td>\n",
       "      <td>0.000000</td>\n",
       "      <td>0.000000</td>\n",
       "      <td>0.000000</td>\n",
       "      <td>0.000000</td>\n",
       "      <td>0.000000</td>\n",
       "      <td>...</td>\n",
       "      <td>0.000000</td>\n",
       "      <td>0.000000</td>\n",
       "      <td>0.000000</td>\n",
       "      <td>0.000000</td>\n",
       "      <td>0.000000</td>\n",
       "      <td>0.000000</td>\n",
       "      <td>0.000000</td>\n",
       "      <td>0.000000</td>\n",
       "      <td>0.000000</td>\n",
       "      <td>0.000000</td>\n",
       "    </tr>\n",
       "    <tr>\n",
       "      <th>25%</th>\n",
       "      <td>6.000000</td>\n",
       "      <td>4.000000</td>\n",
       "      <td>0.000000</td>\n",
       "      <td>360.000000</td>\n",
       "      <td>129.000000</td>\n",
       "      <td>70.075000</td>\n",
       "      <td>11.000000</td>\n",
       "      <td>36.775000</td>\n",
       "      <td>27.750000</td>\n",
       "      <td>42.000000</td>\n",
       "      <td>...</td>\n",
       "      <td>0.000000</td>\n",
       "      <td>0.000000</td>\n",
       "      <td>0.000000</td>\n",
       "      <td>0.000000</td>\n",
       "      <td>0.000000</td>\n",
       "      <td>0.000000</td>\n",
       "      <td>0.000000</td>\n",
       "      <td>0.000000</td>\n",
       "      <td>0.000000</td>\n",
       "      <td>0.000000</td>\n",
       "    </tr>\n",
       "    <tr>\n",
       "      <th>50%</th>\n",
       "      <td>15.000000</td>\n",
       "      <td>11.000000</td>\n",
       "      <td>2.000000</td>\n",
       "      <td>980.500000</td>\n",
       "      <td>362.000000</td>\n",
       "      <td>76.900000</td>\n",
       "      <td>41.000000</td>\n",
       "      <td>48.000000</td>\n",
       "      <td>35.350000</td>\n",
       "      <td>121.500000</td>\n",
       "      <td>...</td>\n",
       "      <td>0.000000</td>\n",
       "      <td>0.000000</td>\n",
       "      <td>0.000000</td>\n",
       "      <td>0.000000</td>\n",
       "      <td>0.000000</td>\n",
       "      <td>0.000000</td>\n",
       "      <td>0.000000</td>\n",
       "      <td>0.000000</td>\n",
       "      <td>0.000000</td>\n",
       "      <td>2.000000</td>\n",
       "    </tr>\n",
       "    <tr>\n",
       "      <th>75%</th>\n",
       "      <td>25.000000</td>\n",
       "      <td>20.000000</td>\n",
       "      <td>5.000000</td>\n",
       "      <td>1801.000000</td>\n",
       "      <td>711.750000</td>\n",
       "      <td>81.500000</td>\n",
       "      <td>109.250000</td>\n",
       "      <td>58.600000</td>\n",
       "      <td>44.425000</td>\n",
       "      <td>264.000000</td>\n",
       "      <td>...</td>\n",
       "      <td>0.000000</td>\n",
       "      <td>0.000000</td>\n",
       "      <td>0.000000</td>\n",
       "      <td>0.000000</td>\n",
       "      <td>0.000000</td>\n",
       "      <td>0.000000</td>\n",
       "      <td>0.000000</td>\n",
       "      <td>0.000000</td>\n",
       "      <td>0.000000</td>\n",
       "      <td>5.000000</td>\n",
       "    </tr>\n",
       "    <tr>\n",
       "      <th>max</th>\n",
       "      <td>36.000000</td>\n",
       "      <td>36.000000</td>\n",
       "      <td>18.000000</td>\n",
       "      <td>3240.000000</td>\n",
       "      <td>2359.000000</td>\n",
       "      <td>100.000000</td>\n",
       "      <td>846.000000</td>\n",
       "      <td>100.000000</td>\n",
       "      <td>270.000000</td>\n",
       "      <td>911.000000</td>\n",
       "      <td>...</td>\n",
       "      <td>189.000000</td>\n",
       "      <td>125.000000</td>\n",
       "      <td>100.000000</td>\n",
       "      <td>15.000000</td>\n",
       "      <td>37.000000</td>\n",
       "      <td>20.000000</td>\n",
       "      <td>4.000000</td>\n",
       "      <td>4.000000</td>\n",
       "      <td>52.000000</td>\n",
       "      <td>26.000000</td>\n",
       "    </tr>\n",
       "  </tbody>\n",
       "</table>\n",
       "<p>8 rows × 55 columns</p>\n",
       "</div>"
      ],
      "text/plain": [
       "       Games Played       Starts   Subbed off  Minutes Played       Passes  \\\n",
       "count   1016.000000  1016.000000  1016.000000     1016.000000  1016.000000   \n",
       "mean      15.959646    12.621063     3.313976     1135.198819   473.723425   \n",
       "std       10.484581     9.749226     3.709506      865.012272   425.636216   \n",
       "min        1.000000     0.000000     0.000000        1.000000     0.000000   \n",
       "25%        6.000000     4.000000     0.000000      360.000000   129.000000   \n",
       "50%       15.000000    11.000000     2.000000      980.500000   362.000000   \n",
       "75%       25.000000    20.000000     5.000000     1801.000000   711.750000   \n",
       "max       36.000000    36.000000    18.000000     3240.000000  2359.000000   \n",
       "\n",
       "       Passing Acc  Long Passes  Long Pass Acc  Pass per 90  Forward Passes  \\\n",
       "count  1016.000000  1016.000000    1016.000000  1016.000000     1016.000000   \n",
       "mean     74.680217    81.123031      47.027067    37.142815      180.135827   \n",
       "std      11.374076   106.879157      20.114808    15.879434      179.672075   \n",
       "min       0.000000     0.000000       0.000000     0.000000        0.000000   \n",
       "25%      70.075000    11.000000      36.775000    27.750000       42.000000   \n",
       "50%      76.900000    41.000000      48.000000    35.350000      121.500000   \n",
       "75%      81.500000   109.250000      58.600000    44.425000      264.000000   \n",
       "max     100.000000   846.000000     100.000000   270.000000      911.000000   \n",
       "\n",
       "          ...           Shot At        Saves    Save Rate  Clean Sheets  \\\n",
       "count     ...       1016.000000  1016.000000  1016.000000   1016.000000   \n",
       "mean      ...          4.656496     3.111220     6.068110      0.277559   \n",
       "std       ...         18.998655    12.820951    19.521965      1.378129   \n",
       "min       ...          0.000000     0.000000     0.000000      0.000000   \n",
       "25%       ...          0.000000     0.000000     0.000000      0.000000   \n",
       "50%       ...          0.000000     0.000000     0.000000      0.000000   \n",
       "75%       ...          0.000000     0.000000     0.000000      0.000000   \n",
       "max       ...        189.000000   125.000000   100.000000     15.000000   \n",
       "\n",
       "           Catches      Punches        Drops  Penalties Saved   Clearances  \\\n",
       "count  1016.000000  1016.000000  1016.000000      1016.000000  1016.000000   \n",
       "mean      0.491142     0.383858     0.062992         0.034449     1.027559   \n",
       "std       2.353892     1.820057     0.376618         0.238621     4.620924   \n",
       "min       0.000000     0.000000     0.000000         0.000000     0.000000   \n",
       "25%       0.000000     0.000000     0.000000         0.000000     0.000000   \n",
       "50%       0.000000     0.000000     0.000000         0.000000     0.000000   \n",
       "75%       0.000000     0.000000     0.000000         0.000000     0.000000   \n",
       "max      37.000000    20.000000     4.000000         4.000000    52.000000   \n",
       "\n",
       "         Subbed on  \n",
       "count  1016.000000  \n",
       "mean      3.338583  \n",
       "std       3.856225  \n",
       "min       0.000000  \n",
       "25%       0.000000  \n",
       "50%       2.000000  \n",
       "75%       5.000000  \n",
       "max      26.000000  \n",
       "\n",
       "[8 rows x 55 columns]"
      ]
     },
     "execution_count": 12,
     "metadata": {},
     "output_type": "execute_result"
    }
   ],
   "source": [
    "usl.describe()"
   ]
  },
  {
   "cell_type": "markdown",
   "metadata": {},
   "source": [
    "We must now get our subset using our function get_latest_opponent. "
   ]
  },
  {
   "cell_type": "code",
   "execution_count": 13,
   "metadata": {},
   "outputs": [],
   "source": [
    "renovs = get_latest_opponent(usl)"
   ]
  },
  {
   "cell_type": "markdown",
   "metadata": {},
   "source": [
    "Let's make sure this worked properly!"
   ]
  },
  {
   "cell_type": "code",
   "execution_count": 14,
   "metadata": {},
   "outputs": [
    {
     "data": {
      "text/plain": [
       "Reno-1868-FC        33\n",
       "Orange-County-SC    25\n",
       "Name: Team, dtype: int64"
      ]
     },
     "execution_count": 14,
     "metadata": {},
     "output_type": "execute_result"
    }
   ],
   "source": [
    "renovs['Team'].value_counts()"
   ]
  },
  {
   "cell_type": "markdown",
   "metadata": {},
   "source": [
    "Great! We now have our two teams."
   ]
  },
  {
   "cell_type": "markdown",
   "metadata": {},
   "source": [
    "We can now look at some of the more important statistics(displayed below) in soccer and see the differences between the two teams."
   ]
  },
  {
   "cell_type": "code",
   "execution_count": 15,
   "metadata": {},
   "outputs": [
    {
     "data": {
      "text/html": [
       "<div>\n",
       "<style scoped>\n",
       "    .dataframe tbody tr th:only-of-type {\n",
       "        vertical-align: middle;\n",
       "    }\n",
       "\n",
       "    .dataframe tbody tr th {\n",
       "        vertical-align: top;\n",
       "    }\n",
       "\n",
       "    .dataframe thead th {\n",
       "        text-align: right;\n",
       "    }\n",
       "</style>\n",
       "<table border=\"1\" class=\"dataframe\">\n",
       "  <thead>\n",
       "    <tr style=\"text-align: right;\">\n",
       "      <th>Team</th>\n",
       "      <th>Orange-County-SC</th>\n",
       "      <th>Reno-1868-FC</th>\n",
       "    </tr>\n",
       "  </thead>\n",
       "  <tbody>\n",
       "    <tr>\n",
       "      <th>Goals</th>\n",
       "      <td>74.00</td>\n",
       "      <td>56.00</td>\n",
       "    </tr>\n",
       "    <tr>\n",
       "      <th>Assists</th>\n",
       "      <td>56.00</td>\n",
       "      <td>45.00</td>\n",
       "    </tr>\n",
       "    <tr>\n",
       "      <th>Crosses</th>\n",
       "      <td>365.00</td>\n",
       "      <td>378.00</td>\n",
       "    </tr>\n",
       "    <tr>\n",
       "      <th>Key Passes</th>\n",
       "      <td>396.00</td>\n",
       "      <td>376.00</td>\n",
       "    </tr>\n",
       "    <tr>\n",
       "      <th>Interceptions</th>\n",
       "      <td>487.00</td>\n",
       "      <td>549.00</td>\n",
       "    </tr>\n",
       "    <tr>\n",
       "      <th>Clearances</th>\n",
       "      <td>34.00</td>\n",
       "      <td>23.00</td>\n",
       "    </tr>\n",
       "    <tr>\n",
       "      <th>Shots on Target</th>\n",
       "      <td>197.00</td>\n",
       "      <td>190.00</td>\n",
       "    </tr>\n",
       "    <tr>\n",
       "      <th>Shots</th>\n",
       "      <td>390.00</td>\n",
       "      <td>395.00</td>\n",
       "    </tr>\n",
       "    <tr>\n",
       "      <th>Tackles</th>\n",
       "      <td>563.00</td>\n",
       "      <td>552.00</td>\n",
       "    </tr>\n",
       "    <tr>\n",
       "      <th>Conversion Rate</th>\n",
       "      <td>14.17</td>\n",
       "      <td>8.08</td>\n",
       "    </tr>\n",
       "    <tr>\n",
       "      <th>Passing Acc</th>\n",
       "      <td>78.70</td>\n",
       "      <td>77.18</td>\n",
       "    </tr>\n",
       "  </tbody>\n",
       "</table>\n",
       "</div>"
      ],
      "text/plain": [
       "Team             Orange-County-SC  Reno-1868-FC\n",
       "Goals                       74.00         56.00\n",
       "Assists                     56.00         45.00\n",
       "Crosses                    365.00        378.00\n",
       "Key Passes                 396.00        376.00\n",
       "Interceptions              487.00        549.00\n",
       "Clearances                  34.00         23.00\n",
       "Shots on Target            197.00        190.00\n",
       "Shots                      390.00        395.00\n",
       "Tackles                    563.00        552.00\n",
       "Conversion Rate             14.17          8.08\n",
       "Passing Acc                 78.70         77.18"
      ]
     },
     "execution_count": 15,
     "metadata": {},
     "output_type": "execute_result"
    }
   ],
   "source": [
    "compare = pd.concat(\n",
    "    [\n",
    "    renovs[['Goals',\n",
    "             'Assists',\n",
    "             'Crosses',\n",
    "             'Key Passes',\n",
    "             'Interceptions',\n",
    "             'Clearances',\n",
    "             'Team',\n",
    "             'Shots on Target',\n",
    "             'Shots',\n",
    "             'Tackles']].groupby('Team').sum().transpose(),\n",
    "                     \n",
    "    renovs[['Conversion Rate',\n",
    "            'Team',\n",
    "            'Passing Acc']].groupby('Team').mean().transpose()\n",
    "    ],\n",
    "    \n",
    "    axis=0\n",
    ")\n",
    "compare.applymap(lambda x: round(x,2))"
   ]
  },
  {
   "cell_type": "markdown",
   "metadata": {},
   "source": [
    "## **Visualizations using Plotly**"
   ]
  },
  {
   "cell_type": "markdown",
   "metadata": {},
   "source": [
    "We now want to visualize our data to help us get a better understanding of the individual team differences. We can use the plotly library to help us plot these.  "
   ]
  },
  {
   "cell_type": "code",
   "execution_count": 16,
   "metadata": {},
   "outputs": [],
   "source": [
    "opponent = (compare.columns).drop('Reno-1868-FC')"
   ]
  },
  {
   "cell_type": "markdown",
   "metadata": {},
   "source": [
    "Let's first plot out our previous table and look at it."
   ]
  },
  {
   "cell_type": "code",
   "execution_count": 17,
   "metadata": {
    "scrolled": true
   },
   "outputs": [
    {
     "data": {
      "application/vnd.plotly.v1+json": {
       "data": [
        {
         "marker": {
          "color": "#0c13a8"
         },
         "name": "Reno 1868 FC",
         "orientation": "h",
         "type": "bar",
         "uid": "3b82f4cc-dca6-11e8-90ab-568ca07e1d4f",
         "x": [
          56,
          45,
          378,
          376,
          549,
          23,
          190,
          395,
          552,
          8.078787878787878,
          77.1757575757576
         ],
         "y": [
          "Goals",
          "Assists",
          "Crosses",
          "Key Passes",
          "Interceptions",
          "Clearances",
          "Shots on Target",
          "Shots",
          "Tackles",
          "Conversion Rate",
          "Passing Acc"
         ]
        },
        {
         "marker": {
          "color": "#FF0033"
         },
         "name": "Orange County SC",
         "orientation": "h",
         "type": "bar",
         "uid": "3b82f4cd-dca6-11e8-937e-568ca07e1d4f",
         "x": [
          74,
          56,
          365,
          396,
          487,
          34,
          197,
          390,
          563,
          14.168000000000001,
          78.704
         ],
         "y": [
          "Goals",
          "Assists",
          "Crosses",
          "Key Passes",
          "Interceptions",
          "Clearances",
          "Shots on Target",
          "Shots",
          "Tackles",
          "Conversion Rate",
          "Passing Acc"
         ]
        }
       ],
       "layout": {
        "margin": {
         "l": 110
        },
        "title": "Reno 1868 vs. Orange County SC"
       }
      },
      "text/html": [
       "<div id=\"eb1c61c6-8ece-43bb-98df-ef075d5f6239\" style=\"height: 525px; width: 100%;\" class=\"plotly-graph-div\"></div><script type=\"text/javascript\">require([\"plotly\"], function(Plotly) { window.PLOTLYENV=window.PLOTLYENV || {};window.PLOTLYENV.BASE_URL=\"https://plot.ly\";Plotly.newPlot(\"eb1c61c6-8ece-43bb-98df-ef075d5f6239\", [{\"marker\": {\"color\": \"#0c13a8\"}, \"name\": \"Reno 1868 FC\", \"orientation\": \"h\", \"x\": [56.0, 45.0, 378.0, 376.0, 549.0, 23.0, 190.0, 395.0, 552.0, 8.078787878787878, 77.1757575757576], \"y\": [\"Goals\", \"Assists\", \"Crosses\", \"Key Passes\", \"Interceptions\", \"Clearances\", \"Shots on Target\", \"Shots\", \"Tackles\", \"Conversion Rate\", \"Passing Acc\"], \"type\": \"bar\", \"uid\": \"3b82f4cc-dca6-11e8-90ab-568ca07e1d4f\"}, {\"marker\": {\"color\": \"#FF0033\"}, \"name\": \"Orange County SC\", \"orientation\": \"h\", \"x\": [74.0, 56.0, 365.0, 396.0, 487.0, 34.0, 197.0, 390.0, 563.0, 14.168000000000001, 78.704], \"y\": [\"Goals\", \"Assists\", \"Crosses\", \"Key Passes\", \"Interceptions\", \"Clearances\", \"Shots on Target\", \"Shots\", \"Tackles\", \"Conversion Rate\", \"Passing Acc\"], \"type\": \"bar\", \"uid\": \"3b82f4cd-dca6-11e8-937e-568ca07e1d4f\"}], {\"margin\": {\"l\": 110}, \"title\": \"Reno 1868 vs. Orange County SC\"}, {\"showLink\": true, \"linkText\": \"Export to plot.ly\"})});</script>"
      ],
      "text/vnd.plotly.v1+html": [
       "<div id=\"eb1c61c6-8ece-43bb-98df-ef075d5f6239\" style=\"height: 525px; width: 100%;\" class=\"plotly-graph-div\"></div><script type=\"text/javascript\">require([\"plotly\"], function(Plotly) { window.PLOTLYENV=window.PLOTLYENV || {};window.PLOTLYENV.BASE_URL=\"https://plot.ly\";Plotly.newPlot(\"eb1c61c6-8ece-43bb-98df-ef075d5f6239\", [{\"marker\": {\"color\": \"#0c13a8\"}, \"name\": \"Reno 1868 FC\", \"orientation\": \"h\", \"x\": [56.0, 45.0, 378.0, 376.0, 549.0, 23.0, 190.0, 395.0, 552.0, 8.078787878787878, 77.1757575757576], \"y\": [\"Goals\", \"Assists\", \"Crosses\", \"Key Passes\", \"Interceptions\", \"Clearances\", \"Shots on Target\", \"Shots\", \"Tackles\", \"Conversion Rate\", \"Passing Acc\"], \"type\": \"bar\", \"uid\": \"3b82f4cc-dca6-11e8-90ab-568ca07e1d4f\"}, {\"marker\": {\"color\": \"#FF0033\"}, \"name\": \"Orange County SC\", \"orientation\": \"h\", \"x\": [74.0, 56.0, 365.0, 396.0, 487.0, 34.0, 197.0, 390.0, 563.0, 14.168000000000001, 78.704], \"y\": [\"Goals\", \"Assists\", \"Crosses\", \"Key Passes\", \"Interceptions\", \"Clearances\", \"Shots on Target\", \"Shots\", \"Tackles\", \"Conversion Rate\", \"Passing Acc\"], \"type\": \"bar\", \"uid\": \"3b82f4cd-dca6-11e8-937e-568ca07e1d4f\"}], {\"margin\": {\"l\": 110}, \"title\": \"Reno 1868 vs. Orange County SC\"}, {\"showLink\": true, \"linkText\": \"Export to plot.ly\"})});</script>"
      ]
     },
     "metadata": {},
     "output_type": "display_data"
    }
   ],
   "source": [
    "data  = [\n",
    "        go.Bar(\n",
    "    y = compare.index,\n",
    "    x = compare['Reno-1868-FC'],\n",
    "    orientation='h',\n",
    "    marker=dict(color='#0c13a8'),\n",
    "    name='Reno 1868 FC'),\n",
    "    \n",
    "         go.Bar(\n",
    "    y = compare.index,\n",
    "    x = compare[opponent[0]],\n",
    "    orientation='h',\n",
    "    marker=dict(color='#FF0033'),\n",
    "    name=opponent[0].replace('-',' '))\n",
    "]\n",
    "\n",
    "layout = go.Layout(\n",
    "        title = 'Reno 1868 vs. '+ opponent[0].replace('-',' '),\n",
    "        margin = go.layout.Margin(l=110)\n",
    ")\n",
    "\n",
    "fig  = go.Figure(data=data,layout=layout)\n",
    "# url_1 = py.plot(fig,auto_open=False)\n",
    "# py.iplot(fig)\n",
    "plotly.offline.iplot(fig)"
   ]
  },
  {
   "cell_type": "markdown",
   "metadata": {},
   "source": [
    "Next, let's now look at the individual scorers and assisters on Reno 1868."
   ]
  },
  {
   "cell_type": "code",
   "execution_count": 18,
   "metadata": {},
   "outputs": [
    {
     "data": {
      "application/vnd.plotly.v1+json": {
       "data": [
        {
         "marker": {
          "color": "#0c13a8"
         },
         "name": "Goals",
         "orientation": "h",
         "type": "bar",
         "uid": "3b94049c-dca6-11e8-87fa-568ca07e1d4f",
         "x": [
          1,
          1,
          1,
          1,
          1,
          1,
          1,
          2,
          3,
          3,
          4,
          4,
          5,
          5,
          6,
          17
         ],
         "y": [
          "Brenton Griffiths",
          "Duke Lacroix",
          "Eric Calvillo",
          "Jochen Graf",
          "Kevin Partida",
          "Luis Felipe Fernandes",
          "Paul Marie",
          "Zach Carroll",
          "Mohamed Thiaw",
          "Seth Casiple",
          "Christopher Wehan",
          "Lindo Mfeka",
          "Antoine Hoppenot",
          "Daniel Musovski",
          "Jerry van Ewijk",
          "Brian Brown"
         ]
        },
        {
         "marker": {
          "color": "#fe6604"
         },
         "name": "Assists",
         "orientation": "h",
         "type": "bar",
         "uid": "3b94049d-dca6-11e8-8c41-568ca07e1d4f",
         "x": [
          1,
          1,
          1,
          1,
          2,
          2,
          2,
          3,
          3,
          3,
          4,
          4,
          5,
          13
         ],
         "y": [
          "Guy Abend",
          "Jordan Murrell",
          "Kevin Partida",
          "Lindo Mfeka",
          "Jerry van Ewijk",
          "Mohamed Thiaw",
          "Zach Carroll",
          "Christopher Wehan",
          "Paul Marie",
          "Seth Casiple",
          "Brent Richards",
          "Brian Brown",
          "Duke Lacroix",
          "Antoine Hoppenot"
         ]
        }
       ],
       "layout": {
        "autosize": true,
        "barmode": "stack",
        "margin": {
         "l": 140
        },
        "title": "Reno 1868 Scorers & Assisters",
        "xaxis": {
         "title": "Total Goals & Assists"
        }
       }
      },
      "text/html": [
       "<div id=\"044502b7-55d9-40c7-b587-1d202b094369\" style=\"height: 525px; width: 100%;\" class=\"plotly-graph-div\"></div><script type=\"text/javascript\">require([\"plotly\"], function(Plotly) { window.PLOTLYENV=window.PLOTLYENV || {};window.PLOTLYENV.BASE_URL=\"https://plot.ly\";Plotly.newPlot(\"044502b7-55d9-40c7-b587-1d202b094369\", [{\"marker\": {\"color\": \"#0c13a8\"}, \"name\": \"Goals\", \"orientation\": \"h\", \"x\": [1.0, 1.0, 1.0, 1.0, 1.0, 1.0, 1.0, 2.0, 3.0, 3.0, 4.0, 4.0, 5.0, 5.0, 6.0, 17.0], \"y\": [\"Brenton Griffiths\", \"Duke Lacroix\", \"Eric Calvillo\", \"Jochen Graf\", \"Kevin Partida\", \"Luis Felipe Fernandes\", \"Paul Marie\", \"Zach Carroll\", \"Mohamed Thiaw\", \"Seth Casiple\", \"Christopher Wehan\", \"Lindo Mfeka\", \"Antoine Hoppenot\", \"Daniel Musovski\", \"Jerry van Ewijk\", \"Brian Brown\"], \"type\": \"bar\", \"uid\": \"3b94049c-dca6-11e8-87fa-568ca07e1d4f\"}, {\"marker\": {\"color\": \"#fe6604\"}, \"name\": \"Assists\", \"orientation\": \"h\", \"x\": [1.0, 1.0, 1.0, 1.0, 2.0, 2.0, 2.0, 3.0, 3.0, 3.0, 4.0, 4.0, 5.0, 13.0], \"y\": [\"Guy Abend\", \"Jordan Murrell\", \"Kevin Partida\", \"Lindo Mfeka\", \"Jerry van Ewijk\", \"Mohamed Thiaw\", \"Zach Carroll\", \"Christopher Wehan\", \"Paul Marie\", \"Seth Casiple\", \"Brent Richards\", \"Brian Brown\", \"Duke Lacroix\", \"Antoine Hoppenot\"], \"type\": \"bar\", \"uid\": \"3b94049d-dca6-11e8-8c41-568ca07e1d4f\"}], {\"autosize\": true, \"barmode\": \"stack\", \"margin\": {\"l\": 140}, \"title\": \"Reno 1868 Scorers & Assisters\", \"xaxis\": {\"title\": \"Total Goals & Assists\"}}, {\"showLink\": true, \"linkText\": \"Export to plot.ly\"})});</script>"
      ],
      "text/vnd.plotly.v1+html": [
       "<div id=\"044502b7-55d9-40c7-b587-1d202b094369\" style=\"height: 525px; width: 100%;\" class=\"plotly-graph-div\"></div><script type=\"text/javascript\">require([\"plotly\"], function(Plotly) { window.PLOTLYENV=window.PLOTLYENV || {};window.PLOTLYENV.BASE_URL=\"https://plot.ly\";Plotly.newPlot(\"044502b7-55d9-40c7-b587-1d202b094369\", [{\"marker\": {\"color\": \"#0c13a8\"}, \"name\": \"Goals\", \"orientation\": \"h\", \"x\": [1.0, 1.0, 1.0, 1.0, 1.0, 1.0, 1.0, 2.0, 3.0, 3.0, 4.0, 4.0, 5.0, 5.0, 6.0, 17.0], \"y\": [\"Brenton Griffiths\", \"Duke Lacroix\", \"Eric Calvillo\", \"Jochen Graf\", \"Kevin Partida\", \"Luis Felipe Fernandes\", \"Paul Marie\", \"Zach Carroll\", \"Mohamed Thiaw\", \"Seth Casiple\", \"Christopher Wehan\", \"Lindo Mfeka\", \"Antoine Hoppenot\", \"Daniel Musovski\", \"Jerry van Ewijk\", \"Brian Brown\"], \"type\": \"bar\", \"uid\": \"3b94049c-dca6-11e8-87fa-568ca07e1d4f\"}, {\"marker\": {\"color\": \"#fe6604\"}, \"name\": \"Assists\", \"orientation\": \"h\", \"x\": [1.0, 1.0, 1.0, 1.0, 2.0, 2.0, 2.0, 3.0, 3.0, 3.0, 4.0, 4.0, 5.0, 13.0], \"y\": [\"Guy Abend\", \"Jordan Murrell\", \"Kevin Partida\", \"Lindo Mfeka\", \"Jerry van Ewijk\", \"Mohamed Thiaw\", \"Zach Carroll\", \"Christopher Wehan\", \"Paul Marie\", \"Seth Casiple\", \"Brent Richards\", \"Brian Brown\", \"Duke Lacroix\", \"Antoine Hoppenot\"], \"type\": \"bar\", \"uid\": \"3b94049d-dca6-11e8-8c41-568ca07e1d4f\"}], {\"autosize\": true, \"barmode\": \"stack\", \"margin\": {\"l\": 140}, \"title\": \"Reno 1868 Scorers & Assisters\", \"xaxis\": {\"title\": \"Total Goals & Assists\"}}, {\"showLink\": true, \"linkText\": \"Export to plot.ly\"})});</script>"
      ]
     },
     "metadata": {},
     "output_type": "display_data"
    }
   ],
   "source": [
    "data  = [\n",
    "        go.Bar(\n",
    "    y = renovs[(renovs['Team'] == 'Reno-1868-FC') \n",
    "               & (renovs['Goals'] > 0)]['Goals'].sort_values(ascending=True).index,\n",
    "            \n",
    "    x = renovs[(renovs['Team'] == 'Reno-1868-FC') \n",
    "               & (renovs['Goals'] > 0)]['Goals'].sort_values(ascending=True),\n",
    "    orientation='h',\n",
    "    marker=dict(color='#0c13a8'),\n",
    "    name='Goals'),\n",
    "    \n",
    "        go.Bar(\n",
    "    y = renovs[(renovs['Team'] == 'Reno-1868-FC') \n",
    "               & (renovs['Assists'] > 0)]['Assists'].sort_values(ascending=True).index,\n",
    "            \n",
    "    x = renovs[(renovs['Team'] == 'Reno-1868-FC') \n",
    "               & (renovs['Assists'] > 0)]['Assists'].sort_values(ascending=True),\n",
    "    orientation='h',\n",
    "    marker=dict(color='#fe6604'),\n",
    "    name='Assists')\n",
    "]\n",
    "\n",
    "layout = go.Layout(\n",
    "        title = 'Reno 1868 Scorers & Assisters',\n",
    "        xaxis = dict(title='Total Goals & Assists'),\n",
    "        barmode='stack',\n",
    "        margin = go.layout.Margin(l=140),\n",
    "        autosize=True\n",
    "\n",
    ")\n",
    "\n",
    "fig  = go.Figure(data=data, layout=layout)\n",
    "# url_2 = py.plot(fig,auto_open=False)\n",
    "# py.iplot(fig)\n",
    "plotly.offline.iplot(fig)"
   ]
  },
  {
   "cell_type": "markdown",
   "metadata": {},
   "source": [
    "Let's do the same for the opponent's team."
   ]
  },
  {
   "cell_type": "code",
   "execution_count": 19,
   "metadata": {},
   "outputs": [
    {
     "data": {
      "application/vnd.plotly.v1+json": {
       "data": [
        {
         "marker": {
          "color": "#FF0033"
         },
         "name": "Goals",
         "orientation": "h",
         "type": "bar",
         "uid": "3ba6af62-dca6-11e8-8bf4-568ca07e1d4f",
         "x": [
          1,
          1,
          1,
          1,
          1,
          1,
          2,
          2,
          2,
          3,
          4,
          4,
          4,
          12,
          15,
          20
         ],
         "y": [
          "Amirgy Pineda",
          "Christian Duke",
          "Jos Hooiveld",
          "Koji Hashimoto",
          "Nansel Selbol",
          "Thomas Juel-Nielsen",
          "Darwin Jones",
          "Mark Segbers",
          "Richard Chaplow",
          "Noah Powder",
          "Alex Crognale",
          "Giovanni Ramos Godoy",
          "Mats Bjurman",
          "Aodhan Quinn",
          "Michael Seaton",
          "Thomas Enevoldsen"
         ]
        },
        {
         "marker": {
          "color": "#9A03FE"
         },
         "name": "Assists",
         "orientation": "h",
         "type": "bar",
         "uid": "3ba6d288-dca6-11e8-8917-568ca07e1d4f",
         "x": [
          1,
          1,
          1,
          1,
          1,
          1,
          1,
          2,
          2,
          3,
          3,
          3,
          4,
          7,
          10,
          15
         ],
         "y": [
          "Alex Crognale",
          "Christian Duke",
          "Darwin Jones",
          "Jos Hooiveld",
          "Joseph Amico",
          "Owusu-Ansah Kontor",
          "Richard Chaplow",
          "Kevin Alston",
          "Noah Powder",
          "Koji Hashimoto",
          "Mark Segbers",
          "Mats Bjurman",
          "Giovanni Ramos Godoy",
          "Michael Seaton",
          "Thomas Enevoldsen",
          "Aodhan Quinn"
         ]
        }
       ],
       "layout": {
        "autosize": true,
        "barmode": "stack",
        "margin": {
         "l": 140
        },
        "title": "Orange County SC Scorers & Assisters",
        "xaxis": {
         "title": "Total Goals & Assists"
        }
       }
      },
      "text/html": [
       "<div id=\"fc793499-1d86-40ea-946c-c88509a791d3\" style=\"height: 525px; width: 100%;\" class=\"plotly-graph-div\"></div><script type=\"text/javascript\">require([\"plotly\"], function(Plotly) { window.PLOTLYENV=window.PLOTLYENV || {};window.PLOTLYENV.BASE_URL=\"https://plot.ly\";Plotly.newPlot(\"fc793499-1d86-40ea-946c-c88509a791d3\", [{\"marker\": {\"color\": \"#FF0033\"}, \"name\": \"Goals\", \"orientation\": \"h\", \"x\": [1.0, 1.0, 1.0, 1.0, 1.0, 1.0, 2.0, 2.0, 2.0, 3.0, 4.0, 4.0, 4.0, 12.0, 15.0, 20.0], \"y\": [\"Amirgy Pineda\", \"Christian Duke\", \"Jos Hooiveld\", \"Koji Hashimoto\", \"Nansel Selbol\", \"Thomas Juel-Nielsen\", \"Darwin Jones\", \"Mark Segbers\", \"Richard Chaplow\", \"Noah Powder\", \"Alex Crognale\", \"Giovanni Ramos Godoy\", \"Mats Bjurman\", \"Aodhan Quinn\", \"Michael Seaton\", \"Thomas Enevoldsen\"], \"type\": \"bar\", \"uid\": \"3ba6af62-dca6-11e8-8bf4-568ca07e1d4f\"}, {\"marker\": {\"color\": \"#9A03FE\"}, \"name\": \"Assists\", \"orientation\": \"h\", \"x\": [1.0, 1.0, 1.0, 1.0, 1.0, 1.0, 1.0, 2.0, 2.0, 3.0, 3.0, 3.0, 4.0, 7.0, 10.0, 15.0], \"y\": [\"Alex Crognale\", \"Christian Duke\", \"Darwin Jones\", \"Jos Hooiveld\", \"Joseph Amico\", \"Owusu-Ansah Kontor\", \"Richard Chaplow\", \"Kevin Alston\", \"Noah Powder\", \"Koji Hashimoto\", \"Mark Segbers\", \"Mats Bjurman\", \"Giovanni Ramos Godoy\", \"Michael Seaton\", \"Thomas Enevoldsen\", \"Aodhan Quinn\"], \"type\": \"bar\", \"uid\": \"3ba6d288-dca6-11e8-8917-568ca07e1d4f\"}], {\"autosize\": true, \"barmode\": \"stack\", \"margin\": {\"l\": 140}, \"title\": \"Orange County SC Scorers & Assisters\", \"xaxis\": {\"title\": \"Total Goals & Assists\"}}, {\"showLink\": true, \"linkText\": \"Export to plot.ly\"})});</script>"
      ],
      "text/vnd.plotly.v1+html": [
       "<div id=\"fc793499-1d86-40ea-946c-c88509a791d3\" style=\"height: 525px; width: 100%;\" class=\"plotly-graph-div\"></div><script type=\"text/javascript\">require([\"plotly\"], function(Plotly) { window.PLOTLYENV=window.PLOTLYENV || {};window.PLOTLYENV.BASE_URL=\"https://plot.ly\";Plotly.newPlot(\"fc793499-1d86-40ea-946c-c88509a791d3\", [{\"marker\": {\"color\": \"#FF0033\"}, \"name\": \"Goals\", \"orientation\": \"h\", \"x\": [1.0, 1.0, 1.0, 1.0, 1.0, 1.0, 2.0, 2.0, 2.0, 3.0, 4.0, 4.0, 4.0, 12.0, 15.0, 20.0], \"y\": [\"Amirgy Pineda\", \"Christian Duke\", \"Jos Hooiveld\", \"Koji Hashimoto\", \"Nansel Selbol\", \"Thomas Juel-Nielsen\", \"Darwin Jones\", \"Mark Segbers\", \"Richard Chaplow\", \"Noah Powder\", \"Alex Crognale\", \"Giovanni Ramos Godoy\", \"Mats Bjurman\", \"Aodhan Quinn\", \"Michael Seaton\", \"Thomas Enevoldsen\"], \"type\": \"bar\", \"uid\": \"3ba6af62-dca6-11e8-8bf4-568ca07e1d4f\"}, {\"marker\": {\"color\": \"#9A03FE\"}, \"name\": \"Assists\", \"orientation\": \"h\", \"x\": [1.0, 1.0, 1.0, 1.0, 1.0, 1.0, 1.0, 2.0, 2.0, 3.0, 3.0, 3.0, 4.0, 7.0, 10.0, 15.0], \"y\": [\"Alex Crognale\", \"Christian Duke\", \"Darwin Jones\", \"Jos Hooiveld\", \"Joseph Amico\", \"Owusu-Ansah Kontor\", \"Richard Chaplow\", \"Kevin Alston\", \"Noah Powder\", \"Koji Hashimoto\", \"Mark Segbers\", \"Mats Bjurman\", \"Giovanni Ramos Godoy\", \"Michael Seaton\", \"Thomas Enevoldsen\", \"Aodhan Quinn\"], \"type\": \"bar\", \"uid\": \"3ba6d288-dca6-11e8-8917-568ca07e1d4f\"}], {\"autosize\": true, \"barmode\": \"stack\", \"margin\": {\"l\": 140}, \"title\": \"Orange County SC Scorers & Assisters\", \"xaxis\": {\"title\": \"Total Goals & Assists\"}}, {\"showLink\": true, \"linkText\": \"Export to plot.ly\"})});</script>"
      ]
     },
     "metadata": {},
     "output_type": "display_data"
    }
   ],
   "source": [
    "data  = [\n",
    "        go.Bar(\n",
    "    y = renovs[(renovs['Team'] == opponent[0]) \n",
    "               & (renovs['Goals'] > 0)]['Goals'].sort_values(ascending=True).index,\n",
    "            \n",
    "    x = renovs[(renovs['Team'] == opponent[0]) \n",
    "               & (renovs['Goals'] > 0)]['Goals'].sort_values(ascending=True),\n",
    "            \n",
    "    orientation='h',\n",
    "    marker=dict(color='#FF0033'),\n",
    "    name='Goals'),\n",
    "    \n",
    "        go.Bar(\n",
    "    y = renovs[(renovs['Team'] == opponent[0]) \n",
    "               & (renovs['Assists'] > 0)]['Assists'].sort_values(ascending=True).index,\n",
    "            \n",
    "    x = renovs[(renovs['Team'] == opponent[0]) \n",
    "               & (renovs['Assists'] > 0)]['Assists'].sort_values(ascending=True),\n",
    "    orientation='h',\n",
    "    marker=dict(color='#9A03FE'),\n",
    "    name='Assists')\n",
    "]\n",
    "\n",
    "layout = go.Layout(\n",
    "        title = opponent[0].replace('-',' ') + ' Scorers & Assisters',\n",
    "        xaxis = dict(title='Total Goals & Assists'),\n",
    "        barmode='stack',\n",
    "        margin = go.layout.Margin(l=140),\n",
    "        autosize=True\n",
    ")\n",
    "\n",
    "fig  = go.Figure(data=data, layout=layout)\n",
    "# url_3 = py.plot(fig,auto_open=False)\n",
    "# py.iplot(fig)\n",
    "plotly.offline.iplot(fig)"
   ]
  },
  {
   "cell_type": "markdown",
   "metadata": {},
   "source": [
    "## **Plotly Dashboard**"
   ]
  },
  {
   "cell_type": "markdown",
   "metadata": {},
   "source": [
    "We can also make this into an updated dashboard every time we run our notebook. Unfortunately, I was not able to get this working, particularly due to incompatible versions of libraries. Though it does not work currently, this code would produce a dashboard on my personal Plotly account. I will leave this here just to show my thought process on other things I can do with this project!"
   ]
  },
  {
   "cell_type": "code",
   "execution_count": 20,
   "metadata": {},
   "outputs": [],
   "source": [
    "# my_dboard = dashboard.Dashboard()"
   ]
  },
  {
   "cell_type": "code",
   "execution_count": 21,
   "metadata": {},
   "outputs": [],
   "source": [
    "# my_dboard.get_preview()"
   ]
  },
  {
   "cell_type": "code",
   "execution_count": 22,
   "metadata": {},
   "outputs": [
    {
     "data": {
      "text/plain": [
       "'\\nimport re\\n\\ndef fileId_from_url(url):\\n    raw_fileId = re.findall(\"~[A-z]+/[0-9]+\", url)[0][1:]\\n    return str(raw_fileId).replace(\\'/\\', \\':\\')\\n\\ndef sharekey_from_url(url):\\n    if \\'share_key=\\' not in url:\\n        return \"This url is not \\'sercret\\'. It does not have a secret key.\"\\n    return url[url.find(\\'share_key=\\') + len(\\'share_key=\\'):]\\n\\nfileId_1 = fileId_from_url(url_1)\\nfileId_2 = fileId_from_url(url_2)\\nfileId_3 = fileId_from_url(url_3)\\nprint(fileId_1)\\nprint(fileId_2)\\nprint(fileId_3)\\n\\nbox_a = {\\n    \\'type\\': \\'box\\',\\n    \\'boxType\\': \\'plot\\',\\n    \\'fileId\\': fileId_1,\\n    \\'title\\': \\'Reno 1868 vs. \\' + str(opponent).replace(\\'-\\',\\' \\')\\n}\\nbox_b = {\\n    \\'type\\': \\'box\\',\\n    \\'boxType\\': \\'plot\\',\\n    \\'fileID\\': fileId_2,\\n    \\'title\\':  \\'Reno 1868 Top Scorers & Assisters\\'\\n}\\nbox_c = {\\n    \\'type\\': \\'box\\',\\n    \\'boxType\\': \\'plot\\',\\n    \\'fileID\\': fileId_3,\\n    \\'title\\':  str(opponent).replace(\\'-\\',\\' \\') + \\' Top Scorers & Assisters\\'\\n}\\n'"
      ]
     },
     "execution_count": 22,
     "metadata": {},
     "output_type": "execute_result"
    }
   ],
   "source": [
    "'''\n",
    "import re\n",
    "\n",
    "def fileId_from_url(url):\n",
    "    raw_fileId = re.findall(\"~[A-z]+/[0-9]+\", url)[0][1:]\n",
    "    return str(raw_fileId).replace('/', ':')\n",
    "\n",
    "def sharekey_from_url(url):\n",
    "    if 'share_key=' not in url:\n",
    "        return \"This url is not 'sercret'. It does not have a secret key.\"\n",
    "    return url[url.find('share_key=') + len('share_key='):]\n",
    "\n",
    "fileId_1 = fileId_from_url(url_1)\n",
    "fileId_2 = fileId_from_url(url_2)\n",
    "fileId_3 = fileId_from_url(url_3)\n",
    "print(fileId_1)\n",
    "print(fileId_2)\n",
    "print(fileId_3)\n",
    "\n",
    "box_a = {\n",
    "    'type': 'box',\n",
    "    'boxType': 'plot',\n",
    "    'fileId': fileId_1,\n",
    "    'title': 'Reno 1868 vs. ' + str(opponent).replace('-',' ')\n",
    "}\n",
    "box_b = {\n",
    "    'type': 'box',\n",
    "    'boxType': 'plot',\n",
    "    'fileID': fileId_2,\n",
    "    'title':  'Reno 1868 Top Scorers & Assisters'\n",
    "}\n",
    "box_c = {\n",
    "    'type': 'box',\n",
    "    'boxType': 'plot',\n",
    "    'fileID': fileId_3,\n",
    "    'title':  str(opponent).replace('-',' ') + ' Top Scorers & Assisters'\n",
    "}\n",
    "'''"
   ]
  },
  {
   "cell_type": "code",
   "execution_count": 23,
   "metadata": {},
   "outputs": [],
   "source": [
    "# my_dboard['settings']['title'] = 'Reno 1868'"
   ]
  },
  {
   "cell_type": "code",
   "execution_count": 24,
   "metadata": {},
   "outputs": [],
   "source": [
    "# my_dboard['settings']['logoUrl'] = 'https://media.graytvinc.com/images/810*954/1868-SOCCER-KIT.jpg'"
   ]
  },
  {
   "cell_type": "code",
   "execution_count": 25,
   "metadata": {},
   "outputs": [],
   "source": [
    "# my_dboard.insert(box_a)"
   ]
  },
  {
   "cell_type": "code",
   "execution_count": 26,
   "metadata": {},
   "outputs": [],
   "source": [
    "# my_dboard.insert(box_b,'above',1)"
   ]
  },
  {
   "cell_type": "code",
   "execution_count": 27,
   "metadata": {},
   "outputs": [],
   "source": [
    "# my_dboard.insert(box_c,'right',1)"
   ]
  },
  {
   "cell_type": "code",
   "execution_count": 28,
   "metadata": {},
   "outputs": [],
   "source": [
    "# py.dashboard_ops.upload(my_dboard, 'Reno 1868 Dashboard',sharing='public',auto_open=True)"
   ]
  },
  {
   "cell_type": "markdown",
   "metadata": {},
   "source": [
    "## **Clustering For Positions for Fun!**"
   ]
  },
  {
   "cell_type": "markdown",
   "metadata": {},
   "source": [
    "We may also be interested in statistics by position. Since we are not given that information, we may try to get it ourselves using clustering algorithms."
   ]
  },
  {
   "cell_type": "markdown",
   "metadata": {},
   "source": [
    "We start by using a Kmeans clustering algorithm."
   ]
  },
  {
   "cell_type": "code",
   "execution_count": 29,
   "metadata": {},
   "outputs": [],
   "source": [
    "from sklearn.cluster import KMeans\n",
    "from sklearn import tree\n",
    "from sklearn.preprocessing import StandardScaler"
   ]
  },
  {
   "cell_type": "code",
   "execution_count": 30,
   "metadata": {},
   "outputs": [
    {
     "data": {
      "text/plain": [
       "1135.1988188976377"
      ]
     },
     "execution_count": 30,
     "metadata": {},
     "output_type": "execute_result"
    }
   ],
   "source": [
    "usl_read['Minutes Played'].mean()"
   ]
  },
  {
   "cell_type": "markdown",
   "metadata": {},
   "source": [
    "We want good representative data, so we will make a limit of at least 600 minutes played or 6.5 games of playing time."
   ]
  },
  {
   "cell_type": "code",
   "execution_count": 31,
   "metadata": {},
   "outputs": [],
   "source": [
    "test = usl_read[usl_read['Minutes Played'] >= 600]\n",
    "test2 = renovs[renovs['Minutes Played'] >= 600]"
   ]
  },
  {
   "cell_type": "code",
   "execution_count": 32,
   "metadata": {},
   "outputs": [
    {
     "data": {
      "text/plain": [
       "41"
      ]
     },
     "execution_count": 32,
     "metadata": {},
     "output_type": "execute_result"
    }
   ],
   "source": [
    "len(renovs[renovs['Minutes Played'] >= 600])"
   ]
  },
  {
   "cell_type": "code",
   "execution_count": 33,
   "metadata": {},
   "outputs": [
    {
     "data": {
      "text/plain": [
       "Index(['Games Played', 'Starts', 'Subbed off', 'Minutes Played', 'Passes',\n",
       "       'Passing Acc', 'Long Passes', 'Long Pass Acc', 'Pass per 90',\n",
       "       'Forward Passes', 'Backward Passes', 'Left Pass', 'Right Pass',\n",
       "       'Passing Acc Opponents Half', 'Passing Acc Own Half', 'Assists',\n",
       "       'Key Passes', 'Crosses', 'Crossing Acc', 'Shots', 'Shots on Target',\n",
       "       'Goals', 'Right Foot Goals', 'Left Foot Goals', 'Heading Goals',\n",
       "       'Other', 'Goals In Box', 'Goals Out Box', 'Free Kick Goals',\n",
       "       'Conversion Rate', 'Mins Per Goal', 'Clears', 'Blocks', 'Interceptions',\n",
       "       'Tackles', 'Tackles Won', 'Duels', 'Duels Won', 'Air Duels',\n",
       "       'Air Duels Won', 'Yellow Cards', 'Red Cards', 'Fouls Won',\n",
       "       'Fouls Conceded', 'Goals Conceded', 'Shot At', 'Saves', 'Save Rate',\n",
       "       'Clean Sheets', 'Catches', 'Punches', 'Drops', 'Penalties Saved',\n",
       "       'Clearances', 'Team', 'Subbed on'],\n",
       "      dtype='object')"
      ]
     },
     "execution_count": 33,
     "metadata": {},
     "output_type": "execute_result"
    }
   ],
   "source": [
    "renovs.columns"
   ]
  },
  {
   "cell_type": "markdown",
   "metadata": {},
   "source": [
    "Test sets we will be using."
   ]
  },
  {
   "cell_type": "code",
   "execution_count": 34,
   "metadata": {},
   "outputs": [],
   "source": [
    "X = test[['Saves','Goals Conceded','Shots','Clears']].copy()"
   ]
  },
  {
   "cell_type": "code",
   "execution_count": 35,
   "metadata": {},
   "outputs": [],
   "source": [
    "X2 = test2[['Saves','Goals Conceded','Shots','Clears']].copy()"
   ]
  },
  {
   "cell_type": "code",
   "execution_count": 36,
   "metadata": {},
   "outputs": [],
   "source": [
    "sc = StandardScaler()\n",
    "#X2 = pd.DataFrame(sc.fit_transform(X2),columns=X2.columns,index=X2.index)\n",
    "#X = pd.DataFrame(sc.fit_transform(X),columns=X.columns,index=X.index)"
   ]
  },
  {
   "cell_type": "code",
   "execution_count": 37,
   "metadata": {},
   "outputs": [
    {
     "data": {
      "text/html": [
       "<div>\n",
       "<style scoped>\n",
       "    .dataframe tbody tr th:only-of-type {\n",
       "        vertical-align: middle;\n",
       "    }\n",
       "\n",
       "    .dataframe tbody tr th {\n",
       "        vertical-align: top;\n",
       "    }\n",
       "\n",
       "    .dataframe thead th {\n",
       "        text-align: right;\n",
       "    }\n",
       "</style>\n",
       "<table border=\"1\" class=\"dataframe\">\n",
       "  <thead>\n",
       "    <tr style=\"text-align: right;\">\n",
       "      <th></th>\n",
       "      <th>Saves</th>\n",
       "      <th>Goals Conceded</th>\n",
       "      <th>Shots</th>\n",
       "      <th>Clears</th>\n",
       "    </tr>\n",
       "  </thead>\n",
       "  <tbody>\n",
       "    <tr>\n",
       "      <th>0</th>\n",
       "      <td>0.0</td>\n",
       "      <td>0.0</td>\n",
       "      <td>12.0</td>\n",
       "      <td>67.0</td>\n",
       "    </tr>\n",
       "    <tr>\n",
       "      <th>1</th>\n",
       "      <td>0.0</td>\n",
       "      <td>0.0</td>\n",
       "      <td>42.0</td>\n",
       "      <td>8.0</td>\n",
       "    </tr>\n",
       "    <tr>\n",
       "      <th>3</th>\n",
       "      <td>0.0</td>\n",
       "      <td>0.0</td>\n",
       "      <td>29.0</td>\n",
       "      <td>8.0</td>\n",
       "    </tr>\n",
       "    <tr>\n",
       "      <th>4</th>\n",
       "      <td>0.0</td>\n",
       "      <td>0.0</td>\n",
       "      <td>9.0</td>\n",
       "      <td>139.0</td>\n",
       "    </tr>\n",
       "    <tr>\n",
       "      <th>5</th>\n",
       "      <td>0.0</td>\n",
       "      <td>0.0</td>\n",
       "      <td>32.0</td>\n",
       "      <td>3.0</td>\n",
       "    </tr>\n",
       "  </tbody>\n",
       "</table>\n",
       "</div>"
      ],
      "text/plain": [
       "   Saves  Goals Conceded  Shots  Clears\n",
       "0    0.0             0.0   12.0    67.0\n",
       "1    0.0             0.0   42.0     8.0\n",
       "3    0.0             0.0   29.0     8.0\n",
       "4    0.0             0.0    9.0   139.0\n",
       "5    0.0             0.0   32.0     3.0"
      ]
     },
     "execution_count": 37,
     "metadata": {},
     "output_type": "execute_result"
    }
   ],
   "source": [
    "X.head()"
   ]
  },
  {
   "cell_type": "markdown",
   "metadata": {},
   "source": [
    "We fit out model here."
   ]
  },
  {
   "cell_type": "code",
   "execution_count": 38,
   "metadata": {},
   "outputs": [],
   "source": [
    "kmeans = KMeans(n_clusters=4, random_state=42).fit(X)"
   ]
  },
  {
   "cell_type": "markdown",
   "metadata": {},
   "source": [
    "And now we can look at our predictions!"
   ]
  },
  {
   "cell_type": "code",
   "execution_count": 39,
   "metadata": {},
   "outputs": [],
   "source": [
    "predict = kmeans.predict(X2)"
   ]
  },
  {
   "cell_type": "code",
   "execution_count": 40,
   "metadata": {},
   "outputs": [
    {
     "data": {
      "text/plain": [
       "array([0, 3, 1, 1, 1, 1, 2, 2, 2, 1, 1, 1, 1, 1, 2, 1, 1, 2, 0, 1, 0, 2,\n",
       "       1, 1, 1, 2, 1, 1, 2, 3, 1, 2, 1, 1, 1, 3, 1, 1, 1, 0, 0])"
      ]
     },
     "execution_count": 40,
     "metadata": {},
     "output_type": "execute_result"
    }
   ],
   "source": [
    "predict"
   ]
  },
  {
   "cell_type": "code",
   "execution_count": 41,
   "metadata": {},
   "outputs": [],
   "source": [
    "concat = pd.concat([X2,pd.DataFrame(predict,index=X2.index)],axis=1)"
   ]
  },
  {
   "cell_type": "markdown",
   "metadata": {},
   "source": [
    "Unfortunately, we will witness a not so good clustering algorithm and therefore cannot classify these exceptionally well with our current knowledge. The experience was more important though and as you can see it works for very obvious positions since the statistics for goalkeepers are unique to goalkeepers, etc."
   ]
  },
  {
   "cell_type": "markdown",
   "metadata": {},
   "source": [
    "Let's view our results on classifying each player's position."
   ]
  },
  {
   "cell_type": "code",
   "execution_count": 42,
   "metadata": {},
   "outputs": [
    {
     "data": {
      "text/html": [
       "<div>\n",
       "<style scoped>\n",
       "    .dataframe tbody tr th:only-of-type {\n",
       "        vertical-align: middle;\n",
       "    }\n",
       "\n",
       "    .dataframe tbody tr th {\n",
       "        vertical-align: top;\n",
       "    }\n",
       "\n",
       "    .dataframe thead th {\n",
       "        text-align: right;\n",
       "    }\n",
       "</style>\n",
       "<table border=\"1\" class=\"dataframe\">\n",
       "  <thead>\n",
       "    <tr style=\"text-align: right;\">\n",
       "      <th></th>\n",
       "      <th>Saves</th>\n",
       "      <th>Goals Conceded</th>\n",
       "      <th>Shots</th>\n",
       "      <th>Clears</th>\n",
       "      <th>0</th>\n",
       "    </tr>\n",
       "    <tr>\n",
       "      <th>Player</th>\n",
       "      <th></th>\n",
       "      <th></th>\n",
       "      <th></th>\n",
       "      <th></th>\n",
       "      <th></th>\n",
       "    </tr>\n",
       "  </thead>\n",
       "  <tbody>\n",
       "    <tr>\n",
       "      <th>Alex Crognale</th>\n",
       "      <td>0.0</td>\n",
       "      <td>0.0</td>\n",
       "      <td>16.0</td>\n",
       "      <td>103.0</td>\n",
       "      <td>0</td>\n",
       "    </tr>\n",
       "    <tr>\n",
       "      <th>Walker Hume</th>\n",
       "      <td>0.0</td>\n",
       "      <td>0.0</td>\n",
       "      <td>16.0</td>\n",
       "      <td>97.0</td>\n",
       "      <td>0</td>\n",
       "    </tr>\n",
       "    <tr>\n",
       "      <th>Brent Richards</th>\n",
       "      <td>0.0</td>\n",
       "      <td>0.0</td>\n",
       "      <td>28.0</td>\n",
       "      <td>121.0</td>\n",
       "      <td>0</td>\n",
       "    </tr>\n",
       "    <tr>\n",
       "      <th>Thomas Janjigian</th>\n",
       "      <td>0.0</td>\n",
       "      <td>0.0</td>\n",
       "      <td>2.0</td>\n",
       "      <td>96.0</td>\n",
       "      <td>0</td>\n",
       "    </tr>\n",
       "    <tr>\n",
       "      <th>Zach Carroll</th>\n",
       "      <td>0.0</td>\n",
       "      <td>0.0</td>\n",
       "      <td>9.0</td>\n",
       "      <td>154.0</td>\n",
       "      <td>0</td>\n",
       "    </tr>\n",
       "  </tbody>\n",
       "</table>\n",
       "</div>"
      ],
      "text/plain": [
       "                  Saves  Goals Conceded  Shots  Clears  0\n",
       "Player                                                   \n",
       "Alex Crognale       0.0             0.0   16.0   103.0  0\n",
       "Walker Hume         0.0             0.0   16.0    97.0  0\n",
       "Brent Richards      0.0             0.0   28.0   121.0  0\n",
       "Thomas Janjigian    0.0             0.0    2.0    96.0  0\n",
       "Zach Carroll        0.0             0.0    9.0   154.0  0"
      ]
     },
     "execution_count": 42,
     "metadata": {},
     "output_type": "execute_result"
    }
   ],
   "source": [
    "concat[concat[0]==0]"
   ]
  },
  {
   "cell_type": "code",
   "execution_count": 43,
   "metadata": {},
   "outputs": [
    {
     "data": {
      "text/html": [
       "<div>\n",
       "<style scoped>\n",
       "    .dataframe tbody tr th:only-of-type {\n",
       "        vertical-align: middle;\n",
       "    }\n",
       "\n",
       "    .dataframe tbody tr th {\n",
       "        vertical-align: top;\n",
       "    }\n",
       "\n",
       "    .dataframe thead th {\n",
       "        text-align: right;\n",
       "    }\n",
       "</style>\n",
       "<table border=\"1\" class=\"dataframe\">\n",
       "  <thead>\n",
       "    <tr style=\"text-align: right;\">\n",
       "      <th></th>\n",
       "      <th>Saves</th>\n",
       "      <th>Goals Conceded</th>\n",
       "      <th>Shots</th>\n",
       "      <th>Clears</th>\n",
       "      <th>0</th>\n",
       "    </tr>\n",
       "    <tr>\n",
       "      <th>Player</th>\n",
       "      <th></th>\n",
       "      <th></th>\n",
       "      <th></th>\n",
       "      <th></th>\n",
       "      <th></th>\n",
       "    </tr>\n",
       "  </thead>\n",
       "  <tbody>\n",
       "    <tr>\n",
       "      <th>Jos Hooiveld</th>\n",
       "      <td>0.0</td>\n",
       "      <td>0.0</td>\n",
       "      <td>15.0</td>\n",
       "      <td>54.0</td>\n",
       "      <td>2</td>\n",
       "    </tr>\n",
       "    <tr>\n",
       "      <th>Joseph Amico</th>\n",
       "      <td>0.0</td>\n",
       "      <td>0.0</td>\n",
       "      <td>4.0</td>\n",
       "      <td>43.0</td>\n",
       "      <td>2</td>\n",
       "    </tr>\n",
       "    <tr>\n",
       "      <th>Kevin Alston</th>\n",
       "      <td>0.0</td>\n",
       "      <td>0.0</td>\n",
       "      <td>2.0</td>\n",
       "      <td>37.0</td>\n",
       "      <td>2</td>\n",
       "    </tr>\n",
       "    <tr>\n",
       "      <th>Owusu-Ansah Kontor</th>\n",
       "      <td>0.0</td>\n",
       "      <td>0.0</td>\n",
       "      <td>1.0</td>\n",
       "      <td>26.0</td>\n",
       "      <td>2</td>\n",
       "    </tr>\n",
       "    <tr>\n",
       "      <th>Thomas Juel-Nielsen</th>\n",
       "      <td>0.0</td>\n",
       "      <td>0.0</td>\n",
       "      <td>8.0</td>\n",
       "      <td>47.0</td>\n",
       "      <td>2</td>\n",
       "    </tr>\n",
       "    <tr>\n",
       "      <th>Brenton Griffiths</th>\n",
       "      <td>0.0</td>\n",
       "      <td>0.0</td>\n",
       "      <td>4.0</td>\n",
       "      <td>71.0</td>\n",
       "      <td>2</td>\n",
       "    </tr>\n",
       "    <tr>\n",
       "      <th>Duke Lacroix</th>\n",
       "      <td>0.0</td>\n",
       "      <td>0.0</td>\n",
       "      <td>17.0</td>\n",
       "      <td>35.0</td>\n",
       "      <td>2</td>\n",
       "    </tr>\n",
       "    <tr>\n",
       "      <th>James Kiffe</th>\n",
       "      <td>0.0</td>\n",
       "      <td>0.0</td>\n",
       "      <td>3.0</td>\n",
       "      <td>39.0</td>\n",
       "      <td>2</td>\n",
       "    </tr>\n",
       "    <tr>\n",
       "      <th>Jordan Murrell</th>\n",
       "      <td>0.0</td>\n",
       "      <td>0.0</td>\n",
       "      <td>1.0</td>\n",
       "      <td>84.0</td>\n",
       "      <td>2</td>\n",
       "    </tr>\n",
       "  </tbody>\n",
       "</table>\n",
       "</div>"
      ],
      "text/plain": [
       "                     Saves  Goals Conceded  Shots  Clears  0\n",
       "Player                                                      \n",
       "Jos Hooiveld           0.0             0.0   15.0    54.0  2\n",
       "Joseph Amico           0.0             0.0    4.0    43.0  2\n",
       "Kevin Alston           0.0             0.0    2.0    37.0  2\n",
       "Owusu-Ansah Kontor     0.0             0.0    1.0    26.0  2\n",
       "Thomas Juel-Nielsen    0.0             0.0    8.0    47.0  2\n",
       "Brenton Griffiths      0.0             0.0    4.0    71.0  2\n",
       "Duke Lacroix           0.0             0.0   17.0    35.0  2\n",
       "James Kiffe            0.0             0.0    3.0    39.0  2\n",
       "Jordan Murrell         0.0             0.0    1.0    84.0  2"
      ]
     },
     "execution_count": 43,
     "metadata": {},
     "output_type": "execute_result"
    }
   ],
   "source": [
    "concat[concat[0]==2]"
   ]
  },
  {
   "cell_type": "code",
   "execution_count": 44,
   "metadata": {},
   "outputs": [
    {
     "data": {
      "text/html": [
       "<div>\n",
       "<style scoped>\n",
       "    .dataframe tbody tr th:only-of-type {\n",
       "        vertical-align: middle;\n",
       "    }\n",
       "\n",
       "    .dataframe tbody tr th {\n",
       "        vertical-align: top;\n",
       "    }\n",
       "\n",
       "    .dataframe thead th {\n",
       "        text-align: right;\n",
       "    }\n",
       "</style>\n",
       "<table border=\"1\" class=\"dataframe\">\n",
       "  <thead>\n",
       "    <tr style=\"text-align: right;\">\n",
       "      <th></th>\n",
       "      <th>Saves</th>\n",
       "      <th>Goals Conceded</th>\n",
       "      <th>Shots</th>\n",
       "      <th>Clears</th>\n",
       "      <th>0</th>\n",
       "    </tr>\n",
       "    <tr>\n",
       "      <th>Player</th>\n",
       "      <th></th>\n",
       "      <th></th>\n",
       "      <th></th>\n",
       "      <th></th>\n",
       "      <th></th>\n",
       "    </tr>\n",
       "  </thead>\n",
       "  <tbody>\n",
       "    <tr>\n",
       "      <th>Andre Rawls</th>\n",
       "      <td>84.0</td>\n",
       "      <td>30.0</td>\n",
       "      <td>0.0</td>\n",
       "      <td>25.0</td>\n",
       "      <td>3</td>\n",
       "    </tr>\n",
       "    <tr>\n",
       "      <th>James Marcinkowski</th>\n",
       "      <td>70.0</td>\n",
       "      <td>30.0</td>\n",
       "      <td>0.0</td>\n",
       "      <td>16.0</td>\n",
       "      <td>3</td>\n",
       "    </tr>\n",
       "    <tr>\n",
       "      <th>Matt Bersano</th>\n",
       "      <td>34.0</td>\n",
       "      <td>8.0</td>\n",
       "      <td>0.0</td>\n",
       "      <td>7.0</td>\n",
       "      <td>3</td>\n",
       "    </tr>\n",
       "  </tbody>\n",
       "</table>\n",
       "</div>"
      ],
      "text/plain": [
       "                    Saves  Goals Conceded  Shots  Clears  0\n",
       "Player                                                     \n",
       "Andre Rawls          84.0            30.0    0.0    25.0  3\n",
       "James Marcinkowski   70.0            30.0    0.0    16.0  3\n",
       "Matt Bersano         34.0             8.0    0.0     7.0  3"
      ]
     },
     "execution_count": 44,
     "metadata": {},
     "output_type": "execute_result"
    }
   ],
   "source": [
    "concat[concat[0]==3]"
   ]
  },
  {
   "cell_type": "code",
   "execution_count": 45,
   "metadata": {},
   "outputs": [
    {
     "data": {
      "text/html": [
       "<div>\n",
       "<style scoped>\n",
       "    .dataframe tbody tr th:only-of-type {\n",
       "        vertical-align: middle;\n",
       "    }\n",
       "\n",
       "    .dataframe tbody tr th {\n",
       "        vertical-align: top;\n",
       "    }\n",
       "\n",
       "    .dataframe thead th {\n",
       "        text-align: right;\n",
       "    }\n",
       "</style>\n",
       "<table border=\"1\" class=\"dataframe\">\n",
       "  <thead>\n",
       "    <tr style=\"text-align: right;\">\n",
       "      <th></th>\n",
       "      <th>Saves</th>\n",
       "      <th>Goals Conceded</th>\n",
       "      <th>Shots</th>\n",
       "      <th>Clears</th>\n",
       "      <th>0</th>\n",
       "    </tr>\n",
       "    <tr>\n",
       "      <th>Player</th>\n",
       "      <th></th>\n",
       "      <th></th>\n",
       "      <th></th>\n",
       "      <th></th>\n",
       "      <th></th>\n",
       "    </tr>\n",
       "  </thead>\n",
       "  <tbody>\n",
       "    <tr>\n",
       "      <th>Aodhan Quinn</th>\n",
       "      <td>0.0</td>\n",
       "      <td>0.0</td>\n",
       "      <td>51.0</td>\n",
       "      <td>24.0</td>\n",
       "      <td>1</td>\n",
       "    </tr>\n",
       "    <tr>\n",
       "      <th>Christian Duke</th>\n",
       "      <td>0.0</td>\n",
       "      <td>0.0</td>\n",
       "      <td>17.0</td>\n",
       "      <td>26.0</td>\n",
       "      <td>1</td>\n",
       "    </tr>\n",
       "    <tr>\n",
       "      <th>Darwin Jones</th>\n",
       "      <td>0.0</td>\n",
       "      <td>0.0</td>\n",
       "      <td>18.0</td>\n",
       "      <td>8.0</td>\n",
       "      <td>1</td>\n",
       "    </tr>\n",
       "    <tr>\n",
       "      <th>Giovanni Ramos Godoy</th>\n",
       "      <td>0.0</td>\n",
       "      <td>0.0</td>\n",
       "      <td>27.0</td>\n",
       "      <td>8.0</td>\n",
       "      <td>1</td>\n",
       "    </tr>\n",
       "    <tr>\n",
       "      <th>Koji Hashimoto</th>\n",
       "      <td>0.0</td>\n",
       "      <td>0.0</td>\n",
       "      <td>14.0</td>\n",
       "      <td>7.0</td>\n",
       "      <td>1</td>\n",
       "    </tr>\n",
       "    <tr>\n",
       "      <th>Mark Segbers</th>\n",
       "      <td>0.0</td>\n",
       "      <td>0.0</td>\n",
       "      <td>8.0</td>\n",
       "      <td>2.0</td>\n",
       "      <td>1</td>\n",
       "    </tr>\n",
       "    <tr>\n",
       "      <th>Mats Bjurman</th>\n",
       "      <td>0.0</td>\n",
       "      <td>0.0</td>\n",
       "      <td>20.0</td>\n",
       "      <td>18.0</td>\n",
       "      <td>1</td>\n",
       "    </tr>\n",
       "    <tr>\n",
       "      <th>Michael Seaton</th>\n",
       "      <td>0.0</td>\n",
       "      <td>0.0</td>\n",
       "      <td>62.0</td>\n",
       "      <td>5.0</td>\n",
       "      <td>1</td>\n",
       "    </tr>\n",
       "    <tr>\n",
       "      <th>Noah Powder</th>\n",
       "      <td>0.0</td>\n",
       "      <td>0.0</td>\n",
       "      <td>13.0</td>\n",
       "      <td>16.0</td>\n",
       "      <td>1</td>\n",
       "    </tr>\n",
       "    <tr>\n",
       "      <th>Richard Chaplow</th>\n",
       "      <td>0.0</td>\n",
       "      <td>0.0</td>\n",
       "      <td>10.0</td>\n",
       "      <td>10.0</td>\n",
       "      <td>1</td>\n",
       "    </tr>\n",
       "    <tr>\n",
       "      <th>Thomas Enevoldsen</th>\n",
       "      <td>0.0</td>\n",
       "      <td>0.0</td>\n",
       "      <td>74.0</td>\n",
       "      <td>27.0</td>\n",
       "      <td>1</td>\n",
       "    </tr>\n",
       "    <tr>\n",
       "      <th>Antoine Hoppenot</th>\n",
       "      <td>0.0</td>\n",
       "      <td>0.0</td>\n",
       "      <td>41.0</td>\n",
       "      <td>8.0</td>\n",
       "      <td>1</td>\n",
       "    </tr>\n",
       "    <tr>\n",
       "      <th>Brian Brown</th>\n",
       "      <td>0.0</td>\n",
       "      <td>0.0</td>\n",
       "      <td>59.0</td>\n",
       "      <td>13.0</td>\n",
       "      <td>1</td>\n",
       "    </tr>\n",
       "    <tr>\n",
       "      <th>Christopher Wehan</th>\n",
       "      <td>0.0</td>\n",
       "      <td>0.0</td>\n",
       "      <td>14.0</td>\n",
       "      <td>7.0</td>\n",
       "      <td>1</td>\n",
       "    </tr>\n",
       "    <tr>\n",
       "      <th>Daniel Musovski</th>\n",
       "      <td>0.0</td>\n",
       "      <td>0.0</td>\n",
       "      <td>25.0</td>\n",
       "      <td>11.0</td>\n",
       "      <td>1</td>\n",
       "    </tr>\n",
       "    <tr>\n",
       "      <th>Eric Calvillo</th>\n",
       "      <td>0.0</td>\n",
       "      <td>0.0</td>\n",
       "      <td>8.0</td>\n",
       "      <td>9.0</td>\n",
       "      <td>1</td>\n",
       "    </tr>\n",
       "    <tr>\n",
       "      <th>Guy Abend</th>\n",
       "      <td>0.0</td>\n",
       "      <td>0.0</td>\n",
       "      <td>13.0</td>\n",
       "      <td>16.0</td>\n",
       "      <td>1</td>\n",
       "    </tr>\n",
       "    <tr>\n",
       "      <th>Jerry van Ewijk</th>\n",
       "      <td>0.0</td>\n",
       "      <td>0.0</td>\n",
       "      <td>36.0</td>\n",
       "      <td>10.0</td>\n",
       "      <td>1</td>\n",
       "    </tr>\n",
       "    <tr>\n",
       "      <th>Kevin Partida</th>\n",
       "      <td>0.0</td>\n",
       "      <td>0.0</td>\n",
       "      <td>4.0</td>\n",
       "      <td>7.0</td>\n",
       "      <td>1</td>\n",
       "    </tr>\n",
       "    <tr>\n",
       "      <th>Lindo Mfeka</th>\n",
       "      <td>0.0</td>\n",
       "      <td>0.0</td>\n",
       "      <td>41.0</td>\n",
       "      <td>4.0</td>\n",
       "      <td>1</td>\n",
       "    </tr>\n",
       "    <tr>\n",
       "      <th>Luis Felipe Fernandes</th>\n",
       "      <td>0.0</td>\n",
       "      <td>0.0</td>\n",
       "      <td>6.0</td>\n",
       "      <td>16.0</td>\n",
       "      <td>1</td>\n",
       "    </tr>\n",
       "    <tr>\n",
       "      <th>Mohamed Thiaw</th>\n",
       "      <td>0.0</td>\n",
       "      <td>0.0</td>\n",
       "      <td>20.0</td>\n",
       "      <td>6.0</td>\n",
       "      <td>1</td>\n",
       "    </tr>\n",
       "    <tr>\n",
       "      <th>Paul Marie</th>\n",
       "      <td>0.0</td>\n",
       "      <td>0.0</td>\n",
       "      <td>14.0</td>\n",
       "      <td>17.0</td>\n",
       "      <td>1</td>\n",
       "    </tr>\n",
       "    <tr>\n",
       "      <th>Seth Casiple</th>\n",
       "      <td>0.0</td>\n",
       "      <td>0.0</td>\n",
       "      <td>25.0</td>\n",
       "      <td>25.0</td>\n",
       "      <td>1</td>\n",
       "    </tr>\n",
       "  </tbody>\n",
       "</table>\n",
       "</div>"
      ],
      "text/plain": [
       "                       Saves  Goals Conceded  Shots  Clears  0\n",
       "Player                                                        \n",
       "Aodhan Quinn             0.0             0.0   51.0    24.0  1\n",
       "Christian Duke           0.0             0.0   17.0    26.0  1\n",
       "Darwin Jones             0.0             0.0   18.0     8.0  1\n",
       "Giovanni Ramos Godoy     0.0             0.0   27.0     8.0  1\n",
       "Koji Hashimoto           0.0             0.0   14.0     7.0  1\n",
       "Mark Segbers             0.0             0.0    8.0     2.0  1\n",
       "Mats Bjurman             0.0             0.0   20.0    18.0  1\n",
       "Michael Seaton           0.0             0.0   62.0     5.0  1\n",
       "Noah Powder              0.0             0.0   13.0    16.0  1\n",
       "Richard Chaplow          0.0             0.0   10.0    10.0  1\n",
       "Thomas Enevoldsen        0.0             0.0   74.0    27.0  1\n",
       "Antoine Hoppenot         0.0             0.0   41.0     8.0  1\n",
       "Brian Brown              0.0             0.0   59.0    13.0  1\n",
       "Christopher Wehan        0.0             0.0   14.0     7.0  1\n",
       "Daniel Musovski          0.0             0.0   25.0    11.0  1\n",
       "Eric Calvillo            0.0             0.0    8.0     9.0  1\n",
       "Guy Abend                0.0             0.0   13.0    16.0  1\n",
       "Jerry van Ewijk          0.0             0.0   36.0    10.0  1\n",
       "Kevin Partida            0.0             0.0    4.0     7.0  1\n",
       "Lindo Mfeka              0.0             0.0   41.0     4.0  1\n",
       "Luis Felipe Fernandes    0.0             0.0    6.0    16.0  1\n",
       "Mohamed Thiaw            0.0             0.0   20.0     6.0  1\n",
       "Paul Marie               0.0             0.0   14.0    17.0  1\n",
       "Seth Casiple             0.0             0.0   25.0    25.0  1"
      ]
     },
     "execution_count": 45,
     "metadata": {},
     "output_type": "execute_result"
    }
   ],
   "source": [
    "concat[concat[0]==1]"
   ]
  },
  {
   "cell_type": "markdown",
   "metadata": {},
   "source": [
    "A count of our possible positions."
   ]
  },
  {
   "cell_type": "code",
   "execution_count": 46,
   "metadata": {},
   "outputs": [
    {
     "data": {
      "text/plain": [
       "1    24\n",
       "2     9\n",
       "0     5\n",
       "3     3\n",
       "Name: 0, dtype: int64"
      ]
     },
     "execution_count": 46,
     "metadata": {},
     "output_type": "execute_result"
    }
   ],
   "source": [
    "concat[0].value_counts()"
   ]
  },
  {
   "cell_type": "markdown",
   "metadata": {},
   "source": [
    "We are done now! We have learned so much about Reno 1868 and their opposition."
   ]
  },
  {
   "cell_type": "code",
   "execution_count": null,
   "metadata": {},
   "outputs": [],
   "source": []
  }
 ],
 "metadata": {
  "kernelspec": {
   "display_name": "Python 3",
   "language": "python",
   "name": "python3"
  },
  "language_info": {
   "codemirror_mode": {
    "name": "ipython",
    "version": 3
   },
   "file_extension": ".py",
   "mimetype": "text/x-python",
   "name": "python",
   "nbconvert_exporter": "python",
   "pygments_lexer": "ipython3",
   "version": "3.6.6"
  }
 },
 "nbformat": 4,
 "nbformat_minor": 2
}
