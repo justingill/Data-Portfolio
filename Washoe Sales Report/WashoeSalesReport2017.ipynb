{
 "cells": [
  {
   "cell_type": "markdown",
   "metadata": {},
   "source": [
    "# **Washoe County 2017 Sales Report Analysis**"
   ]
  },
  {
   "cell_type": "markdown",
   "metadata": {},
   "source": [
    "This is analysis, we will look into the [Washoe County Sales Report Data](https://www.washoecounty.us/assessor/online_data/sales_reports.php). This is a dataset that includes data on sales made in Washoe County during the 2017 fiscal year. We will clean this data up and use it to get an insight into the housing market in Washoe County. We can also apply regression to this dataset and predict housing prices based on different features included in the Sales Report."
   ]
  },
  {
   "cell_type": "markdown",
   "metadata": {},
   "source": [
    "![](https://cdnparap100.paragonrels.com/ParagonImages/Property/P10/NNRMLS/170012273/0/0/0/662321a8ae87b96b5ef6e001d90e839e/15/2301c3cce54ff5e8c05025ff3c970831/170012273.JPG)"
   ]
  },
  {
   "cell_type": "markdown",
   "metadata": {},
   "source": [
    "## **Import Libraries**"
   ]
  },
  {
   "cell_type": "markdown",
   "metadata": {},
   "source": [
    "We start by importing the necessary libraries."
   ]
  },
  {
   "cell_type": "code",
   "execution_count": 1,
   "metadata": {},
   "outputs": [],
   "source": [
    "import pandas as pd\n",
    "import numpy as np\n",
    "import matplotlib.pyplot as plt\n",
    "import seaborn as sns\n",
    "sns.set_style('whitegrid')\n",
    "%matplotlib inline"
   ]
  },
  {
   "cell_type": "markdown",
   "metadata": {},
   "source": [
    "## **Read in data**"
   ]
  },
  {
   "cell_type": "markdown",
   "metadata": {},
   "source": [
    "We now read in our data from the Washoe County website given in xls format. \n",
    "* [Washoe Sales Report Link](https://www.washoecounty.us/assessor/online_data/sales_reports.php)"
   ]
  },
  {
   "cell_type": "code",
   "execution_count": 2,
   "metadata": {},
   "outputs": [],
   "source": [
    "sales = pd.read_excel('RDEQISales2017.xls',sheet_name='Sheet1',header=1,na_values=np.nan)"
   ]
  },
  {
   "cell_type": "markdown",
   "metadata": {},
   "source": [
    "Let's look at what was read in."
   ]
  },
  {
   "cell_type": "code",
   "execution_count": 3,
   "metadata": {},
   "outputs": [
    {
     "data": {
      "text/html": [
       "<div>\n",
       "<style scoped>\n",
       "    .dataframe tbody tr th:only-of-type {\n",
       "        vertical-align: middle;\n",
       "    }\n",
       "\n",
       "    .dataframe tbody tr th {\n",
       "        vertical-align: top;\n",
       "    }\n",
       "\n",
       "    .dataframe thead th {\n",
       "        text-align: right;\n",
       "    }\n",
       "</style>\n",
       "<table border=\"1\" class=\"dataframe\">\n",
       "  <thead>\n",
       "    <tr style=\"text-align: right;\">\n",
       "      <th></th>\n",
       "      <th>APN</th>\n",
       "      <th>Add Rec</th>\n",
       "      <th>Situs</th>\n",
       "      <th>Sales Date</th>\n",
       "      <th>Sale Price</th>\n",
       "      <th>Sale Verf</th>\n",
       "      <th>RecDoc</th>\n",
       "      <th>Subdivision</th>\n",
       "      <th>Year Blt</th>\n",
       "      <th>Avg Yr Blt</th>\n",
       "      <th>...</th>\n",
       "      <th>Mailing2</th>\n",
       "      <th>City</th>\n",
       "      <th>State</th>\n",
       "      <th>Zip</th>\n",
       "      <th>PriorOwner</th>\n",
       "      <th>PriorPID</th>\n",
       "      <th>LegalDesc</th>\n",
       "      <th>TaxDist</th>\n",
       "      <th>Total Units</th>\n",
       "      <th>Neighborhood</th>\n",
       "    </tr>\n",
       "  </thead>\n",
       "  <tbody>\n",
       "    <tr>\n",
       "      <th>0</th>\n",
       "      <td>001-020-03</td>\n",
       "      <td>NaN</td>\n",
       "      <td>3947 KINGS ROW</td>\n",
       "      <td>01/10/2017</td>\n",
       "      <td>175000</td>\n",
       "      <td>2D</td>\n",
       "      <td>4669528</td>\n",
       "      <td>WINDERMERE 1</td>\n",
       "      <td>1984</td>\n",
       "      <td>1984</td>\n",
       "      <td>...</td>\n",
       "      <td>NaN</td>\n",
       "      <td>RENO</td>\n",
       "      <td>NV</td>\n",
       "      <td>89503</td>\n",
       "      <td>WRIGHT, FAEZEH F</td>\n",
       "      <td>-   -</td>\n",
       "      <td>WINDERMERE 1 LT 3 BLK A</td>\n",
       "      <td>1000</td>\n",
       "      <td>1</td>\n",
       "      <td>BACA</td>\n",
       "    </tr>\n",
       "    <tr>\n",
       "      <th>1</th>\n",
       "      <td>001-020-11</td>\n",
       "      <td>NaN</td>\n",
       "      <td>3963 KINGS ROW</td>\n",
       "      <td>07/28/2017</td>\n",
       "      <td>259000</td>\n",
       "      <td>2D</td>\n",
       "      <td>4728450</td>\n",
       "      <td>WINDERMERE 1</td>\n",
       "      <td>1984</td>\n",
       "      <td>1984</td>\n",
       "      <td>...</td>\n",
       "      <td>NaN</td>\n",
       "      <td>LAFAYETTE</td>\n",
       "      <td>CA</td>\n",
       "      <td>94549</td>\n",
       "      <td>TAEUBEL, ANTHONY M &amp; KIMBERLY A</td>\n",
       "      <td>-   -</td>\n",
       "      <td>WINDERMERE 1 LT 11 BLK A</td>\n",
       "      <td>1000</td>\n",
       "      <td>1</td>\n",
       "      <td>BACA</td>\n",
       "    </tr>\n",
       "    <tr>\n",
       "      <th>2</th>\n",
       "      <td>001-020-15</td>\n",
       "      <td>NaN</td>\n",
       "      <td>3971 KINGS ROW</td>\n",
       "      <td>11/30/2017</td>\n",
       "      <td>200000</td>\n",
       "      <td>2D</td>\n",
       "      <td>4767999</td>\n",
       "      <td>WINDERMERE 1</td>\n",
       "      <td>1984</td>\n",
       "      <td>1984</td>\n",
       "      <td>...</td>\n",
       "      <td>NaN</td>\n",
       "      <td>RENO</td>\n",
       "      <td>NV</td>\n",
       "      <td>89503</td>\n",
       "      <td>MURPHY, MICHAEL M</td>\n",
       "      <td>-   -</td>\n",
       "      <td>WINDERMERE 1 LT 15 BLK A</td>\n",
       "      <td>1000</td>\n",
       "      <td>1</td>\n",
       "      <td>BACA</td>\n",
       "    </tr>\n",
       "    <tr>\n",
       "      <th>3</th>\n",
       "      <td>001-030-02</td>\n",
       "      <td>NaN</td>\n",
       "      <td>2850 COLUMBUS WAY</td>\n",
       "      <td>04/20/2017</td>\n",
       "      <td>280000</td>\n",
       "      <td>2D</td>\n",
       "      <td>4697273</td>\n",
       "      <td>WINDMERE ESTATES</td>\n",
       "      <td>1984</td>\n",
       "      <td>1984</td>\n",
       "      <td>...</td>\n",
       "      <td>NaN</td>\n",
       "      <td>RENO</td>\n",
       "      <td>NV</td>\n",
       "      <td>89503</td>\n",
       "      <td>ALBARRAN, ROSA I</td>\n",
       "      <td>-   -</td>\n",
       "      <td>WINDERMERE EST LT 1 BLK A</td>\n",
       "      <td>1000</td>\n",
       "      <td>1</td>\n",
       "      <td>BAGC</td>\n",
       "    </tr>\n",
       "    <tr>\n",
       "      <th>4</th>\n",
       "      <td>001-041-51</td>\n",
       "      <td>NaN</td>\n",
       "      <td>2730 GULLING CT</td>\n",
       "      <td>08/31/2017</td>\n",
       "      <td>308800</td>\n",
       "      <td>2D</td>\n",
       "      <td>4739571</td>\n",
       "      <td>GULLING</td>\n",
       "      <td>2007</td>\n",
       "      <td>2007</td>\n",
       "      <td>...</td>\n",
       "      <td>NaN</td>\n",
       "      <td>SAN RAMON</td>\n",
       "      <td>CA</td>\n",
       "      <td>94582</td>\n",
       "      <td>FRY, HARRY C</td>\n",
       "      <td>001-041-46</td>\n",
       "      <td>GULLING LT 5</td>\n",
       "      <td>1000</td>\n",
       "      <td>1</td>\n",
       "      <td>BCBC</td>\n",
       "    </tr>\n",
       "  </tbody>\n",
       "</table>\n",
       "<p>5 rows × 40 columns</p>\n",
       "</div>"
      ],
      "text/plain": [
       "          APN Add Rec              Situs  Sales Date  Sale Price Sale Verf  \\\n",
       "0  001-020-03     NaN    3947 KINGS ROW   01/10/2017      175000        2D   \n",
       "1  001-020-11     NaN    3963 KINGS ROW   07/28/2017      259000        2D   \n",
       "2  001-020-15     NaN    3971 KINGS ROW   11/30/2017      200000        2D   \n",
       "3  001-030-02     NaN  2850 COLUMBUS WAY  04/20/2017      280000        2D   \n",
       "4  001-041-51     NaN    2730 GULLING CT  08/31/2017      308800        2D   \n",
       "\n",
       "    RecDoc       Subdivision  Year Blt  Avg Yr Blt  ... Mailing2       City  \\\n",
       "0  4669528      WINDERMERE 1      1984        1984  ...      NaN       RENO   \n",
       "1  4728450      WINDERMERE 1      1984        1984  ...      NaN  LAFAYETTE   \n",
       "2  4767999      WINDERMERE 1      1984        1984  ...      NaN       RENO   \n",
       "3  4697273  WINDMERE ESTATES      1984        1984  ...      NaN       RENO   \n",
       "4  4739571           GULLING      2007        2007  ...      NaN  SAN RAMON   \n",
       "\n",
       "   State    Zip                       PriorOwner    PriorPID  \\\n",
       "0     NV  89503                 WRIGHT, FAEZEH F       -   -   \n",
       "1     CA  94549  TAEUBEL, ANTHONY M & KIMBERLY A       -   -   \n",
       "2     NV  89503                MURPHY, MICHAEL M       -   -   \n",
       "3     NV  89503                 ALBARRAN, ROSA I       -   -   \n",
       "4     CA  94582                     FRY, HARRY C  001-041-46   \n",
       "\n",
       "                   LegalDesc TaxDist Total Units Neighborhood  \n",
       "0    WINDERMERE 1 LT 3 BLK A    1000           1         BACA  \n",
       "1   WINDERMERE 1 LT 11 BLK A    1000           1         BACA  \n",
       "2   WINDERMERE 1 LT 15 BLK A    1000           1         BACA  \n",
       "3  WINDERMERE EST LT 1 BLK A    1000           1         BAGC  \n",
       "4               GULLING LT 5    1000           1         BCBC  \n",
       "\n",
       "[5 rows x 40 columns]"
      ]
     },
     "execution_count": 3,
     "metadata": {},
     "output_type": "execute_result"
    }
   ],
   "source": [
    "sales.head()"
   ]
  },
  {
   "cell_type": "markdown",
   "metadata": {},
   "source": [
    "Now, let's extract some basic information from our dataset."
   ]
  },
  {
   "cell_type": "code",
   "execution_count": 4,
   "metadata": {},
   "outputs": [
    {
     "data": {
      "text/html": [
       "<div>\n",
       "<style scoped>\n",
       "    .dataframe tbody tr th:only-of-type {\n",
       "        vertical-align: middle;\n",
       "    }\n",
       "\n",
       "    .dataframe tbody tr th {\n",
       "        vertical-align: top;\n",
       "    }\n",
       "\n",
       "    .dataframe thead th {\n",
       "        text-align: right;\n",
       "    }\n",
       "</style>\n",
       "<table border=\"1\" class=\"dataframe\">\n",
       "  <thead>\n",
       "    <tr style=\"text-align: right;\">\n",
       "      <th></th>\n",
       "      <th>Sale Price</th>\n",
       "      <th>Year Blt</th>\n",
       "      <th>Avg Yr Blt</th>\n",
       "      <th>Bldg SF</th>\n",
       "      <th>Beds</th>\n",
       "      <th>Full Baths</th>\n",
       "      <th>Half Baths</th>\n",
       "      <th>Gar Area</th>\n",
       "      <th>Bsmt Area</th>\n",
       "      <th>Acres</th>\n",
       "      <th>TaxDist</th>\n",
       "      <th>Total Units</th>\n",
       "    </tr>\n",
       "  </thead>\n",
       "  <tbody>\n",
       "    <tr>\n",
       "      <th>count</th>\n",
       "      <td>1.350000e+04</td>\n",
       "      <td>13500.000000</td>\n",
       "      <td>13500.000000</td>\n",
       "      <td>13500.000000</td>\n",
       "      <td>13500.000000</td>\n",
       "      <td>13500.000000</td>\n",
       "      <td>13500.000000</td>\n",
       "      <td>13500.000000</td>\n",
       "      <td>13500.000000</td>\n",
       "      <td>13500.000000</td>\n",
       "      <td>13500.000000</td>\n",
       "      <td>13500.000000</td>\n",
       "    </tr>\n",
       "    <tr>\n",
       "      <th>mean</th>\n",
       "      <td>1.743231e+06</td>\n",
       "      <td>1777.288741</td>\n",
       "      <td>1778.077704</td>\n",
       "      <td>2271.792444</td>\n",
       "      <td>2.781111</td>\n",
       "      <td>1.903111</td>\n",
       "      <td>0.285704</td>\n",
       "      <td>373.956815</td>\n",
       "      <td>82.285778</td>\n",
       "      <td>1.718017</td>\n",
       "      <td>2116.871778</td>\n",
       "      <td>1.341407</td>\n",
       "    </tr>\n",
       "    <tr>\n",
       "      <th>std</th>\n",
       "      <td>6.131999e+06</td>\n",
       "      <td>617.587266</td>\n",
       "      <td>617.832898</td>\n",
       "      <td>11903.451195</td>\n",
       "      <td>2.052539</td>\n",
       "      <td>1.728974</td>\n",
       "      <td>0.467559</td>\n",
       "      <td>307.538183</td>\n",
       "      <td>458.214167</td>\n",
       "      <td>16.371669</td>\n",
       "      <td>1511.198018</td>\n",
       "      <td>9.616290</td>\n",
       "    </tr>\n",
       "    <tr>\n",
       "      <th>min</th>\n",
       "      <td>1.000000e+02</td>\n",
       "      <td>0.000000</td>\n",
       "      <td>0.000000</td>\n",
       "      <td>0.000000</td>\n",
       "      <td>0.000000</td>\n",
       "      <td>0.000000</td>\n",
       "      <td>0.000000</td>\n",
       "      <td>0.000000</td>\n",
       "      <td>0.000000</td>\n",
       "      <td>0.000987</td>\n",
       "      <td>1000.000000</td>\n",
       "      <td>0.000000</td>\n",
       "    </tr>\n",
       "    <tr>\n",
       "      <th>25%</th>\n",
       "      <td>2.500000e+05</td>\n",
       "      <td>1971.000000</td>\n",
       "      <td>1972.000000</td>\n",
       "      <td>1160.000000</td>\n",
       "      <td>2.000000</td>\n",
       "      <td>2.000000</td>\n",
       "      <td>0.000000</td>\n",
       "      <td>0.000000</td>\n",
       "      <td>0.000000</td>\n",
       "      <td>0.116001</td>\n",
       "      <td>1000.000000</td>\n",
       "      <td>1.000000</td>\n",
       "    </tr>\n",
       "    <tr>\n",
       "      <th>50%</th>\n",
       "      <td>3.420000e+05</td>\n",
       "      <td>1993.000000</td>\n",
       "      <td>1994.000000</td>\n",
       "      <td>1624.000000</td>\n",
       "      <td>3.000000</td>\n",
       "      <td>2.000000</td>\n",
       "      <td>0.000000</td>\n",
       "      <td>440.000000</td>\n",
       "      <td>0.000000</td>\n",
       "      <td>0.169571</td>\n",
       "      <td>1011.000000</td>\n",
       "      <td>1.000000</td>\n",
       "    </tr>\n",
       "    <tr>\n",
       "      <th>75%</th>\n",
       "      <td>5.050000e+05</td>\n",
       "      <td>2005.000000</td>\n",
       "      <td>2005.000000</td>\n",
       "      <td>2215.000000</td>\n",
       "      <td>4.000000</td>\n",
       "      <td>2.000000</td>\n",
       "      <td>1.000000</td>\n",
       "      <td>576.000000</td>\n",
       "      <td>0.000000</td>\n",
       "      <td>0.322205</td>\n",
       "      <td>4000.000000</td>\n",
       "      <td>1.000000</td>\n",
       "    </tr>\n",
       "    <tr>\n",
       "      <th>max</th>\n",
       "      <td>1.560000e+08</td>\n",
       "      <td>2018.000000</td>\n",
       "      <td>2018.000000</td>\n",
       "      <td>676431.000000</td>\n",
       "      <td>108.000000</td>\n",
       "      <td>113.000000</td>\n",
       "      <td>5.000000</td>\n",
       "      <td>4258.000000</td>\n",
       "      <td>18280.000000</td>\n",
       "      <td>871.000000</td>\n",
       "      <td>9601.000000</td>\n",
       "      <td>568.000000</td>\n",
       "    </tr>\n",
       "  </tbody>\n",
       "</table>\n",
       "</div>"
      ],
      "text/plain": [
       "         Sale Price      Year Blt    Avg Yr Blt        Bldg SF          Beds  \\\n",
       "count  1.350000e+04  13500.000000  13500.000000   13500.000000  13500.000000   \n",
       "mean   1.743231e+06   1777.288741   1778.077704    2271.792444      2.781111   \n",
       "std    6.131999e+06    617.587266    617.832898   11903.451195      2.052539   \n",
       "min    1.000000e+02      0.000000      0.000000       0.000000      0.000000   \n",
       "25%    2.500000e+05   1971.000000   1972.000000    1160.000000      2.000000   \n",
       "50%    3.420000e+05   1993.000000   1994.000000    1624.000000      3.000000   \n",
       "75%    5.050000e+05   2005.000000   2005.000000    2215.000000      4.000000   \n",
       "max    1.560000e+08   2018.000000   2018.000000  676431.000000    108.000000   \n",
       "\n",
       "         Full Baths    Half Baths      Gar Area     Bsmt Area         Acres  \\\n",
       "count  13500.000000  13500.000000  13500.000000  13500.000000  13500.000000   \n",
       "mean       1.903111      0.285704    373.956815     82.285778      1.718017   \n",
       "std        1.728974      0.467559    307.538183    458.214167     16.371669   \n",
       "min        0.000000      0.000000      0.000000      0.000000      0.000987   \n",
       "25%        2.000000      0.000000      0.000000      0.000000      0.116001   \n",
       "50%        2.000000      0.000000    440.000000      0.000000      0.169571   \n",
       "75%        2.000000      1.000000    576.000000      0.000000      0.322205   \n",
       "max      113.000000      5.000000   4258.000000  18280.000000    871.000000   \n",
       "\n",
       "            TaxDist   Total Units  \n",
       "count  13500.000000  13500.000000  \n",
       "mean    2116.871778      1.341407  \n",
       "std     1511.198018      9.616290  \n",
       "min     1000.000000      0.000000  \n",
       "25%     1000.000000      1.000000  \n",
       "50%     1011.000000      1.000000  \n",
       "75%     4000.000000      1.000000  \n",
       "max     9601.000000    568.000000  "
      ]
     },
     "execution_count": 4,
     "metadata": {},
     "output_type": "execute_result"
    }
   ],
   "source": [
    "sales.describe()"
   ]
  },
  {
   "cell_type": "code",
   "execution_count": 5,
   "metadata": {},
   "outputs": [
    {
     "name": "stdout",
     "output_type": "stream",
     "text": [
      "<class 'pandas.core.frame.DataFrame'>\n",
      "RangeIndex: 13500 entries, 0 to 13499\n",
      "Data columns (total 40 columns):\n",
      "APN               13500 non-null object\n",
      "Add Rec           185 non-null object\n",
      "Situs             13465 non-null object\n",
      "Sales Date        13500 non-null object\n",
      "Sale Price        13500 non-null int64\n",
      "Sale Verf         13500 non-null object\n",
      "RecDoc            13500 non-null object\n",
      "Subdivision       13457 non-null object\n",
      "Year Blt          13500 non-null int64\n",
      "Avg Yr Blt        13500 non-null int64\n",
      "BldgType          12047 non-null object\n",
      "Stories           11653 non-null object\n",
      "Bldg SF           13500 non-null int64\n",
      "Grade             12047 non-null object\n",
      "Beds              13500 non-null int64\n",
      "Full Baths        13500 non-null int64\n",
      "Half Baths        13500 non-null int64\n",
      "Heat Type         12047 non-null object\n",
      "Exterior Walls    12047 non-null object\n",
      "Roof Type         11523 non-null object\n",
      "Gar Type          9193 non-null object\n",
      "Gar Area          13500 non-null int64\n",
      "Bsmt Type         960 non-null object\n",
      "Bsmt Area         13500 non-null int64\n",
      "LUC at Sale       13500 non-null object\n",
      "Zoning            13491 non-null object\n",
      "Acres             13500 non-null float64\n",
      "Owner1            13500 non-null object\n",
      "Addl Owner        13500 non-null object\n",
      "Mailing1          13500 non-null object\n",
      "Mailing2          619 non-null object\n",
      "City              13500 non-null object\n",
      "State             13500 non-null object\n",
      "Zip               13499 non-null object\n",
      "PriorOwner        13500 non-null object\n",
      "PriorPID          13500 non-null object\n",
      "LegalDesc         13500 non-null object\n",
      "TaxDist           13500 non-null int64\n",
      "Total Units       13500 non-null int64\n",
      "Neighborhood      13500 non-null object\n",
      "dtypes: float64(1), int64(11), object(28)\n",
      "memory usage: 4.1+ MB\n"
     ]
    }
   ],
   "source": [
    "sales.info()"
   ]
  },
  {
   "cell_type": "markdown",
   "metadata": {},
   "source": [
    "## **Let's get a better understanding of our data!**"
   ]
  },
  {
   "cell_type": "markdown",
   "metadata": {},
   "source": [
    "Here I am just exploring the dataset a bit, I was interested in the APN column and wanted to know more about it."
   ]
  },
  {
   "cell_type": "code",
   "execution_count": 6,
   "metadata": {},
   "outputs": [
    {
     "data": {
      "text/html": [
       "<div>\n",
       "<style scoped>\n",
       "    .dataframe tbody tr th:only-of-type {\n",
       "        vertical-align: middle;\n",
       "    }\n",
       "\n",
       "    .dataframe tbody tr th {\n",
       "        vertical-align: top;\n",
       "    }\n",
       "\n",
       "    .dataframe thead th {\n",
       "        text-align: right;\n",
       "    }\n",
       "</style>\n",
       "<table border=\"1\" class=\"dataframe\">\n",
       "  <thead>\n",
       "    <tr style=\"text-align: right;\">\n",
       "      <th></th>\n",
       "      <th>APN</th>\n",
       "      <th>Add Rec</th>\n",
       "      <th>Situs</th>\n",
       "      <th>Sales Date</th>\n",
       "      <th>Sale Price</th>\n",
       "      <th>Sale Verf</th>\n",
       "      <th>RecDoc</th>\n",
       "      <th>Subdivision</th>\n",
       "      <th>Year Blt</th>\n",
       "      <th>Avg Yr Blt</th>\n",
       "      <th>...</th>\n",
       "      <th>Mailing2</th>\n",
       "      <th>City</th>\n",
       "      <th>State</th>\n",
       "      <th>Zip</th>\n",
       "      <th>PriorOwner</th>\n",
       "      <th>PriorPID</th>\n",
       "      <th>LegalDesc</th>\n",
       "      <th>TaxDist</th>\n",
       "      <th>Total Units</th>\n",
       "      <th>Neighborhood</th>\n",
       "    </tr>\n",
       "  </thead>\n",
       "  <tbody>\n",
       "    <tr>\n",
       "      <th>9053</th>\n",
       "      <td>165-192-03</td>\n",
       "      <td>NaN</td>\n",
       "      <td>1870 CASCADE STABLE DR</td>\n",
       "      <td>09/22/2017</td>\n",
       "      <td>453000</td>\n",
       "      <td>2D</td>\n",
       "      <td>4747120</td>\n",
       "      <td>BELLA VISTA RANCH VLG B-2</td>\n",
       "      <td>2017</td>\n",
       "      <td>2017</td>\n",
       "      <td>...</td>\n",
       "      <td>NaN</td>\n",
       "      <td>RENO</td>\n",
       "      <td>NV</td>\n",
       "      <td>89521</td>\n",
       "      <td>LOPIANO LIVING TRUST, DAVID</td>\n",
       "      <td>165-131-03</td>\n",
       "      <td>BELLA VISTA RANCH VLG B-2 LOT 95</td>\n",
       "      <td>1000</td>\n",
       "      <td>1</td>\n",
       "      <td>EDKC</td>\n",
       "    </tr>\n",
       "    <tr>\n",
       "      <th>9054</th>\n",
       "      <td>165-192-03</td>\n",
       "      <td>NaN</td>\n",
       "      <td>1870 CASCADE STABLE DR</td>\n",
       "      <td>11/03/2017</td>\n",
       "      <td>467602</td>\n",
       "      <td>2D</td>\n",
       "      <td>4760724</td>\n",
       "      <td>BELLA VISTA RANCH VLG B-2</td>\n",
       "      <td>2017</td>\n",
       "      <td>2017</td>\n",
       "      <td>...</td>\n",
       "      <td>NaN</td>\n",
       "      <td>RENO</td>\n",
       "      <td>NV</td>\n",
       "      <td>89521</td>\n",
       "      <td>D R HORTON CA2 INC</td>\n",
       "      <td>165-131-03</td>\n",
       "      <td>BELLA VISTA RANCH VLG B-2 LOT 95</td>\n",
       "      <td>1000</td>\n",
       "      <td>1</td>\n",
       "      <td>EDKC</td>\n",
       "    </tr>\n",
       "    <tr>\n",
       "      <th>9055</th>\n",
       "      <td>165-192-03</td>\n",
       "      <td>NaN</td>\n",
       "      <td>1870 CASCADE STABLE DR</td>\n",
       "      <td>09/15/2017</td>\n",
       "      <td>453000</td>\n",
       "      <td>2D</td>\n",
       "      <td>4744519</td>\n",
       "      <td>BELLA VISTA RANCH VLG B-2</td>\n",
       "      <td>2017</td>\n",
       "      <td>2017</td>\n",
       "      <td>...</td>\n",
       "      <td>NaN</td>\n",
       "      <td>RENO</td>\n",
       "      <td>NV</td>\n",
       "      <td>89521</td>\n",
       "      <td>D R HORTON CA2 INC</td>\n",
       "      <td>165-131-03</td>\n",
       "      <td>BELLA VISTA RANCH VLG B-2 LOT 95</td>\n",
       "      <td>1000</td>\n",
       "      <td>1</td>\n",
       "      <td>EDKC</td>\n",
       "    </tr>\n",
       "  </tbody>\n",
       "</table>\n",
       "<p>3 rows × 40 columns</p>\n",
       "</div>"
      ],
      "text/plain": [
       "             APN Add Rec                   Situs  Sales Date  Sale Price  \\\n",
       "9053  165-192-03     NaN  1870 CASCADE STABLE DR  09/22/2017      453000   \n",
       "9054  165-192-03     NaN  1870 CASCADE STABLE DR  11/03/2017      467602   \n",
       "9055  165-192-03     NaN  1870 CASCADE STABLE DR  09/15/2017      453000   \n",
       "\n",
       "     Sale Verf   RecDoc                Subdivision  Year Blt  Avg Yr Blt  ...  \\\n",
       "9053        2D  4747120  BELLA VISTA RANCH VLG B-2      2017        2017  ...   \n",
       "9054        2D  4760724  BELLA VISTA RANCH VLG B-2      2017        2017  ...   \n",
       "9055        2D  4744519  BELLA VISTA RANCH VLG B-2      2017        2017  ...   \n",
       "\n",
       "     Mailing2  City  State    Zip                   PriorOwner    PriorPID  \\\n",
       "9053      NaN  RENO     NV  89521  LOPIANO LIVING TRUST, DAVID  165-131-03   \n",
       "9054      NaN  RENO     NV  89521           D R HORTON CA2 INC  165-131-03   \n",
       "9055      NaN  RENO     NV  89521           D R HORTON CA2 INC  165-131-03   \n",
       "\n",
       "                             LegalDesc TaxDist Total Units Neighborhood  \n",
       "9053  BELLA VISTA RANCH VLG B-2 LOT 95    1000           1         EDKC  \n",
       "9054  BELLA VISTA RANCH VLG B-2 LOT 95    1000           1         EDKC  \n",
       "9055  BELLA VISTA RANCH VLG B-2 LOT 95    1000           1         EDKC  \n",
       "\n",
       "[3 rows x 40 columns]"
      ]
     },
     "execution_count": 6,
     "metadata": {},
     "output_type": "execute_result"
    }
   ],
   "source": [
    "sales[sales['APN'] == sales['APN'].value_counts().index[0]]"
   ]
  },
  {
   "cell_type": "markdown",
   "metadata": {},
   "source": [
    "As we can see it seems to be a type of building code that represents certain buildings in Washoe County."
   ]
  },
  {
   "cell_type": "markdown",
   "metadata": {},
   "source": [
    "Since we are interested in analyzing sales of homes, we must only consider data that has a building type and address entries."
   ]
  },
  {
   "cell_type": "markdown",
   "metadata": {},
   "source": [
    "We should look at the different type of buildings to see the variations."
   ]
  },
  {
   "cell_type": "code",
   "execution_count": 7,
   "metadata": {},
   "outputs": [
    {
     "data": {
      "text/plain": [
       "12047"
      ]
     },
     "execution_count": 7,
     "metadata": {},
     "output_type": "execute_result"
    }
   ],
   "source": [
    "build_type = sales['BldgType'].value_counts().index\n",
    "sales['BldgType'].count()"
   ]
  },
  {
   "cell_type": "markdown",
   "metadata": {},
   "source": [
    "We have started with 13,500 data entries and only have building types for 12,047 of them."
   ]
  },
  {
   "cell_type": "code",
   "execution_count": 8,
   "metadata": {},
   "outputs": [
    {
     "data": {
      "text/plain": [
       "Index(['Sgl Fam Res ', 'Townhse End', 'Townhse Ins', 'MH Real Prop',\n",
       "       'Multiple Res (Low Rise)', 'Office Building', 'Duplex', 'Retail Store',\n",
       "       'Conversion', 'HiRise Condo', 'Parking Level', 'Storage Warehouse',\n",
       "       'Industrial Flex Building', 'Restaurant', 'Motel', 'Hotel Condo',\n",
       "       'Discount Store', 'Service Repair Garage', 'Hotel, Limited Service',\n",
       "       'Neighborhood Shopping Ctr', 'Fast Food Restaurant', 'Mini-Warehouse',\n",
       "       'Industrials, Light Mftg.', 'Medical Office', 'Hotel, Full Service',\n",
       "       'Convenience Market', 'Mega Warehouse', 'Casino', 'Bar/Tavern',\n",
       "       'Equipment (Shop) Building', 'Dental Office/Clinic',\n",
       "       'Regional Shopping Center', 'Bank', 'Shell, Office',\n",
       "       'Mixed Retail w/ Resid. Units', 'Community Shopping Center',\n",
       "       'Apartment', 'Lt. Commercial Utility Build.', 'Day Care Center',\n",
       "       'Church', 'Barber Shop', 'Mini-Lube Garage', 'Bowling Center',\n",
       "       'Storage Garage', 'Market', 'Automotive Center',\n",
       "       'Multiple Res. (Sen. Citizen)', 'Restroom Building', 'Clubhouse',\n",
       "       'Discount Warehouse Store', 'Country Club', 'Group Care Home',\n",
       "       'Service Garage Shed', 'Veterinary Hospital', 'Theater - Live Stage',\n",
       "       'Shell, Neigh. Shop. Ctr.', 'Classroom', 'Supermarket',\n",
       "       'Fire Station (Volunteer)', 'Shed Office Structure',\n",
       "       'Automobile Showroom', 'Handball-Racquetball Club',\n",
       "       'Distribution Warehouse', 'Dispensary'],\n",
       "      dtype='object')"
      ]
     },
     "execution_count": 8,
     "metadata": {},
     "output_type": "execute_result"
    }
   ],
   "source": [
    "build_type"
   ]
  },
  {
   "cell_type": "code",
   "execution_count": 9,
   "metadata": {},
   "outputs": [
    {
     "name": "stdout",
     "output_type": "stream",
     "text": [
      "Data Entries: 1882, Percent of data without a street address or type of building or stories entries entries: 13.94%\n"
     ]
    }
   ],
   "source": [
    "print('Data Entries: {}, Percent of data without a street address or type of building or stories entries entries: {:.2f}%'.format(\n",
    "    len(sales[(sales['BldgType'].isna()) | (sales['Situs'].isna()) | (sales['Stories'].isna())]),\n",
    "    len(sales[(sales['BldgType'].isna()) | (sales['Situs'].isna() | (sales['Stories'].isna()))])\n",
    "    /len(sales)*100))\n",
    "\n",
    "messy = sales[(sales['BldgType'].notna()) & (sales['Situs'].notna()) & (sales['Stories'].notna())].copy()"
   ]
  },
  {
   "cell_type": "markdown",
   "metadata": {},
   "source": [
    "Here we can see that we essentially have lost 14% of the data from the original sales report as they do not have a address, building type, or stories entries."
   ]
  },
  {
   "cell_type": "markdown",
   "metadata": {},
   "source": [
    "Let's now dig deeper into the data. Let's check out our dataframe once again!"
   ]
  },
  {
   "cell_type": "code",
   "execution_count": 10,
   "metadata": {},
   "outputs": [
    {
     "name": "stdout",
     "output_type": "stream",
     "text": [
      "<class 'pandas.core.frame.DataFrame'>\n",
      "Int64Index: 11618 entries, 0 to 13498\n",
      "Data columns (total 40 columns):\n",
      "APN               11618 non-null object\n",
      "Add Rec           185 non-null object\n",
      "Situs             11618 non-null object\n",
      "Sales Date        11618 non-null object\n",
      "Sale Price        11618 non-null int64\n",
      "Sale Verf         11618 non-null object\n",
      "RecDoc            11618 non-null object\n",
      "Subdivision       11576 non-null object\n",
      "Year Blt          11618 non-null int64\n",
      "Avg Yr Blt        11618 non-null int64\n",
      "BldgType          11618 non-null object\n",
      "Stories           11618 non-null object\n",
      "Bldg SF           11618 non-null int64\n",
      "Grade             11618 non-null object\n",
      "Beds              11618 non-null int64\n",
      "Full Baths        11618 non-null int64\n",
      "Half Baths        11618 non-null int64\n",
      "Heat Type         11618 non-null object\n",
      "Exterior Walls    11618 non-null object\n",
      "Roof Type         11095 non-null object\n",
      "Gar Type          9145 non-null object\n",
      "Gar Area          11618 non-null int64\n",
      "Bsmt Type         958 non-null object\n",
      "Bsmt Area         11618 non-null int64\n",
      "LUC at Sale       11618 non-null object\n",
      "Zoning            11618 non-null object\n",
      "Acres             11618 non-null float64\n",
      "Owner1            11618 non-null object\n",
      "Addl Owner        11618 non-null object\n",
      "Mailing1          11618 non-null object\n",
      "Mailing2          372 non-null object\n",
      "City              11618 non-null object\n",
      "State             11618 non-null object\n",
      "Zip               11617 non-null object\n",
      "PriorOwner        11618 non-null object\n",
      "PriorPID          11618 non-null object\n",
      "LegalDesc         11618 non-null object\n",
      "TaxDist           11618 non-null int64\n",
      "Total Units       11618 non-null int64\n",
      "Neighborhood      11618 non-null object\n",
      "dtypes: float64(1), int64(11), object(28)\n",
      "memory usage: 3.6+ MB\n"
     ]
    }
   ],
   "source": [
    "messy.info()"
   ]
  },
  {
   "cell_type": "markdown",
   "metadata": {},
   "source": [
    "We now have 11,618 entries from 13,500 original entries. Let's look at the value count of the 'BldgType' column."
   ]
  },
  {
   "cell_type": "code",
   "execution_count": 11,
   "metadata": {},
   "outputs": [
    {
     "data": {
      "text/plain": [
       "Sgl Fam Res                      9088\n",
       "Townhse End                      1249\n",
       "Townhse Ins                       645\n",
       "Multiple Res (Low Rise)           110\n",
       "Office Building                    78\n",
       "Duplex                             69\n",
       "Retail Store                       46\n",
       "Conversion                         44\n",
       "HiRise Condo                       40\n",
       "Parking Level                      32\n",
       "Storage Warehouse                  31\n",
       "Industrial Flex Building           26\n",
       "Restaurant                         22\n",
       "Motel                              11\n",
       "Hotel Condo                         8\n",
       "Discount Store                      8\n",
       "Service Repair Garage               7\n",
       "Hotel, Limited Service              6\n",
       "Fast Food Restaurant                5\n",
       "Mini-Warehouse                      5\n",
       "Neighborhood Shopping Ctr           5\n",
       "Industrials, Light Mftg.            4\n",
       "Medical Office                      4\n",
       "Hotel, Full Service                 4\n",
       "Convenience Market                  4\n",
       "Mega Warehouse                      4\n",
       "Casino                              4\n",
       "Bar/Tavern                          4\n",
       "Equipment (Shop) Building           4\n",
       "Dental Office/Clinic                3\n",
       "                                 ... \n",
       "Mixed Retail w/ Resid. Units        3\n",
       "Community Shopping Center           2\n",
       "Apartment                           2\n",
       "Lt. Commercial Utility Build.       2\n",
       "Day Care Center                     2\n",
       "Church                              2\n",
       "Barber Shop                         2\n",
       "Mini-Lube Garage                    2\n",
       "Bowling Center                      1\n",
       "Storage Garage                      1\n",
       "Market                              1\n",
       "Automotive Center                   1\n",
       "Multiple Res. (Sen. Citizen)        1\n",
       "Restroom Building                   1\n",
       "Clubhouse                           1\n",
       "Discount Warehouse Store            1\n",
       "Country Club                        1\n",
       "Group Care Home                     1\n",
       "Service Garage Shed                 1\n",
       "Veterinary Hospital                 1\n",
       "Theater - Live Stage                1\n",
       "Shell, Neigh. Shop. Ctr.            1\n",
       "Classroom                           1\n",
       "Supermarket                         1\n",
       "Fire Station (Volunteer)            1\n",
       "Shed Office Structure               1\n",
       "Automobile Showroom                 1\n",
       "Handball-Racquetball Club           1\n",
       "Distribution Warehouse              1\n",
       "Dispensary                          1\n",
       "Name: BldgType, Length: 63, dtype: int64"
      ]
     },
     "execution_count": 11,
     "metadata": {},
     "output_type": "execute_result"
    }
   ],
   "source": [
    "messy['BldgType'].value_counts()"
   ]
  },
  {
   "cell_type": "markdown",
   "metadata": {},
   "source": [
    "As we  see there are 63 different values in the column. This is way too many and we can shrink this down a little and aggregate some entries together, so let's do that."
   ]
  },
  {
   "cell_type": "markdown",
   "metadata": {},
   "source": [
    "## **Cleaning our Data**"
   ]
  },
  {
   "cell_type": "markdown",
   "metadata": {},
   "source": [
    "Let's build a dictionary of replacement values."
   ]
  },
  {
   "cell_type": "code",
   "execution_count": 12,
   "metadata": {},
   "outputs": [],
   "source": [
    "building_type_dict = {'Sgl Fam Res ':'Residential House', 'Townhse End':'End Townhouse','Mixed Retail w/ Resid. Units':'Store',\n",
    "                      'Townhse Ins':'Middle Townhouse', 'Multiple Res (Low Rise)':'Low Rise Apartment',\n",
    "                      'HiRise Condo':'High Rise Condo', 'Parking Level':'Parking',\n",
    "                      'Industrial Flex Building':'Industrial Building', 'Retail Store':'Store',\n",
    "                     'Discount Store':'Store', 'Service Repair Garage':'Repair Garage',\n",
    "                      'Hotel, Limited Service':'Hotel', 'Hotel Condo':'Hotel',\n",
    "                     'Neighborhood Shopping Ctr':'Shopping Center','Fast Food Restaurant':'Restaurant',\n",
    "                     'Mini-Warehouse':'Warehouse','Mega Warehouse':'Warehouse',\n",
    "                      'Equipment (Shop) Building':'Equipment Shop','Hotel, Full Service':'Hotel',\n",
    "                     'Convenience Market':'Store','Industrials, Light Mftg.':'Industrial Building',\n",
    "                     'Shell, Office':'Office Building','Regional Shopping Center':'Shopping Center',\n",
    "                     'Dental Office/Clinic':'Medical Building','Mini-Lube Garage':'Repair Garage',\n",
    "                     'Apartment':'Low Rise Apartment','Lt. Commercial Utility Build.':'Industrial Building',\n",
    "                     'Community Shopping Center':'Shopping Center','Multiple Res. (Sen. Citizen)':'Group Care Home',\n",
    "                     'Theater - Live Stage':'Entertainment Building','Automotive Center':'Car Dealership',\n",
    "                     'Market':'Store','Veterinary Hospital':'Medical Building',\n",
    "                     'Distribution Warehouse':'Warehouse','Clubhouse':'Country Club',\n",
    "                     'Storage Garage':'Storage','Storage Warehouse':'Storage',\n",
    "                     'Supermarket':'Store','Automobile Showroom':'Entertainment Building',\n",
    "                     'Fire Station (Volunteer)':'Fire Station','Bowling Center':'Entertainment Building',\n",
    "                     'Shell, Neigh. Shop. Ctr.':'Shopping Center','Service Garage Shed':'Repair Garage',\n",
    "                     'Shed Office Structure':'Office Building','Handball-Racquetball Club':'Country Club',\n",
    "                     'Discount Warehouse Store':'Store','Medical Office':'Medical Building',\n",
    "                     'MH Real Prop':'MH Real Prop','Office Building':'Office Building',\n",
    "                     'Duplex':'Duplex','Conversion':'Conversion','Restaurant':'Restaurant',\n",
    "                     'Motel':'Motel','Bar/Tavern':'Bar','Casino':'Entertainment Building','Bank':'Bank',\n",
    "                     'Church':'Church','Barber Shop':'Barber Shop','Day Care Center':'Day Care Center',\n",
    "                     'Group Care Home':'Group Care Home','Country Club':'Country Club',\n",
    "                     'Restroom Building':'Restroom Building','Classroom':'Classroom','Dispensary':'Dispensary'}\n",
    "\n",
    "\n"
   ]
  },
  {
   "cell_type": "code",
   "execution_count": 13,
   "metadata": {},
   "outputs": [],
   "source": [
    "messy['BldgType'] = messy['BldgType'].map(building_type_dict)"
   ]
  },
  {
   "cell_type": "markdown",
   "metadata": {},
   "source": [
    "We have now mapped the dictionary to our column, let's look at what it did!"
   ]
  },
  {
   "cell_type": "code",
   "execution_count": 14,
   "metadata": {},
   "outputs": [
    {
     "data": {
      "text/plain": [
       "Residential House         9088\n",
       "End Townhouse             1249\n",
       "Middle Townhouse           645\n",
       "Low Rise Apartment         112\n",
       "Office Building             82\n",
       "Duplex                      69\n",
       "Store                       64\n",
       "Conversion                  44\n",
       "High Rise Condo             40\n",
       "Industrial Building         32\n",
       "Storage                     32\n",
       "Parking                     32\n",
       "Restaurant                  27\n",
       "Hotel                       18\n",
       "Shopping Center             11\n",
       "Motel                       11\n",
       "Warehouse                   10\n",
       "Repair Garage               10\n",
       "Medical Building             8\n",
       "Entertainment Building       7\n",
       "Equipment Shop               4\n",
       "Bar                          4\n",
       "Country Club                 3\n",
       "Bank                         3\n",
       "Group Care Home              2\n",
       "Day Care Center              2\n",
       "Barber Shop                  2\n",
       "Church                       2\n",
       "Restroom Building            1\n",
       "Classroom                    1\n",
       "Fire Station                 1\n",
       "Car Dealership               1\n",
       "Dispensary                   1\n",
       "Name: BldgType, dtype: int64"
      ]
     },
     "execution_count": 14,
     "metadata": {},
     "output_type": "execute_result"
    }
   ],
   "source": [
    "messy['BldgType'].value_counts()"
   ]
  },
  {
   "cell_type": "code",
   "execution_count": 15,
   "metadata": {},
   "outputs": [
    {
     "data": {
      "text/plain": [
       "11618"
      ]
     },
     "execution_count": 15,
     "metadata": {},
     "output_type": "execute_result"
    }
   ],
   "source": [
    "messy['BldgType'].count()"
   ]
  },
  {
   "cell_type": "markdown",
   "metadata": {},
   "source": [
    "Perfect, we changed all the column values and ended with how many we started with!"
   ]
  },
  {
   "cell_type": "markdown",
   "metadata": {},
   "source": [
    "Let's now create new columns based off previous columns. This is a bit of feature engineering that will help us better visualize our data and extract more useful information."
   ]
  },
  {
   "cell_type": "markdown",
   "metadata": {},
   "source": [
    "We will make a 'month','day' and 'street' column based off the 'Sales Date' and 'Situs' columns. We also go about dropping some columns that are not necessary to our analysis at the moment and are full of null values."
   ]
  },
  {
   "cell_type": "code",
   "execution_count": 16,
   "metadata": {},
   "outputs": [
    {
     "data": {
      "text/html": [
       "<div>\n",
       "<style scoped>\n",
       "    .dataframe tbody tr th:only-of-type {\n",
       "        vertical-align: middle;\n",
       "    }\n",
       "\n",
       "    .dataframe tbody tr th {\n",
       "        vertical-align: top;\n",
       "    }\n",
       "\n",
       "    .dataframe thead th {\n",
       "        text-align: right;\n",
       "    }\n",
       "</style>\n",
       "<table border=\"1\" class=\"dataframe\">\n",
       "  <thead>\n",
       "    <tr style=\"text-align: right;\">\n",
       "      <th></th>\n",
       "      <th>APN</th>\n",
       "      <th>Sale Price</th>\n",
       "      <th>Sale Verf</th>\n",
       "      <th>RecDoc</th>\n",
       "      <th>Subdivision</th>\n",
       "      <th>Year Blt</th>\n",
       "      <th>Avg Yr Blt</th>\n",
       "      <th>BldgType</th>\n",
       "      <th>Stories</th>\n",
       "      <th>Bldg SF</th>\n",
       "      <th>...</th>\n",
       "      <th>Zip</th>\n",
       "      <th>PriorOwner</th>\n",
       "      <th>PriorPID</th>\n",
       "      <th>LegalDesc</th>\n",
       "      <th>TaxDist</th>\n",
       "      <th>Total Units</th>\n",
       "      <th>Neighborhood</th>\n",
       "      <th>Sale Month</th>\n",
       "      <th>Sale Day</th>\n",
       "      <th>Street</th>\n",
       "    </tr>\n",
       "  </thead>\n",
       "  <tbody>\n",
       "    <tr>\n",
       "      <th>0</th>\n",
       "      <td>001-020-03</td>\n",
       "      <td>175000</td>\n",
       "      <td>2D</td>\n",
       "      <td>4669528</td>\n",
       "      <td>WINDERMERE 1</td>\n",
       "      <td>1984</td>\n",
       "      <td>1984</td>\n",
       "      <td>Middle Townhouse</td>\n",
       "      <td>TWO STORY</td>\n",
       "      <td>1518</td>\n",
       "      <td>...</td>\n",
       "      <td>89503</td>\n",
       "      <td>WRIGHT, FAEZEH F</td>\n",
       "      <td>-   -</td>\n",
       "      <td>WINDERMERE 1 LT 3 BLK A</td>\n",
       "      <td>1000</td>\n",
       "      <td>1</td>\n",
       "      <td>BACA</td>\n",
       "      <td>1</td>\n",
       "      <td>10</td>\n",
       "      <td>KINGS ROW</td>\n",
       "    </tr>\n",
       "    <tr>\n",
       "      <th>1</th>\n",
       "      <td>001-020-11</td>\n",
       "      <td>259000</td>\n",
       "      <td>2D</td>\n",
       "      <td>4728450</td>\n",
       "      <td>WINDERMERE 1</td>\n",
       "      <td>1984</td>\n",
       "      <td>1984</td>\n",
       "      <td>Middle Townhouse</td>\n",
       "      <td>TWO STORY</td>\n",
       "      <td>1638</td>\n",
       "      <td>...</td>\n",
       "      <td>94549</td>\n",
       "      <td>TAEUBEL, ANTHONY M &amp; KIMBERLY A</td>\n",
       "      <td>-   -</td>\n",
       "      <td>WINDERMERE 1 LT 11 BLK A</td>\n",
       "      <td>1000</td>\n",
       "      <td>1</td>\n",
       "      <td>BACA</td>\n",
       "      <td>7</td>\n",
       "      <td>28</td>\n",
       "      <td>KINGS ROW</td>\n",
       "    </tr>\n",
       "    <tr>\n",
       "      <th>2</th>\n",
       "      <td>001-020-15</td>\n",
       "      <td>200000</td>\n",
       "      <td>2D</td>\n",
       "      <td>4767999</td>\n",
       "      <td>WINDERMERE 1</td>\n",
       "      <td>1984</td>\n",
       "      <td>1984</td>\n",
       "      <td>End Townhouse</td>\n",
       "      <td>TWO STORY</td>\n",
       "      <td>1123</td>\n",
       "      <td>...</td>\n",
       "      <td>89503</td>\n",
       "      <td>MURPHY, MICHAEL M</td>\n",
       "      <td>-   -</td>\n",
       "      <td>WINDERMERE 1 LT 15 BLK A</td>\n",
       "      <td>1000</td>\n",
       "      <td>1</td>\n",
       "      <td>BACA</td>\n",
       "      <td>11</td>\n",
       "      <td>30</td>\n",
       "      <td>KINGS ROW</td>\n",
       "    </tr>\n",
       "    <tr>\n",
       "      <th>3</th>\n",
       "      <td>001-030-02</td>\n",
       "      <td>280000</td>\n",
       "      <td>2D</td>\n",
       "      <td>4697273</td>\n",
       "      <td>WINDMERE ESTATES</td>\n",
       "      <td>1984</td>\n",
       "      <td>1984</td>\n",
       "      <td>Residential House</td>\n",
       "      <td>SINGLE STORY</td>\n",
       "      <td>1334</td>\n",
       "      <td>...</td>\n",
       "      <td>89503</td>\n",
       "      <td>ALBARRAN, ROSA I</td>\n",
       "      <td>-   -</td>\n",
       "      <td>WINDERMERE EST LT 1 BLK A</td>\n",
       "      <td>1000</td>\n",
       "      <td>1</td>\n",
       "      <td>BAGC</td>\n",
       "      <td>4</td>\n",
       "      <td>20</td>\n",
       "      <td>COLUMBUS WAY</td>\n",
       "    </tr>\n",
       "    <tr>\n",
       "      <th>4</th>\n",
       "      <td>001-041-51</td>\n",
       "      <td>308800</td>\n",
       "      <td>2D</td>\n",
       "      <td>4739571</td>\n",
       "      <td>GULLING</td>\n",
       "      <td>2007</td>\n",
       "      <td>2007</td>\n",
       "      <td>Residential House</td>\n",
       "      <td>TWO STORY</td>\n",
       "      <td>1704</td>\n",
       "      <td>...</td>\n",
       "      <td>94582</td>\n",
       "      <td>FRY, HARRY C</td>\n",
       "      <td>001-041-46</td>\n",
       "      <td>GULLING LT 5</td>\n",
       "      <td>1000</td>\n",
       "      <td>1</td>\n",
       "      <td>BCBC</td>\n",
       "      <td>8</td>\n",
       "      <td>31</td>\n",
       "      <td>GULLING CT</td>\n",
       "    </tr>\n",
       "  </tbody>\n",
       "</table>\n",
       "<p>5 rows × 38 columns</p>\n",
       "</div>"
      ],
      "text/plain": [
       "          APN  Sale Price Sale Verf   RecDoc       Subdivision  Year Blt  \\\n",
       "0  001-020-03      175000        2D  4669528      WINDERMERE 1      1984   \n",
       "1  001-020-11      259000        2D  4728450      WINDERMERE 1      1984   \n",
       "2  001-020-15      200000        2D  4767999      WINDERMERE 1      1984   \n",
       "3  001-030-02      280000        2D  4697273  WINDMERE ESTATES      1984   \n",
       "4  001-041-51      308800        2D  4739571           GULLING      2007   \n",
       "\n",
       "   Avg Yr Blt           BldgType       Stories  Bldg SF  ...    Zip  \\\n",
       "0        1984   Middle Townhouse     TWO STORY     1518  ...  89503   \n",
       "1        1984   Middle Townhouse     TWO STORY     1638  ...  94549   \n",
       "2        1984      End Townhouse     TWO STORY     1123  ...  89503   \n",
       "3        1984  Residential House  SINGLE STORY     1334  ...  89503   \n",
       "4        2007  Residential House     TWO STORY     1704  ...  94582   \n",
       "\n",
       "                        PriorOwner    PriorPID                  LegalDesc  \\\n",
       "0                 WRIGHT, FAEZEH F       -   -    WINDERMERE 1 LT 3 BLK A   \n",
       "1  TAEUBEL, ANTHONY M & KIMBERLY A       -   -   WINDERMERE 1 LT 11 BLK A   \n",
       "2                MURPHY, MICHAEL M       -   -   WINDERMERE 1 LT 15 BLK A   \n",
       "3                 ALBARRAN, ROSA I       -   -  WINDERMERE EST LT 1 BLK A   \n",
       "4                     FRY, HARRY C  001-041-46               GULLING LT 5   \n",
       "\n",
       "  TaxDist Total Units Neighborhood Sale Month  Sale Day        Street  \n",
       "0    1000           1         BACA          1        10     KINGS ROW  \n",
       "1    1000           1         BACA          7        28     KINGS ROW  \n",
       "2    1000           1         BACA         11        30     KINGS ROW  \n",
       "3    1000           1         BAGC          4        20  COLUMBUS WAY  \n",
       "4    1000           1         BCBC          8        31    GULLING CT  \n",
       "\n",
       "[5 rows x 38 columns]"
      ]
     },
     "execution_count": 16,
     "metadata": {},
     "output_type": "execute_result"
    }
   ],
   "source": [
    "messy['Sale Month'] = messy['Sales Date'].apply(lambda x: int(x.split('/')[0]))\n",
    "messy['Sale Day'] = messy['Sales Date'].apply(lambda x: int(x.split('/')[1]))\n",
    "messy['Street'] = messy['Situs'].apply(lambda x: ' '.join(x.split()[1:]))\n",
    "\n",
    "#While we are at it let's also drop the columns Add Rec, Bsmt Type, Mailing2\n",
    "cleaned = messy.drop(['Situs','Sales Date' ,'Add Rec', 'Bsmt Type', 'Mailing2'],axis=1).copy()\n",
    "\n",
    "cleaned.head()"
   ]
  },
  {
   "cell_type": "code",
   "execution_count": 17,
   "metadata": {},
   "outputs": [
    {
     "name": "stdout",
     "output_type": "stream",
     "text": [
      "<class 'pandas.core.frame.DataFrame'>\n",
      "Int64Index: 11618 entries, 0 to 13498\n",
      "Data columns (total 38 columns):\n",
      "APN               11618 non-null object\n",
      "Sale Price        11618 non-null int64\n",
      "Sale Verf         11618 non-null object\n",
      "RecDoc            11618 non-null object\n",
      "Subdivision       11576 non-null object\n",
      "Year Blt          11618 non-null int64\n",
      "Avg Yr Blt        11618 non-null int64\n",
      "BldgType          11618 non-null object\n",
      "Stories           11618 non-null object\n",
      "Bldg SF           11618 non-null int64\n",
      "Grade             11618 non-null object\n",
      "Beds              11618 non-null int64\n",
      "Full Baths        11618 non-null int64\n",
      "Half Baths        11618 non-null int64\n",
      "Heat Type         11618 non-null object\n",
      "Exterior Walls    11618 non-null object\n",
      "Roof Type         11095 non-null object\n",
      "Gar Type          9145 non-null object\n",
      "Gar Area          11618 non-null int64\n",
      "Bsmt Area         11618 non-null int64\n",
      "LUC at Sale       11618 non-null object\n",
      "Zoning            11618 non-null object\n",
      "Acres             11618 non-null float64\n",
      "Owner1            11618 non-null object\n",
      "Addl Owner        11618 non-null object\n",
      "Mailing1          11618 non-null object\n",
      "City              11618 non-null object\n",
      "State             11618 non-null object\n",
      "Zip               11617 non-null object\n",
      "PriorOwner        11618 non-null object\n",
      "PriorPID          11618 non-null object\n",
      "LegalDesc         11618 non-null object\n",
      "TaxDist           11618 non-null int64\n",
      "Total Units       11618 non-null int64\n",
      "Neighborhood      11618 non-null object\n",
      "Sale Month        11618 non-null int64\n",
      "Sale Day          11618 non-null int64\n",
      "Street            11618 non-null object\n",
      "dtypes: float64(1), int64(13), object(24)\n",
      "memory usage: 3.5+ MB\n"
     ]
    }
   ],
   "source": [
    "cleaned.info()"
   ]
  },
  {
   "cell_type": "code",
   "execution_count": 18,
   "metadata": {},
   "outputs": [
    {
     "data": {
      "text/html": [
       "<div>\n",
       "<style scoped>\n",
       "    .dataframe tbody tr th:only-of-type {\n",
       "        vertical-align: middle;\n",
       "    }\n",
       "\n",
       "    .dataframe tbody tr th {\n",
       "        vertical-align: top;\n",
       "    }\n",
       "\n",
       "    .dataframe thead th {\n",
       "        text-align: right;\n",
       "    }\n",
       "</style>\n",
       "<table border=\"1\" class=\"dataframe\">\n",
       "  <thead>\n",
       "    <tr style=\"text-align: right;\">\n",
       "      <th></th>\n",
       "      <th>Sale Price</th>\n",
       "      <th>Year Blt</th>\n",
       "      <th>Avg Yr Blt</th>\n",
       "      <th>Bldg SF</th>\n",
       "      <th>Beds</th>\n",
       "      <th>Full Baths</th>\n",
       "      <th>Half Baths</th>\n",
       "      <th>Gar Area</th>\n",
       "      <th>Bsmt Area</th>\n",
       "      <th>Acres</th>\n",
       "      <th>TaxDist</th>\n",
       "      <th>Total Units</th>\n",
       "      <th>Sale Month</th>\n",
       "      <th>Sale Day</th>\n",
       "    </tr>\n",
       "  </thead>\n",
       "  <tbody>\n",
       "    <tr>\n",
       "      <th>count</th>\n",
       "      <td>1.161800e+04</td>\n",
       "      <td>11618.000000</td>\n",
       "      <td>11618.000000</td>\n",
       "      <td>11618.000000</td>\n",
       "      <td>11618.000000</td>\n",
       "      <td>11618.000000</td>\n",
       "      <td>11618.000000</td>\n",
       "      <td>11618.000000</td>\n",
       "      <td>11618.000000</td>\n",
       "      <td>11618.000000</td>\n",
       "      <td>11618.000000</td>\n",
       "      <td>11618.000000</td>\n",
       "      <td>11618.000000</td>\n",
       "      <td>11618.000000</td>\n",
       "    </tr>\n",
       "    <tr>\n",
       "      <th>mean</th>\n",
       "      <td>1.419880e+06</td>\n",
       "      <td>1991.570838</td>\n",
       "      <td>1992.483732</td>\n",
       "      <td>2580.946032</td>\n",
       "      <td>3.119814</td>\n",
       "      <td>2.137115</td>\n",
       "      <td>0.330608</td>\n",
       "      <td>432.025564</td>\n",
       "      <td>94.832243</td>\n",
       "      <td>0.708035</td>\n",
       "      <td>1956.404459</td>\n",
       "      <td>1.521777</td>\n",
       "      <td>6.795404</td>\n",
       "      <td>17.565760</td>\n",
       "    </tr>\n",
       "    <tr>\n",
       "      <th>std</th>\n",
       "      <td>5.548108e+06</td>\n",
       "      <td>21.559018</td>\n",
       "      <td>20.600976</td>\n",
       "      <td>12800.342491</td>\n",
       "      <td>1.949328</td>\n",
       "      <td>1.721172</td>\n",
       "      <td>0.488054</td>\n",
       "      <td>289.891883</td>\n",
       "      <td>488.307066</td>\n",
       "      <td>11.626608</td>\n",
       "      <td>1335.158962</td>\n",
       "      <td>10.353363</td>\n",
       "      <td>3.217606</td>\n",
       "      <td>8.937303</td>\n",
       "    </tr>\n",
       "    <tr>\n",
       "      <th>min</th>\n",
       "      <td>1.400000e+04</td>\n",
       "      <td>1875.000000</td>\n",
       "      <td>1875.000000</td>\n",
       "      <td>252.000000</td>\n",
       "      <td>0.000000</td>\n",
       "      <td>0.000000</td>\n",
       "      <td>0.000000</td>\n",
       "      <td>0.000000</td>\n",
       "      <td>0.000000</td>\n",
       "      <td>0.000987</td>\n",
       "      <td>1000.000000</td>\n",
       "      <td>0.000000</td>\n",
       "      <td>1.000000</td>\n",
       "      <td>1.000000</td>\n",
       "    </tr>\n",
       "    <tr>\n",
       "      <th>25%</th>\n",
       "      <td>2.630000e+05</td>\n",
       "      <td>1978.000000</td>\n",
       "      <td>1979.000000</td>\n",
       "      <td>1302.250000</td>\n",
       "      <td>3.000000</td>\n",
       "      <td>2.000000</td>\n",
       "      <td>0.000000</td>\n",
       "      <td>294.000000</td>\n",
       "      <td>0.000000</td>\n",
       "      <td>0.109045</td>\n",
       "      <td>1000.000000</td>\n",
       "      <td>1.000000</td>\n",
       "      <td>4.000000</td>\n",
       "      <td>10.000000</td>\n",
       "    </tr>\n",
       "    <tr>\n",
       "      <th>50%</th>\n",
       "      <td>3.430000e+05</td>\n",
       "      <td>1998.000000</td>\n",
       "      <td>1998.000000</td>\n",
       "      <td>1734.000000</td>\n",
       "      <td>3.000000</td>\n",
       "      <td>2.000000</td>\n",
       "      <td>0.000000</td>\n",
       "      <td>455.000000</td>\n",
       "      <td>0.000000</td>\n",
       "      <td>0.160996</td>\n",
       "      <td>1002.000000</td>\n",
       "      <td>1.000000</td>\n",
       "      <td>7.000000</td>\n",
       "      <td>17.000000</td>\n",
       "    </tr>\n",
       "    <tr>\n",
       "      <th>75%</th>\n",
       "      <td>4.750000e+05</td>\n",
       "      <td>2006.000000</td>\n",
       "      <td>2006.000000</td>\n",
       "      <td>2332.000000</td>\n",
       "      <td>4.000000</td>\n",
       "      <td>2.000000</td>\n",
       "      <td>1.000000</td>\n",
       "      <td>606.000000</td>\n",
       "      <td>0.000000</td>\n",
       "      <td>0.269008</td>\n",
       "      <td>2000.000000</td>\n",
       "      <td>1.000000</td>\n",
       "      <td>10.000000</td>\n",
       "      <td>26.000000</td>\n",
       "    </tr>\n",
       "    <tr>\n",
       "      <th>max</th>\n",
       "      <td>1.560000e+08</td>\n",
       "      <td>2018.000000</td>\n",
       "      <td>2018.000000</td>\n",
       "      <td>676431.000000</td>\n",
       "      <td>108.000000</td>\n",
       "      <td>113.000000</td>\n",
       "      <td>5.000000</td>\n",
       "      <td>4258.000000</td>\n",
       "      <td>18280.000000</td>\n",
       "      <td>871.000000</td>\n",
       "      <td>9601.000000</td>\n",
       "      <td>568.000000</td>\n",
       "      <td>12.000000</td>\n",
       "      <td>31.000000</td>\n",
       "    </tr>\n",
       "  </tbody>\n",
       "</table>\n",
       "</div>"
      ],
      "text/plain": [
       "         Sale Price      Year Blt    Avg Yr Blt        Bldg SF          Beds  \\\n",
       "count  1.161800e+04  11618.000000  11618.000000   11618.000000  11618.000000   \n",
       "mean   1.419880e+06   1991.570838   1992.483732    2580.946032      3.119814   \n",
       "std    5.548108e+06     21.559018     20.600976   12800.342491      1.949328   \n",
       "min    1.400000e+04   1875.000000   1875.000000     252.000000      0.000000   \n",
       "25%    2.630000e+05   1978.000000   1979.000000    1302.250000      3.000000   \n",
       "50%    3.430000e+05   1998.000000   1998.000000    1734.000000      3.000000   \n",
       "75%    4.750000e+05   2006.000000   2006.000000    2332.000000      4.000000   \n",
       "max    1.560000e+08   2018.000000   2018.000000  676431.000000    108.000000   \n",
       "\n",
       "         Full Baths    Half Baths      Gar Area     Bsmt Area         Acres  \\\n",
       "count  11618.000000  11618.000000  11618.000000  11618.000000  11618.000000   \n",
       "mean       2.137115      0.330608    432.025564     94.832243      0.708035   \n",
       "std        1.721172      0.488054    289.891883    488.307066     11.626608   \n",
       "min        0.000000      0.000000      0.000000      0.000000      0.000987   \n",
       "25%        2.000000      0.000000    294.000000      0.000000      0.109045   \n",
       "50%        2.000000      0.000000    455.000000      0.000000      0.160996   \n",
       "75%        2.000000      1.000000    606.000000      0.000000      0.269008   \n",
       "max      113.000000      5.000000   4258.000000  18280.000000    871.000000   \n",
       "\n",
       "            TaxDist   Total Units    Sale Month      Sale Day  \n",
       "count  11618.000000  11618.000000  11618.000000  11618.000000  \n",
       "mean    1956.404459      1.521777      6.795404     17.565760  \n",
       "std     1335.158962     10.353363      3.217606      8.937303  \n",
       "min     1000.000000      0.000000      1.000000      1.000000  \n",
       "25%     1000.000000      1.000000      4.000000     10.000000  \n",
       "50%     1002.000000      1.000000      7.000000     17.000000  \n",
       "75%     2000.000000      1.000000     10.000000     26.000000  \n",
       "max     9601.000000    568.000000     12.000000     31.000000  "
      ]
     },
     "execution_count": 18,
     "metadata": {},
     "output_type": "execute_result"
    }
   ],
   "source": [
    "cleaned.describe()"
   ]
  },
  {
   "cell_type": "code",
   "execution_count": 19,
   "metadata": {},
   "outputs": [
    {
     "data": {
      "text/plain": [
       "<matplotlib.axes._subplots.AxesSubplot at 0x25051399f98>"
      ]
     },
     "execution_count": 19,
     "metadata": {},
     "output_type": "execute_result"
    },
    {
     "data": {
      "image/png": "[encoded data removed]",
      "text/plain": [
       "<Figure size 864x576 with 2 Axes>"
      ]
     },
     "metadata": {
      "needs_background": "light"
     },
     "output_type": "display_data"
    }
   ],
   "source": [
    "plt.figure(figsize=(12,8))\n",
    "sns.heatmap(cleaned.isnull())"
   ]
  },
  {
   "cell_type": "markdown",
   "metadata": {},
   "source": [
    "Here we can see we are very close to cleaning our data entirely for our analysis. We will export this cleaner version of our data to a csv."
   ]
  },
  {
   "cell_type": "code",
   "execution_count": 20,
   "metadata": {},
   "outputs": [],
   "source": [
    "cleaned.to_csv('Cleaned_WashoeSalesReport2017.csv',index=False)"
   ]
  },
  {
   "cell_type": "markdown",
   "metadata": {},
   "source": [
    "Before we go on and choose a subset of the data for our analysis, we should notice a interesting feature of our data."
   ]
  },
  {
   "cell_type": "markdown",
   "metadata": {},
   "source": [
    "By looking at the different bins of the sales price on residential houses we can see how the data blows up at certain higher million dollar sales prices."
   ]
  },
  {
   "cell_type": "code",
   "execution_count": 21,
   "metadata": {},
   "outputs": [],
   "source": [
    "# Notice weird trend in data\n",
    "total_residential = cleaned[(cleaned['BldgType'] == 'Residential House')]\n",
    "\n",
    "house_less_than = [cleaned[(cleaned['BldgType'] == 'Residential House') \n",
    "                           & (cleaned['Sale Price'] < 1e6)],\n",
    "                   cleaned[(cleaned['BldgType'] == 'Residential House') \n",
    "                           & (cleaned['Sale Price'] < 5e6)],\n",
    "                   cleaned[(cleaned['BldgType'] == 'Residential House') \n",
    "                           & (cleaned['Sale Price'] < 10e6)],\n",
    "                   cleaned[(cleaned['BldgType'] == 'Residential House') \n",
    "                           & (cleaned['Sale Price'] < 15e6)],\n",
    "                   cleaned[(cleaned['BldgType'] == 'Residential House') \n",
    "                           & (cleaned['Sale Price'] < 18e6)],\n",
    "                   cleaned[(cleaned['BldgType'] == 'Residential House') \n",
    "                           & (cleaned['Sale Price'] < 19e6)]]"
   ]
  },
  {
   "cell_type": "code",
   "execution_count": 22,
   "metadata": {},
   "outputs": [
    {
     "name": "stdout",
     "output_type": "stream",
     "text": [
      "Houses less than 1 million: 8455\n",
      "Houses less than 5 million: 8779\n",
      "Houses less than 10 million: 8854\n",
      "Houses less than 15 million: 8855\n",
      "Houses less than 18 million: 8856\n",
      "Houses less than 19 million: 8934\n"
     ]
    }
   ],
   "source": [
    "list_res = [1,5,10,15,18,19]\n",
    "\n",
    "for price,data in zip(list_res,house_less_than):\n",
    "    print('Houses less than {} million: {}'.format(price,len(data)))"
   ]
  },
  {
   "cell_type": "markdown",
   "metadata": {},
   "source": [
    "Notice we get a reasonable change from 1-5 million. We get a total of 77 houses sold from 5-18 million and a total of 3 sold from 10-18 million. Very oddly, we now notice an increase of 78 houses between 18-19 million! This was odd to see and I do not know what caused this in the data. If I had to make a guess I would say it has something to do with housing developers buying large quantities of houses at once, but I cannot be exactly sure and it is fairly unimportant to this particular analysis since we will be dealing with houses under a million dollars."
   ]
  },
  {
   "cell_type": "markdown",
   "metadata": {},
   "source": [
    "Though it will not affect our analysis, it is a very interesting trend to see in something like the Washoe County Sales Report since this represents some type of real event!"
   ]
  },
  {
   "cell_type": "markdown",
   "metadata": {},
   "source": [
    "## **Choosing a subset of our data**"
   ]
  },
  {
   "cell_type": "markdown",
   "metadata": {},
   "source": [
    "Now that we have cleaned our data up so that it can be useful, we may now take the subset we are interested in."
   ]
  },
  {
   "cell_type": "code",
   "execution_count": 23,
   "metadata": {},
   "outputs": [
    {
     "name": "stdout",
     "output_type": "stream",
     "text": [
      "Percentage of residential houses over 1 million dollars: 6.97%\n"
     ]
    }
   ],
   "source": [
    "house_more_mil = cleaned[(cleaned['BldgType'] == 'Residential House') \n",
    "                         & (cleaned['Sale Price'] >= 1e6)].copy()\n",
    "\n",
    "percent = len(house_more_mil)/len(total_residential)\n",
    "\n",
    "print('Percentage of residential houses over 1 million dollars: {:.2f}%'.format(percent*100))"
   ]
  },
  {
   "cell_type": "markdown",
   "metadata": {},
   "source": [
    "We can see that we have are essentially going to leave out about 7% of our cleaned data."
   ]
  },
  {
   "cell_type": "markdown",
   "metadata": {},
   "source": [
    "Here we grab the residential houses below or equal to a million dollars."
   ]
  },
  {
   "cell_type": "code",
   "execution_count": 24,
   "metadata": {},
   "outputs": [],
   "source": [
    "residential_house = cleaned[(cleaned['BldgType'] == 'Residential House') \n",
    "                            & (cleaned['Sale Price'] < 1e6)].copy()"
   ]
  },
  {
   "cell_type": "code",
   "execution_count": 25,
   "metadata": {},
   "outputs": [
    {
     "name": "stdout",
     "output_type": "stream",
     "text": [
      "<class 'pandas.core.frame.DataFrame'>\n",
      "Int64Index: 8455 entries, 3 to 13498\n",
      "Data columns (total 38 columns):\n",
      "APN               8455 non-null object\n",
      "Sale Price        8455 non-null int64\n",
      "Sale Verf         8455 non-null object\n",
      "RecDoc            8455 non-null object\n",
      "Subdivision       8453 non-null object\n",
      "Year Blt          8455 non-null int64\n",
      "Avg Yr Blt        8455 non-null int64\n",
      "BldgType          8455 non-null object\n",
      "Stories           8455 non-null object\n",
      "Bldg SF           8455 non-null int64\n",
      "Grade             8455 non-null object\n",
      "Beds              8455 non-null int64\n",
      "Full Baths        8455 non-null int64\n",
      "Half Baths        8455 non-null int64\n",
      "Heat Type         8455 non-null object\n",
      "Exterior Walls    8455 non-null object\n",
      "Roof Type         8455 non-null object\n",
      "Gar Type          7683 non-null object\n",
      "Gar Area          8455 non-null int64\n",
      "Bsmt Area         8455 non-null int64\n",
      "LUC at Sale       8455 non-null object\n",
      "Zoning            8455 non-null object\n",
      "Acres             8455 non-null float64\n",
      "Owner1            8455 non-null object\n",
      "Addl Owner        8455 non-null object\n",
      "Mailing1          8455 non-null object\n",
      "City              8455 non-null object\n",
      "State             8455 non-null object\n",
      "Zip               8454 non-null object\n",
      "PriorOwner        8455 non-null object\n",
      "PriorPID          8455 non-null object\n",
      "LegalDesc         8455 non-null object\n",
      "TaxDist           8455 non-null int64\n",
      "Total Units       8455 non-null int64\n",
      "Neighborhood      8455 non-null object\n",
      "Sale Month        8455 non-null int64\n",
      "Sale Day          8455 non-null int64\n",
      "Street            8455 non-null object\n",
      "dtypes: float64(1), int64(13), object(24)\n",
      "memory usage: 2.5+ MB\n"
     ]
    }
   ],
   "source": [
    "residential_house.info()"
   ]
  },
  {
   "cell_type": "code",
   "execution_count": 26,
   "metadata": {},
   "outputs": [
    {
     "data": {
      "text/html": [
       "<div>\n",
       "<style scoped>\n",
       "    .dataframe tbody tr th:only-of-type {\n",
       "        vertical-align: middle;\n",
       "    }\n",
       "\n",
       "    .dataframe tbody tr th {\n",
       "        vertical-align: top;\n",
       "    }\n",
       "\n",
       "    .dataframe thead th {\n",
       "        text-align: right;\n",
       "    }\n",
       "</style>\n",
       "<table border=\"1\" class=\"dataframe\">\n",
       "  <thead>\n",
       "    <tr style=\"text-align: right;\">\n",
       "      <th></th>\n",
       "      <th>Sale Price</th>\n",
       "      <th>Year Blt</th>\n",
       "      <th>Avg Yr Blt</th>\n",
       "      <th>Bldg SF</th>\n",
       "      <th>Beds</th>\n",
       "      <th>Full Baths</th>\n",
       "      <th>Half Baths</th>\n",
       "      <th>Gar Area</th>\n",
       "      <th>Bsmt Area</th>\n",
       "      <th>Acres</th>\n",
       "      <th>TaxDist</th>\n",
       "      <th>Total Units</th>\n",
       "      <th>Sale Month</th>\n",
       "      <th>Sale Day</th>\n",
       "    </tr>\n",
       "  </thead>\n",
       "  <tbody>\n",
       "    <tr>\n",
       "      <th>count</th>\n",
       "      <td>8455.000000</td>\n",
       "      <td>8455.000000</td>\n",
       "      <td>8455.000000</td>\n",
       "      <td>8455.000000</td>\n",
       "      <td>8455.000000</td>\n",
       "      <td>8455.000000</td>\n",
       "      <td>8455.000000</td>\n",
       "      <td>8455.000000</td>\n",
       "      <td>8455.000000</td>\n",
       "      <td>8455.000000</td>\n",
       "      <td>8455.000000</td>\n",
       "      <td>8455.000000</td>\n",
       "      <td>8455.000000</td>\n",
       "      <td>8455.000000</td>\n",
       "    </tr>\n",
       "    <tr>\n",
       "      <th>mean</th>\n",
       "      <td>378426.384151</td>\n",
       "      <td>1992.991603</td>\n",
       "      <td>1993.550680</td>\n",
       "      <td>1955.400118</td>\n",
       "      <td>3.319219</td>\n",
       "      <td>2.186399</td>\n",
       "      <td>0.315789</td>\n",
       "      <td>507.231224</td>\n",
       "      <td>78.938261</td>\n",
       "      <td>0.604477</td>\n",
       "      <td>1996.414193</td>\n",
       "      <td>1.012774</td>\n",
       "      <td>6.780958</td>\n",
       "      <td>17.951745</td>\n",
       "    </tr>\n",
       "    <tr>\n",
       "      <th>std</th>\n",
       "      <td>151453.905090</td>\n",
       "      <td>21.442046</td>\n",
       "      <td>20.641109</td>\n",
       "      <td>697.617535</td>\n",
       "      <td>0.768543</td>\n",
       "      <td>0.607523</td>\n",
       "      <td>0.471928</td>\n",
       "      <td>237.095159</td>\n",
       "      <td>318.698342</td>\n",
       "      <td>3.934952</td>\n",
       "      <td>1303.102779</td>\n",
       "      <td>0.172863</td>\n",
       "      <td>3.177174</td>\n",
       "      <td>8.863755</td>\n",
       "    </tr>\n",
       "    <tr>\n",
       "      <th>min</th>\n",
       "      <td>27019.000000</td>\n",
       "      <td>1900.000000</td>\n",
       "      <td>1900.000000</td>\n",
       "      <td>336.000000</td>\n",
       "      <td>0.000000</td>\n",
       "      <td>0.000000</td>\n",
       "      <td>0.000000</td>\n",
       "      <td>0.000000</td>\n",
       "      <td>0.000000</td>\n",
       "      <td>0.000987</td>\n",
       "      <td>1000.000000</td>\n",
       "      <td>1.000000</td>\n",
       "      <td>1.000000</td>\n",
       "      <td>1.000000</td>\n",
       "    </tr>\n",
       "    <tr>\n",
       "      <th>25%</th>\n",
       "      <td>275175.000000</td>\n",
       "      <td>1980.000000</td>\n",
       "      <td>1981.000000</td>\n",
       "      <td>1430.500000</td>\n",
       "      <td>3.000000</td>\n",
       "      <td>2.000000</td>\n",
       "      <td>0.000000</td>\n",
       "      <td>420.000000</td>\n",
       "      <td>0.000000</td>\n",
       "      <td>0.142998</td>\n",
       "      <td>1000.000000</td>\n",
       "      <td>1.000000</td>\n",
       "      <td>4.000000</td>\n",
       "      <td>11.000000</td>\n",
       "    </tr>\n",
       "    <tr>\n",
       "      <th>50%</th>\n",
       "      <td>345000.000000</td>\n",
       "      <td>1999.000000</td>\n",
       "      <td>1999.000000</td>\n",
       "      <td>1848.000000</td>\n",
       "      <td>3.000000</td>\n",
       "      <td>2.000000</td>\n",
       "      <td>0.000000</td>\n",
       "      <td>483.000000</td>\n",
       "      <td>0.000000</td>\n",
       "      <td>0.179683</td>\n",
       "      <td>1011.000000</td>\n",
       "      <td>1.000000</td>\n",
       "      <td>7.000000</td>\n",
       "      <td>18.000000</td>\n",
       "    </tr>\n",
       "    <tr>\n",
       "      <th>75%</th>\n",
       "      <td>435000.000000</td>\n",
       "      <td>2007.000000</td>\n",
       "      <td>2007.000000</td>\n",
       "      <td>2371.000000</td>\n",
       "      <td>4.000000</td>\n",
       "      <td>2.000000</td>\n",
       "      <td>1.000000</td>\n",
       "      <td>640.000000</td>\n",
       "      <td>0.000000</td>\n",
       "      <td>0.298186</td>\n",
       "      <td>2000.000000</td>\n",
       "      <td>1.000000</td>\n",
       "      <td>9.000000</td>\n",
       "      <td>26.000000</td>\n",
       "    </tr>\n",
       "    <tr>\n",
       "      <th>max</th>\n",
       "      <td>999800.000000</td>\n",
       "      <td>2018.000000</td>\n",
       "      <td>2018.000000</td>\n",
       "      <td>6524.000000</td>\n",
       "      <td>7.000000</td>\n",
       "      <td>6.000000</td>\n",
       "      <td>3.000000</td>\n",
       "      <td>2576.000000</td>\n",
       "      <td>3412.000000</td>\n",
       "      <td>122.767998</td>\n",
       "      <td>9601.000000</td>\n",
       "      <td>10.000000</td>\n",
       "      <td>12.000000</td>\n",
       "      <td>31.000000</td>\n",
       "    </tr>\n",
       "  </tbody>\n",
       "</table>\n",
       "</div>"
      ],
      "text/plain": [
       "          Sale Price     Year Blt   Avg Yr Blt      Bldg SF         Beds  \\\n",
       "count    8455.000000  8455.000000  8455.000000  8455.000000  8455.000000   \n",
       "mean   378426.384151  1992.991603  1993.550680  1955.400118     3.319219   \n",
       "std    151453.905090    21.442046    20.641109   697.617535     0.768543   \n",
       "min     27019.000000  1900.000000  1900.000000   336.000000     0.000000   \n",
       "25%    275175.000000  1980.000000  1981.000000  1430.500000     3.000000   \n",
       "50%    345000.000000  1999.000000  1999.000000  1848.000000     3.000000   \n",
       "75%    435000.000000  2007.000000  2007.000000  2371.000000     4.000000   \n",
       "max    999800.000000  2018.000000  2018.000000  6524.000000     7.000000   \n",
       "\n",
       "        Full Baths   Half Baths     Gar Area    Bsmt Area        Acres  \\\n",
       "count  8455.000000  8455.000000  8455.000000  8455.000000  8455.000000   \n",
       "mean      2.186399     0.315789   507.231224    78.938261     0.604477   \n",
       "std       0.607523     0.471928   237.095159   318.698342     3.934952   \n",
       "min       0.000000     0.000000     0.000000     0.000000     0.000987   \n",
       "25%       2.000000     0.000000   420.000000     0.000000     0.142998   \n",
       "50%       2.000000     0.000000   483.000000     0.000000     0.179683   \n",
       "75%       2.000000     1.000000   640.000000     0.000000     0.298186   \n",
       "max       6.000000     3.000000  2576.000000  3412.000000   122.767998   \n",
       "\n",
       "           TaxDist  Total Units   Sale Month     Sale Day  \n",
       "count  8455.000000  8455.000000  8455.000000  8455.000000  \n",
       "mean   1996.414193     1.012774     6.780958    17.951745  \n",
       "std    1303.102779     0.172863     3.177174     8.863755  \n",
       "min    1000.000000     1.000000     1.000000     1.000000  \n",
       "25%    1000.000000     1.000000     4.000000    11.000000  \n",
       "50%    1011.000000     1.000000     7.000000    18.000000  \n",
       "75%    2000.000000     1.000000     9.000000    26.000000  \n",
       "max    9601.000000    10.000000    12.000000    31.000000  "
      ]
     },
     "execution_count": 26,
     "metadata": {},
     "output_type": "execute_result"
    }
   ],
   "source": [
    "residential_house.describe()"
   ]
  },
  {
   "cell_type": "markdown",
   "metadata": {},
   "source": [
    "## **EDA**"
   ]
  },
  {
   "cell_type": "markdown",
   "metadata": {},
   "source": [
    "Now we may start to analyze the data on residential homes in Washoe County. Let's see what the minimum and maximum price of a residential house sold in Washoe County was in 2017."
   ]
  },
  {
   "cell_type": "code",
   "execution_count": 27,
   "metadata": {},
   "outputs": [
    {
     "name": "stdout",
     "output_type": "stream",
     "text": [
      "Min: 27019 , Max: 999800 \n"
     ]
    }
   ],
   "source": [
    "house_price_min,house_price_max = (residential_house['Sale Price'].min(),\n",
    "                                   residential_house['Sale Price'].max())\n",
    "\n",
    "print('Min: {} , Max: {} '.format(house_price_min,house_price_max))"
   ]
  },
  {
   "cell_type": "markdown",
   "metadata": {},
   "source": [
    "Wow, $27,019! Very interesting, let's look at that entry."
   ]
  },
  {
   "cell_type": "code",
   "execution_count": 28,
   "metadata": {},
   "outputs": [
    {
     "data": {
      "text/html": [
       "<div>\n",
       "<style scoped>\n",
       "    .dataframe tbody tr th:only-of-type {\n",
       "        vertical-align: middle;\n",
       "    }\n",
       "\n",
       "    .dataframe tbody tr th {\n",
       "        vertical-align: top;\n",
       "    }\n",
       "\n",
       "    .dataframe thead th {\n",
       "        text-align: right;\n",
       "    }\n",
       "</style>\n",
       "<table border=\"1\" class=\"dataframe\">\n",
       "  <thead>\n",
       "    <tr style=\"text-align: right;\">\n",
       "      <th></th>\n",
       "      <th>APN</th>\n",
       "      <th>Sale Price</th>\n",
       "      <th>Sale Verf</th>\n",
       "      <th>RecDoc</th>\n",
       "      <th>Subdivision</th>\n",
       "      <th>Year Blt</th>\n",
       "      <th>Avg Yr Blt</th>\n",
       "      <th>BldgType</th>\n",
       "      <th>Stories</th>\n",
       "      <th>Bldg SF</th>\n",
       "      <th>...</th>\n",
       "      <th>Zip</th>\n",
       "      <th>PriorOwner</th>\n",
       "      <th>PriorPID</th>\n",
       "      <th>LegalDesc</th>\n",
       "      <th>TaxDist</th>\n",
       "      <th>Total Units</th>\n",
       "      <th>Neighborhood</th>\n",
       "      <th>Sale Month</th>\n",
       "      <th>Sale Day</th>\n",
       "      <th>Street</th>\n",
       "    </tr>\n",
       "  </thead>\n",
       "  <tbody>\n",
       "    <tr>\n",
       "      <th>1085</th>\n",
       "      <td>008-183-10</td>\n",
       "      <td>27019</td>\n",
       "      <td>2D</td>\n",
       "      <td>4702211</td>\n",
       "      <td>MORRILL`S ADDITION</td>\n",
       "      <td>1910</td>\n",
       "      <td>1910</td>\n",
       "      <td>Residential House</td>\n",
       "      <td>SINGLE STORY</td>\n",
       "      <td>700</td>\n",
       "      <td>...</td>\n",
       "      <td>89509</td>\n",
       "      <td>FORTUNE, DANIEL J</td>\n",
       "      <td>-   -</td>\n",
       "      <td>MORRILLS ADD W2 LOT 15 BLK 7</td>\n",
       "      <td>1002</td>\n",
       "      <td>1</td>\n",
       "      <td>AHFC</td>\n",
       "      <td>5</td>\n",
       "      <td>8</td>\n",
       "      <td>1/2 EUREKA AVE</td>\n",
       "    </tr>\n",
       "  </tbody>\n",
       "</table>\n",
       "<p>1 rows × 38 columns</p>\n",
       "</div>"
      ],
      "text/plain": [
       "             APN  Sale Price Sale Verf   RecDoc         Subdivision  Year Blt  \\\n",
       "1085  008-183-10       27019        2D  4702211  MORRILL`S ADDITION      1910   \n",
       "\n",
       "      Avg Yr Blt           BldgType       Stories  Bldg SF  ...    Zip  \\\n",
       "1085        1910  Residential House  SINGLE STORY      700  ...  89509   \n",
       "\n",
       "             PriorOwner  PriorPID                     LegalDesc TaxDist  \\\n",
       "1085  FORTUNE, DANIEL J     -   -  MORRILLS ADD W2 LOT 15 BLK 7    1002   \n",
       "\n",
       "     Total Units Neighborhood Sale Month  Sale Day          Street  \n",
       "1085           1         AHFC          5         8  1/2 EUREKA AVE  \n",
       "\n",
       "[1 rows x 38 columns]"
      ]
     },
     "execution_count": 28,
     "metadata": {},
     "output_type": "execute_result"
    }
   ],
   "source": [
    "residential_house[residential_house['Sale Price'] \n",
    "                  == residential_house['Sale Price'].min()]"
   ]
  },
  {
   "cell_type": "markdown",
   "metadata": {},
   "source": [
    "Seems like a reasonable entry, but is no doubt an odd/interesting one."
   ]
  },
  {
   "cell_type": "markdown",
   "metadata": {},
   "source": [
    "## **Visualizations**"
   ]
  },
  {
   "cell_type": "markdown",
   "metadata": {},
   "source": [
    "We now want to answer some questions about our data by using some visualizations."
   ]
  },
  {
   "cell_type": "markdown",
   "metadata": {},
   "source": [
    "We are interested in answering questions such as,\n",
    "* How much does a house cost in Washoe County?\n",
    "* What months are most popular for houses to be sold in?\n",
    "* Where are homebuyers moving in from?\n",
    "* How much square footage in a house can a person expect in Washoe County?"
   ]
  },
  {
   "cell_type": "code",
   "execution_count": 29,
   "metadata": {},
   "outputs": [],
   "source": [
    "bins = [0,1e5,2e5,3e5,4e5,5e5,6e5,7e5,8e5,9e5,10e5]\n",
    "\n",
    "norm_sales = pd.cut(residential_house['Sale Price'],\n",
    "                    bins).value_counts(sort=False,\n",
    "                                       normalize=True)"
   ]
  },
  {
   "cell_type": "code",
   "execution_count": 30,
   "metadata": {},
   "outputs": [
    {
     "data": {
      "text/plain": [
       "Text(0.5, 0, 'Price Intervals')"
      ]
     },
     "execution_count": 30,
     "metadata": {},
     "output_type": "execute_result"
    },
    {
     "data": {
      "image/png": "[encoded data removed]",
      "text/plain": [
       "<Figure size 864x576 with 1 Axes>"
      ]
     },
     "metadata": {
      "needs_background": "light"
     },
     "output_type": "display_data"
    }
   ],
   "source": [
    "norm_sales.plot.bar(rot = 90,color=\"r\", figsize=(12,8))\n",
    "plt.title('Normalized Bar Chart of House prices in Reno, Nevada')\n",
    "plt.ylabel('Percentage of distribution')\n",
    "plt.xlabel('Price Intervals')\n"
   ]
  },
  {
   "cell_type": "markdown",
   "metadata": {},
   "source": [
    "We can see that more than 70% of houses are sold between $200-500k in Washoe County!"
   ]
  },
  {
   "cell_type": "markdown",
   "metadata": {},
   "source": [
    "Let's now look at the most popular month houses are sold in!"
   ]
  },
  {
   "cell_type": "code",
   "execution_count": 31,
   "metadata": {},
   "outputs": [],
   "source": [
    "sales_by_month = residential_house['Sale Month'].value_counts(sort=True)"
   ]
  },
  {
   "cell_type": "code",
   "execution_count": 32,
   "metadata": {},
   "outputs": [],
   "source": [
    "sales_by_month = sales_by_month.sort_index()\n",
    "\n",
    "sales_by_month = sales_by_month.rename({\n",
    "    1:'January',\n",
    "    2:'February',\n",
    "    3:'March',\n",
    "    4:'April',\n",
    "    5:'May',\n",
    "    6:'June',\n",
    "    7:'July',\n",
    "    8:'August',\n",
    "    9:'September',\n",
    "    10:'October',\n",
    "    11:'November',\n",
    "    12:'December',})"
   ]
  },
  {
   "cell_type": "code",
   "execution_count": 33,
   "metadata": {},
   "outputs": [
    {
     "data": {
      "text/plain": [
       "Text(0.5, 0, 'Months')"
      ]
     },
     "execution_count": 33,
     "metadata": {},
     "output_type": "execute_result"
    },
    {
     "data": {
      "image/png": "[encoded data removed]",
      "text/plain": [
       "<Figure size 864x576 with 1 Axes>"
      ]
     },
     "metadata": {
      "needs_background": "light"
     },
     "output_type": "display_data"
    }
   ],
   "source": [
    "sales_by_month.plot.bar(color='r',figsize=(12,8))\n",
    "plt.title('Sales of Residential Houses by Month')\n",
    "plt.ylabel('Number of Houses Sold')\n",
    "plt.xlabel('Months')"
   ]
  },
  {
   "cell_type": "markdown",
   "metadata": {},
   "source": [
    "Here we can see that the distribution looks relatively normal, but with a slight right skew. From this we can confidently say that houses are sold less in the first 4 months of the year than the last 8 months, with the summer months between June-August being the most popular and a steady decline of houses sold from August-December."
   ]
  },
  {
   "cell_type": "markdown",
   "metadata": {},
   "source": [
    "We also can make a heatmap of the months to get help us get a better understanding of the months in comparison with each other."
   ]
  },
  {
   "cell_type": "code",
   "execution_count": 34,
   "metadata": {},
   "outputs": [
    {
     "data": {
      "text/plain": [
       "Text(88.0, 0.5, 'Months')"
      ]
     },
     "execution_count": 34,
     "metadata": {},
     "output_type": "execute_result"
    },
    {
     "data": {
      "image/png": "[encoded data removed]",
      "text/plain": [
       "<Figure size 864x576 with 2 Axes>"
      ]
     },
     "metadata": {
      "needs_background": "light"
     },
     "output_type": "display_data"
    }
   ],
   "source": [
    "plt.figure(figsize=(12,8))\n",
    "\n",
    "sns.heatmap(sales_by_month.to_frame('Houses Sold').transpose(),\n",
    "            annot=True,cmap='magma',fmt='.2f')\n",
    "\n",
    "plt.title('Heatmap of Months vs. Houses Sold')\n",
    "plt.ylabel('Months')"
   ]
  },
  {
   "cell_type": "markdown",
   "metadata": {},
   "source": [
    "We may also want to know what type of home buyers we are dealing with, so let's see where our home buyers are from!"
   ]
  },
  {
   "cell_type": "code",
   "execution_count": 35,
   "metadata": {},
   "outputs": [
    {
     "data": {
      "text/plain": [
       "Text(0, 0.5, 'States')"
      ]
     },
     "execution_count": 35,
     "metadata": {},
     "output_type": "execute_result"
    },
    {
     "data": {
      "image/png": "[encoded data removed]",
      "text/plain": [
       "<Figure size 864x576 with 1 Axes>"
      ]
     },
     "metadata": {
      "needs_background": "light"
     },
     "output_type": "display_data"
    }
   ],
   "source": [
    "fig,axes = plt.subplots(figsize=(12,8))\n",
    "\n",
    "sns.barplot(x=residential_house['State'].value_counts(normalize=True).head(5).values,\n",
    "            y=residential_house['State'].value_counts(normalize=True).index[:5])\n",
    "\n",
    "plt.title('Normalized Bar Chart of States Home Buyers are from')\n",
    "plt.xlabel('Percentage of Home Buyers')\n",
    "plt.ylabel('States')"
   ]
  },
  {
   "cell_type": "markdown",
   "metadata": {},
   "source": [
    "Surprisingly, it looks like more than 90% are from Nevada while less than 10% are from CA."
   ]
  },
  {
   "cell_type": "markdown",
   "metadata": {},
   "source": [
    "Lastly, let's look at what the general square footage of a house in Washoe County looks like just to help us visualize some more of our data."
   ]
  },
  {
   "cell_type": "code",
   "execution_count": 36,
   "metadata": {},
   "outputs": [
    {
     "data": {
      "text/plain": [
       "Text(0.5, 0, 'House Square Footage')"
      ]
     },
     "execution_count": 36,
     "metadata": {},
     "output_type": "execute_result"
    },
    {
     "data": {
      "image/png": "[encoded data removed]",
      "text/plain": [
       "<Figure size 864x576 with 1 Axes>"
      ]
     },
     "metadata": {
      "needs_background": "light"
     },
     "output_type": "display_data"
    }
   ],
   "source": [
    "plt.figure(figsize=(12,8))\n",
    "sns.distplot(residential_house['Bldg SF'],color='r')\n",
    "plt.title('Distribution Plot of Square Feet in Sold Houses')\n",
    "plt.xlabel('House Square Footage')"
   ]
  },
  {
   "cell_type": "markdown",
   "metadata": {},
   "source": [
    "This is informative, but since the 'Year Blt' column is also available maybe we can extract some more useful information."
   ]
  },
  {
   "cell_type": "markdown",
   "metadata": {},
   "source": [
    "We should start by binning our values and then we can use the groupby method to see some of the different values based on binned years."
   ]
  },
  {
   "cell_type": "markdown",
   "metadata": {},
   "source": [
    "By binning the year built column we can now continue to answer more questions such as,\n",
    "* Does buying a more recently built home have an affect on the size of the house?\n",
    "* Do more recently built homes tend to cost more than older homes and by how much?"
   ]
  },
  {
   "cell_type": "code",
   "execution_count": 37,
   "metadata": {},
   "outputs": [
    {
     "data": {
      "text/plain": [
       "(1900, 1920]      39\n",
       "(1920, 1940]     172\n",
       "(1940, 1960]     608\n",
       "(1960, 1970]     538\n",
       "(1970, 1980]     804\n",
       "(1980, 1990]     745\n",
       "(1990, 2000]    1588\n",
       "(2000, 2010]    2114\n",
       "(2010, 2017]    1779\n",
       "Name: Year bins, dtype: int64"
      ]
     },
     "execution_count": 37,
     "metadata": {},
     "output_type": "execute_result"
    }
   ],
   "source": [
    "bins = [1900,1920,1940,1960,1970,1980,1990,2000,2010,2017]\n",
    "residential_house['Year bins'] = pd.cut(residential_house['Year Blt'],bins)\n",
    "residential_house['Year bins'].value_counts(sort=False)"
   ]
  },
  {
   "cell_type": "code",
   "execution_count": 38,
   "metadata": {},
   "outputs": [
    {
     "data": {
      "text/plain": [
       "Text(0.5, 1.0, 'Average Square Footage in Houses Sold in 2017 given by Binned Years')"
      ]
     },
     "execution_count": 38,
     "metadata": {},
     "output_type": "execute_result"
    },
    {
     "data": {
      "image/png": "[encoded data removed]",
      "text/plain": [
       "<Figure size 864x576 with 1 Axes>"
      ]
     },
     "metadata": {
      "needs_background": "light"
     },
     "output_type": "display_data"
    }
   ],
   "source": [
    "average_sq_ft = residential_house[['Bldg SF','Year bins']].groupby('Year bins').mean()\n",
    "\n",
    "fig,axes = plt.subplots(1,1,figsize=(12,8))\n",
    "\n",
    "sns.barplot(x=average_sq_ft.index.astype('str'),\n",
    "            y=average_sq_ft.values.reshape(len(average_sq_ft)),\n",
    "            ax=axes)\n",
    "\n",
    "plt.xlabel('Bins of Years')\n",
    "plt.ylabel('Average Square Footage')\n",
    "plt.title('Average Square Footage in Houses Sold in 2017 given by Binned Years')"
   ]
  },
  {
   "cell_type": "markdown",
   "metadata": {},
   "source": [
    "As we can see here, this graph shows an increase in square footage as the years progress and also gives a good representation of the amount of space you could expect in a house built during a certain time."
   ]
  },
  {
   "cell_type": "markdown",
   "metadata": {},
   "source": [
    "Let's do the same for the Sales Price."
   ]
  },
  {
   "cell_type": "code",
   "execution_count": 39,
   "metadata": {},
   "outputs": [
    {
     "data": {
      "text/plain": [
       "Text(0.5, 1.0, 'Average Sales Price of Houses Sold in 2017 given by Binned Years')"
      ]
     },
     "execution_count": 39,
     "metadata": {},
     "output_type": "execute_result"
    },
    {
     "data": {
      "image/png": "[encoded data removed]",
      "text/plain": [
       "<Figure size 864x576 with 1 Axes>"
      ]
     },
     "metadata": {
      "needs_background": "light"
     },
     "output_type": "display_data"
    }
   ],
   "source": [
    "average_sq_ft = residential_house[['Sale Price','Year bins']].groupby('Year bins').mean()\n",
    "\n",
    "fig,axes = plt.subplots(1,1,figsize=(12,8))\n",
    "\n",
    "sns.barplot(x=average_sq_ft.index.astype('str'),\n",
    "            y=average_sq_ft.values.reshape(len(average_sq_ft)),\n",
    "            ax=axes)\n",
    "\n",
    "plt.xlabel('Bins of Years')\n",
    "plt.ylabel('Average Sales Price')\n",
    "plt.title('Average Sales Price of Houses Sold in 2017 given by Binned Years')"
   ]
  },
  {
   "cell_type": "markdown",
   "metadata": {},
   "source": [
    "Here we also see that you could generally expect to pay more for a house built more recently and less for an older home. Interestingly enough, we see a rise in home prices from 1920-1940, what this is accounted to is unknown to me. We could possibly account this to Washoe County being rather historical and the time between 1920-1940 being a special time in history, thus causing homes from that time period to cost more."
   ]
  },
  {
   "cell_type": "markdown",
   "metadata": {},
   "source": [
    "## **Preparing data for prediction**"
   ]
  },
  {
   "cell_type": "markdown",
   "metadata": {},
   "source": [
    "Now that we have visualized our data let's go ahead and try to make predictions for our data on the Sales Price."
   ]
  },
  {
   "cell_type": "markdown",
   "metadata": {},
   "source": [
    "We must first make sure our data is all in numeric form so that the models can be fit properly."
   ]
  },
  {
   "cell_type": "markdown",
   "metadata": {},
   "source": [
    "We will start by looking at two of our columns 'Stories' and 'Grade'. We want to group similar values together so that the model can predict better and not have data values with only a few entries."
   ]
  },
  {
   "cell_type": "code",
   "execution_count": 40,
   "metadata": {},
   "outputs": [
    {
     "data": {
      "text/plain": [
       "Average                                         2581\n",
       "Fair-Average                                    1740\n",
       "Average-Good                                    1699\n",
       "Fair                                            1286\n",
       "Good                                             455\n",
       "Very Good                                        205\n",
       "Good-Very Good                                   170\n",
       "Low-Fair                                         146\n",
       "Very Good-Excellent                               65\n",
       "Low                                               50\n",
       "Excellent                                         43\n",
       "7.0 HIGH VALUE CLASS I                            10\n",
       "8.5 HIGH VALUE CLASS II/HIGH VALUE CLASS III       3\n",
       "9.0 HIGH VALUE CLASS III                           2\n",
       "Name: Grade, dtype: int64"
      ]
     },
     "execution_count": 40,
     "metadata": {},
     "output_type": "execute_result"
    }
   ],
   "source": [
    "residential_house['Grade'].value_counts()"
   ]
  },
  {
   "cell_type": "code",
   "execution_count": 41,
   "metadata": {},
   "outputs": [],
   "source": [
    "residential_house['Grade'].replace({'7.0 HIGH VALUE CLASS I':'Average',\n",
    "                                    '8.5 HIGH VALUE CLASS II/HIGH VALUE CLASS III':'Good-Very Good',\n",
    "                                    '9.0 HIGH VALUE CLASS III':'Very Good'},inplace=True)"
   ]
  },
  {
   "cell_type": "code",
   "execution_count": 42,
   "metadata": {},
   "outputs": [
    {
     "data": {
      "text/plain": [
       "Average                2591\n",
       "Fair-Average           1740\n",
       "Average-Good           1699\n",
       "Fair                   1286\n",
       "Good                    455\n",
       "Very Good               207\n",
       "Good-Very Good          173\n",
       "Low-Fair                146\n",
       "Very Good-Excellent      65\n",
       "Low                      50\n",
       "Excellent                43\n",
       "Name: Grade, dtype: int64"
      ]
     },
     "execution_count": 42,
     "metadata": {},
     "output_type": "execute_result"
    }
   ],
   "source": [
    "residential_house['Grade'].value_counts()"
   ]
  },
  {
   "cell_type": "markdown",
   "metadata": {},
   "source": [
    "Here we have simply replaced the 3 values with better corresponding groups."
   ]
  },
  {
   "cell_type": "markdown",
   "metadata": {},
   "source": [
    "Now we will perform the same for the 'Stories' column."
   ]
  },
  {
   "cell_type": "code",
   "execution_count": 43,
   "metadata": {},
   "outputs": [
    {
     "data": {
      "text/plain": [
       "SINGLE STORY    5767\n",
       "TWO STORY       2238\n",
       "1.5 STRY FN      218\n",
       "SPLIT LEVEL      200\n",
       "THREE STORY       14\n",
       "BI_LEVEL           9\n",
       "2.5 STRY FN        6\n",
       "1.5 STRY UNF       3\n",
       "Name: Stories, dtype: int64"
      ]
     },
     "execution_count": 43,
     "metadata": {},
     "output_type": "execute_result"
    }
   ],
   "source": [
    "residential_house['Stories'].value_counts()"
   ]
  },
  {
   "cell_type": "code",
   "execution_count": 44,
   "metadata": {},
   "outputs": [],
   "source": [
    "residential_house['Stories'].replace({'1.5 STRY FN':'SINGLE HALF STORY',\n",
    "                                     '2.5 STRY FN':'TWO HALF STORY',\n",
    "                                     '1.5 STRY UNF':'SINGLE HALF STORY',\n",
    "                                     'BI_LEVEL':'SPLIT LEVEL'},inplace=True)"
   ]
  },
  {
   "cell_type": "code",
   "execution_count": 45,
   "metadata": {},
   "outputs": [
    {
     "data": {
      "text/plain": [
       "SINGLE STORY         5767\n",
       "TWO STORY            2238\n",
       "SINGLE HALF STORY     221\n",
       "SPLIT LEVEL           209\n",
       "THREE STORY            14\n",
       "TWO HALF STORY          6\n",
       "Name: Stories, dtype: int64"
      ]
     },
     "execution_count": 45,
     "metadata": {},
     "output_type": "execute_result"
    }
   ],
   "source": [
    "residential_house['Stories'].value_counts()"
   ]
  },
  {
   "cell_type": "markdown",
   "metadata": {},
   "source": [
    "And very similarly, we now have better grouped columns for our predictor values."
   ]
  },
  {
   "cell_type": "markdown",
   "metadata": {},
   "source": [
    "Now let's look at our data once more to see what columns we do not need for our predictions."
   ]
  },
  {
   "cell_type": "code",
   "execution_count": 46,
   "metadata": {},
   "outputs": [
    {
     "name": "stdout",
     "output_type": "stream",
     "text": [
      "<class 'pandas.core.frame.DataFrame'>\n",
      "Int64Index: 8455 entries, 3 to 13498\n",
      "Data columns (total 39 columns):\n",
      "APN               8455 non-null object\n",
      "Sale Price        8455 non-null int64\n",
      "Sale Verf         8455 non-null object\n",
      "RecDoc            8455 non-null object\n",
      "Subdivision       8453 non-null object\n",
      "Year Blt          8455 non-null int64\n",
      "Avg Yr Blt        8455 non-null int64\n",
      "BldgType          8455 non-null object\n",
      "Stories           8455 non-null object\n",
      "Bldg SF           8455 non-null int64\n",
      "Grade             8455 non-null object\n",
      "Beds              8455 non-null int64\n",
      "Full Baths        8455 non-null int64\n",
      "Half Baths        8455 non-null int64\n",
      "Heat Type         8455 non-null object\n",
      "Exterior Walls    8455 non-null object\n",
      "Roof Type         8455 non-null object\n",
      "Gar Type          7683 non-null object\n",
      "Gar Area          8455 non-null int64\n",
      "Bsmt Area         8455 non-null int64\n",
      "LUC at Sale       8455 non-null object\n",
      "Zoning            8455 non-null object\n",
      "Acres             8455 non-null float64\n",
      "Owner1            8455 non-null object\n",
      "Addl Owner        8455 non-null object\n",
      "Mailing1          8455 non-null object\n",
      "City              8455 non-null object\n",
      "State             8455 non-null object\n",
      "Zip               8454 non-null object\n",
      "PriorOwner        8455 non-null object\n",
      "PriorPID          8455 non-null object\n",
      "LegalDesc         8455 non-null object\n",
      "TaxDist           8455 non-null int64\n",
      "Total Units       8455 non-null int64\n",
      "Neighborhood      8455 non-null object\n",
      "Sale Month        8455 non-null int64\n",
      "Sale Day          8455 non-null int64\n",
      "Street            8455 non-null object\n",
      "Year bins         8387 non-null category\n",
      "dtypes: category(1), float64(1), int64(13), object(24)\n",
      "memory usage: 2.5+ MB\n"
     ]
    }
   ],
   "source": [
    "residential_house.info()"
   ]
  },
  {
   "cell_type": "markdown",
   "metadata": {},
   "source": [
    "We will drop a lot of these columns for predictions since they would not be very helpful to predict a Sales Price."
   ]
  },
  {
   "cell_type": "code",
   "execution_count": 47,
   "metadata": {},
   "outputs": [],
   "source": [
    "drop = [\n",
    "    'APN',\n",
    "    'Sale Verf',\n",
    "    'RecDoc',\n",
    "    'Subdivision',\n",
    "    'Avg Yr Blt',\n",
    "    'Total Units',\n",
    "    'TaxDist',\n",
    "    'LegalDesc',\n",
    "    'PriorPID',\n",
    "    'PriorOwner',\n",
    "    'Zip',\n",
    "    'State',\n",
    "    'City',\n",
    "    'Mailing1',\n",
    "    'Addl Owner',\n",
    "    'Owner1',\n",
    "    'Zoning',\n",
    "    'LUC at Sale',\n",
    "    'BldgType',\n",
    "    'Year bins'\n",
    "]\n",
    "\n",
    "residential_house.drop(drop,axis=1,inplace=True)"
   ]
  },
  {
   "cell_type": "markdown",
   "metadata": {},
   "source": [
    "Here we have dropped our columns and are ready to proceed to making our predictions!"
   ]
  },
  {
   "cell_type": "markdown",
   "metadata": {},
   "source": [
    "## **Making Predictions**"
   ]
  },
  {
   "cell_type": "markdown",
   "metadata": {},
   "source": [
    "Let's first import our library functions from sklearn."
   ]
  },
  {
   "cell_type": "code",
   "execution_count": 48,
   "metadata": {},
   "outputs": [],
   "source": [
    "from sklearn.model_selection import train_test_split\n",
    "from sklearn.linear_model import LinearRegression\n",
    "from sklearn.preprocessing import StandardScaler,LabelEncoder \n",
    "from sklearn.metrics import r2_score\n",
    "from sklearn.feature_selection import RFE"
   ]
  },
  {
   "cell_type": "markdown",
   "metadata": {},
   "source": [
    "Let's look at what our current predictors looks like."
   ]
  },
  {
   "cell_type": "code",
   "execution_count": 49,
   "metadata": {},
   "outputs": [
    {
     "name": "stdout",
     "output_type": "stream",
     "text": [
      "<class 'pandas.core.frame.DataFrame'>\n",
      "Int64Index: 8455 entries, 3 to 13498\n",
      "Data columns (total 19 columns):\n",
      "Sale Price        8455 non-null int64\n",
      "Year Blt          8455 non-null int64\n",
      "Stories           8455 non-null object\n",
      "Bldg SF           8455 non-null int64\n",
      "Grade             8455 non-null object\n",
      "Beds              8455 non-null int64\n",
      "Full Baths        8455 non-null int64\n",
      "Half Baths        8455 non-null int64\n",
      "Heat Type         8455 non-null object\n",
      "Exterior Walls    8455 non-null object\n",
      "Roof Type         8455 non-null object\n",
      "Gar Type          7683 non-null object\n",
      "Gar Area          8455 non-null int64\n",
      "Bsmt Area         8455 non-null int64\n",
      "Acres             8455 non-null float64\n",
      "Neighborhood      8455 non-null object\n",
      "Sale Month        8455 non-null int64\n",
      "Sale Day          8455 non-null int64\n",
      "Street            8455 non-null object\n",
      "dtypes: float64(1), int64(10), object(8)\n",
      "memory usage: 1.3+ MB\n"
     ]
    }
   ],
   "source": [
    "residential_house.info()"
   ]
  },
  {
   "cell_type": "markdown",
   "metadata": {},
   "source": [
    "We will define three of our methods here,\n",
    "* LabelEncoder() - to encode values numerically\n",
    "* StandardScaler() - to standardize the data for RFE\n",
    "* LinearRegression() - to predict our Sales Price"
   ]
  },
  {
   "cell_type": "code",
   "execution_count": 50,
   "metadata": {},
   "outputs": [],
   "source": [
    "le = LabelEncoder()\n",
    "sc = StandardScaler()\n",
    "lm = LinearRegression()"
   ]
  },
  {
   "cell_type": "markdown",
   "metadata": {},
   "source": [
    "Let's use our Label encoder to encode the 'Grade' and 'Stories' columns we cleaned up earlier."
   ]
  },
  {
   "cell_type": "code",
   "execution_count": 51,
   "metadata": {},
   "outputs": [],
   "source": [
    "residential_house['Grade'] = le.fit_transform(residential_house['Grade'])\n",
    "residential_house['Stories'] = le.fit_transform(residential_house['Stories'])"
   ]
  },
  {
   "cell_type": "markdown",
   "metadata": {},
   "source": [
    "Now that we have encoded the string columns we wanted, let's get rid of the rest of the categorical data."
   ]
  },
  {
   "cell_type": "code",
   "execution_count": 52,
   "metadata": {},
   "outputs": [],
   "source": [
    "categorical = [columns \n",
    "               for columns \n",
    "               in residential_house.dtypes.index \n",
    "               if residential_house.dtypes[columns] == 'object']\n",
    "\n",
    "residential_house.drop(categorical,axis=1,inplace=True)"
   ]
  },
  {
   "cell_type": "markdown",
   "metadata": {},
   "source": [
    "Now we must define our X and Y, Y will be assigned to the 'Sale Price' column and X will be the rest of the columns we prepared."
   ]
  },
  {
   "cell_type": "markdown",
   "metadata": {},
   "source": [
    "We will also save the name of the columns and then standardize our data for RFE."
   ]
  },
  {
   "cell_type": "markdown",
   "metadata": {},
   "source": [
    "RFE stands for Recursive Feature Elimination, using this we may assign weights to our features and learn which is the most important towards our prediction."
   ]
  },
  {
   "cell_type": "code",
   "execution_count": 53,
   "metadata": {},
   "outputs": [
    {
     "name": "stderr",
     "output_type": "stream",
     "text": [
      "C:\\Users\\Justin\\Anaconda3\\envs\\notebook2\\lib\\site-packages\\sklearn\\preprocessing\\data.py:625: DataConversionWarning: Data with input dtype int32, int64, float64 were all converted to float64 by StandardScaler.\n",
      "  return self.partial_fit(X, y)\n",
      "C:\\Users\\Justin\\Anaconda3\\envs\\notebook2\\lib\\site-packages\\sklearn\\base.py:462: DataConversionWarning: Data with input dtype int32, int64, float64 were all converted to float64 by StandardScaler.\n",
      "  return self.fit(X, **fit_params).transform(X)\n"
     ]
    }
   ],
   "source": [
    "y = residential_house['Sale Price']\n",
    "X = residential_house.drop(['Sale Price'],axis=1)\n",
    "\n",
    "old_columns = X.columns\n",
    "X = sc.fit_transform(X)\n",
    "X = pd.DataFrame(X,columns=old_columns)\n",
    "\n",
    "# We tell RFE to use LinearRegression as the model, rank 4 features the best, and only dispose of 1 \n",
    "# feature at a time each iteration\n",
    "selector = RFE(lm,4,1)\n",
    "selector = selector.fit(X,y)"
   ]
  },
  {
   "cell_type": "markdown",
   "metadata": {},
   "source": [
    "Here we may now look at the rankings in order of column position."
   ]
  },
  {
   "cell_type": "code",
   "execution_count": 54,
   "metadata": {},
   "outputs": [
    {
     "data": {
      "text/plain": [
       "array([8, 1, 1, 6, 1, 2, 3, 5, 1, 7, 4, 9])"
      ]
     },
     "execution_count": 54,
     "metadata": {},
     "output_type": "execute_result"
    }
   ],
   "source": [
    "selector.ranking_"
   ]
  },
  {
   "cell_type": "markdown",
   "metadata": {},
   "source": [
    "We only are interested in the 4 best columns, so we can drop all the rest using list comprehension and the drop function."
   ]
  },
  {
   "cell_type": "code",
   "execution_count": 55,
   "metadata": {},
   "outputs": [
    {
     "name": "stdout",
     "output_type": "stream",
     "text": [
      "[0, 3, 5, 6, 7, 9, 10, 11]\n"
     ]
    }
   ],
   "source": [
    "columns_not_one = [i \n",
    "                   for (i,x) \n",
    "                   in enumerate(selector.ranking_) \n",
    "                   if (x != 1)]\n",
    "\n",
    "print(columns_not_one)\n",
    "\n",
    "X.drop(X.columns[columns_not_one],axis=1,inplace=True)"
   ]
  },
  {
   "cell_type": "code",
   "execution_count": 56,
   "metadata": {},
   "outputs": [
    {
     "data": {
      "text/plain": [
       "Index(['Stories', 'Bldg SF', 'Beds', 'Bsmt Area'], dtype='object')"
      ]
     },
     "execution_count": 56,
     "metadata": {},
     "output_type": "execute_result"
    }
   ],
   "source": [
    "X.columns"
   ]
  },
  {
   "cell_type": "markdown",
   "metadata": {},
   "source": [
    "We may now see what columns are left as predictors for Sales Price.\n",
    "* Stories\n",
    "* Building Square Footage\n",
    "* Beds\n",
    "* Basement Area\n",
    "\n",
    "These are the predictors that returned the highest R squared score and thus we will use them as our predictors."
   ]
  },
  {
   "cell_type": "markdown",
   "metadata": {},
   "source": [
    "Let's just look at the data and make sure everything is okay."
   ]
  },
  {
   "cell_type": "code",
   "execution_count": 57,
   "metadata": {},
   "outputs": [
    {
     "data": {
      "text/plain": [
       "(8455, 4)"
      ]
     },
     "execution_count": 57,
     "metadata": {},
     "output_type": "execute_result"
    }
   ],
   "source": [
    "X.shape"
   ]
  },
  {
   "cell_type": "code",
   "execution_count": 58,
   "metadata": {},
   "outputs": [
    {
     "data": {
      "text/html": [
       "<div>\n",
       "<style scoped>\n",
       "    .dataframe tbody tr th:only-of-type {\n",
       "        vertical-align: middle;\n",
       "    }\n",
       "\n",
       "    .dataframe tbody tr th {\n",
       "        vertical-align: top;\n",
       "    }\n",
       "\n",
       "    .dataframe thead th {\n",
       "        text-align: right;\n",
       "    }\n",
       "</style>\n",
       "<table border=\"1\" class=\"dataframe\">\n",
       "  <thead>\n",
       "    <tr style=\"text-align: right;\">\n",
       "      <th></th>\n",
       "      <th>Stories</th>\n",
       "      <th>Bldg SF</th>\n",
       "      <th>Beds</th>\n",
       "      <th>Bsmt Area</th>\n",
       "    </tr>\n",
       "  </thead>\n",
       "  <tbody>\n",
       "    <tr>\n",
       "      <th>0</th>\n",
       "      <td>-0.596982</td>\n",
       "      <td>-0.890799</td>\n",
       "      <td>-0.415381</td>\n",
       "      <td>-0.247704</td>\n",
       "    </tr>\n",
       "    <tr>\n",
       "      <th>1</th>\n",
       "      <td>1.649839</td>\n",
       "      <td>-0.360391</td>\n",
       "      <td>-0.415381</td>\n",
       "      <td>-0.247704</td>\n",
       "    </tr>\n",
       "    <tr>\n",
       "      <th>2</th>\n",
       "      <td>1.649839</td>\n",
       "      <td>-0.555352</td>\n",
       "      <td>-0.415381</td>\n",
       "      <td>-0.247704</td>\n",
       "    </tr>\n",
       "    <tr>\n",
       "      <th>3</th>\n",
       "      <td>-0.596982</td>\n",
       "      <td>-0.588323</td>\n",
       "      <td>-0.415381</td>\n",
       "      <td>-0.247704</td>\n",
       "    </tr>\n",
       "    <tr>\n",
       "      <th>4</th>\n",
       "      <td>-0.596982</td>\n",
       "      <td>-0.588323</td>\n",
       "      <td>-0.415381</td>\n",
       "      <td>-0.247704</td>\n",
       "    </tr>\n",
       "  </tbody>\n",
       "</table>\n",
       "</div>"
      ],
      "text/plain": [
       "    Stories   Bldg SF      Beds  Bsmt Area\n",
       "0 -0.596982 -0.890799 -0.415381  -0.247704\n",
       "1  1.649839 -0.360391 -0.415381  -0.247704\n",
       "2  1.649839 -0.555352 -0.415381  -0.247704\n",
       "3 -0.596982 -0.588323 -0.415381  -0.247704\n",
       "4 -0.596982 -0.588323 -0.415381  -0.247704"
      ]
     },
     "execution_count": 58,
     "metadata": {},
     "output_type": "execute_result"
    }
   ],
   "source": [
    "X.head()"
   ]
  },
  {
   "cell_type": "markdown",
   "metadata": {},
   "source": [
    "Now we must split our data into two sets: a train set and a test set."
   ]
  },
  {
   "cell_type": "code",
   "execution_count": 59,
   "metadata": {},
   "outputs": [],
   "source": [
    "X_train, X_test, y_train, y_test = train_test_split(X, y, test_size=0.33, random_state=99)"
   ]
  },
  {
   "cell_type": "markdown",
   "metadata": {},
   "source": [
    "We can now fit our model using the training set and training y values."
   ]
  },
  {
   "cell_type": "code",
   "execution_count": 60,
   "metadata": {},
   "outputs": [
    {
     "data": {
      "text/plain": [
       "LinearRegression(copy_X=True, fit_intercept=True, n_jobs=None,\n",
       "         normalize=False)"
      ]
     },
     "execution_count": 60,
     "metadata": {},
     "output_type": "execute_result"
    }
   ],
   "source": [
    "lm.fit(X_train,y_train)"
   ]
  },
  {
   "cell_type": "markdown",
   "metadata": {},
   "source": [
    "Now that our model is trained we can use the test set as 'new data' and test the accuracy of our predictions."
   ]
  },
  {
   "cell_type": "code",
   "execution_count": 61,
   "metadata": {},
   "outputs": [],
   "source": [
    "predictions = lm.predict(X_test)"
   ]
  },
  {
   "cell_type": "markdown",
   "metadata": {},
   "source": [
    "Using and R_squared score we may look at the accuracy between our predicted values and the actual values."
   ]
  },
  {
   "cell_type": "code",
   "execution_count": 62,
   "metadata": {},
   "outputs": [
    {
     "name": "stdout",
     "output_type": "stream",
     "text": [
      "0.5829786708333465\n"
     ]
    }
   ],
   "source": [
    "print(r2_score(y_test,predictions))"
   ]
  },
  {
   "cell_type": "markdown",
   "metadata": {},
   "source": [
    "We see that our predictions are at 58%, this is not bad, but not great either. We could improve this by adding more features, possibly incoporating market trends for housing, etc."
   ]
  },
  {
   "cell_type": "markdown",
   "metadata": {},
   "source": [
    "Lastly, let's plot our residuals to make sure it is normal and centered around 0."
   ]
  },
  {
   "cell_type": "code",
   "execution_count": 63,
   "metadata": {},
   "outputs": [
    {
     "data": {
      "text/plain": [
       "<matplotlib.axes._subplots.AxesSubplot at 0x250535ba588>"
      ]
     },
     "execution_count": 63,
     "metadata": {},
     "output_type": "execute_result"
    },
    {
     "data": {
      "image/png": "[encoded data removed]",
      "text/plain": [
       "<Figure size 864x576 with 1 Axes>"
      ]
     },
     "metadata": {
      "needs_background": "light"
     },
     "output_type": "display_data"
    }
   ],
   "source": [
    "plt.figure(figsize=(12,8))\n",
    "sns.distplot(predictions-y_test,color='r')"
   ]
  },
  {
   "cell_type": "markdown",
   "metadata": {},
   "source": [
    "Great! We have residuals that look normal and seem to be very close to a mean of 0 indicating a good linear model fit. "
   ]
  },
  {
   "cell_type": "code",
   "execution_count": null,
   "metadata": {},
   "outputs": [],
   "source": []
  }
 ],
 "metadata": {
  "celltoolbar": "Raw Cell Format",
  "kernelspec": {
   "display_name": "Python 3",
   "language": "python",
   "name": "python3"
  },
  "language_info": {
   "codemirror_mode": {
    "name": "ipython",
    "version": 3
   },
   "file_extension": ".py",
   "mimetype": "text/x-python",
   "name": "python",
   "nbconvert_exporter": "python",
   "pygments_lexer": "ipython3",
   "version": "3.6.6"
  }
 },
 "nbformat": 4,
 "nbformat_minor": 2
}
